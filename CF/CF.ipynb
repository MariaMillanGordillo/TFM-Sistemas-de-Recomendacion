{
  "cells": [
    {
      "cell_type": "markdown",
      "metadata": {
        "id": "kyfW9do5L7qN"
      },
      "source": [
        "# Collaborative Filtering"
      ]
    },
    {
      "cell_type": "markdown",
      "metadata": {
        "id": "EdGvN7QZL7qP"
      },
      "source": [
        "## Importación de librerías"
      ]
    },
    {
      "cell_type": "code",
      "execution_count": 1,
      "metadata": {
        "colab": {
          "base_uri": "https://localhost:8080/"
        },
        "id": "RSXdRuMmHEnB",
        "outputId": "5a3d5ab5-b1db-4a1c-e5e7-0d88e7530267"
      },
      "outputs": [
        {
          "name": "stdout",
          "output_type": "stream",
          "text": [
            "2.3.0+cu121\n",
            "12.1\n"
          ]
        }
      ],
      "source": [
        "import torch\n",
        "print(torch.__version__)\n",
        "print(torch.version.cuda)"
      ]
    },
    {
      "cell_type": "code",
      "execution_count": 2,
      "metadata": {
        "colab": {
          "base_uri": "https://localhost:8080/"
        },
        "id": "FP2VokylHP-D",
        "outputId": "53f3a40e-ed2a-4bff-f255-7cb6c3319249"
      },
      "outputs": [
        {
          "name": "stdout",
          "output_type": "stream",
          "text": [
            "Looking in indexes: https://download.pytorch.org/whl/cu121\n",
            "Requirement already satisfied: torch==2.3.0 in /usr/local/lib/python3.11/dist-packages (2.3.0+cu121)\n",
            "Requirement already satisfied: torchvision in /usr/local/lib/python3.11/dist-packages (0.18.0+cu121)\n",
            "Requirement already satisfied: torchaudio in /usr/local/lib/python3.11/dist-packages (2.3.0+cu121)\n",
            "Requirement already satisfied: filelock in /usr/local/lib/python3.11/dist-packages (from torch==2.3.0) (3.18.0)\n",
            "Requirement already satisfied: typing-extensions>=4.8.0 in /usr/local/lib/python3.11/dist-packages (from torch==2.3.0) (4.14.0)\n",
            "Requirement already satisfied: sympy in /usr/local/lib/python3.11/dist-packages (from torch==2.3.0) (1.13.1)\n",
            "Requirement already satisfied: networkx in /usr/local/lib/python3.11/dist-packages (from torch==2.3.0) (3.5)\n",
            "Requirement already satisfied: jinja2 in /usr/local/lib/python3.11/dist-packages (from torch==2.3.0) (3.1.6)\n",
            "Requirement already satisfied: fsspec in /usr/local/lib/python3.11/dist-packages (from torch==2.3.0) (2025.3.2)\n",
            "Requirement already satisfied: nvidia-cuda-nvrtc-cu12==12.1.105 in /usr/local/lib/python3.11/dist-packages (from torch==2.3.0) (12.1.105)\n",
            "Requirement already satisfied: nvidia-cuda-runtime-cu12==12.1.105 in /usr/local/lib/python3.11/dist-packages (from torch==2.3.0) (12.1.105)\n",
            "Requirement already satisfied: nvidia-cuda-cupti-cu12==12.1.105 in /usr/local/lib/python3.11/dist-packages (from torch==2.3.0) (12.1.105)\n",
            "Requirement already satisfied: nvidia-cudnn-cu12==8.9.2.26 in /usr/local/lib/python3.11/dist-packages (from torch==2.3.0) (8.9.2.26)\n",
            "Requirement already satisfied: nvidia-cublas-cu12==12.1.3.1 in /usr/local/lib/python3.11/dist-packages (from torch==2.3.0) (12.1.3.1)\n",
            "Requirement already satisfied: nvidia-cufft-cu12==11.0.2.54 in /usr/local/lib/python3.11/dist-packages (from torch==2.3.0) (11.0.2.54)\n",
            "Requirement already satisfied: nvidia-curand-cu12==10.3.2.106 in /usr/local/lib/python3.11/dist-packages (from torch==2.3.0) (10.3.2.106)\n",
            "Requirement already satisfied: nvidia-cusolver-cu12==11.4.5.107 in /usr/local/lib/python3.11/dist-packages (from torch==2.3.0) (11.4.5.107)\n",
            "Requirement already satisfied: nvidia-cusparse-cu12==12.1.0.106 in /usr/local/lib/python3.11/dist-packages (from torch==2.3.0) (12.1.0.106)\n",
            "Requirement already satisfied: nvidia-nccl-cu12==2.20.5 in /usr/local/lib/python3.11/dist-packages (from torch==2.3.0) (2.20.5)\n",
            "Requirement already satisfied: nvidia-nvtx-cu12==12.1.105 in /usr/local/lib/python3.11/dist-packages (from torch==2.3.0) (12.1.105)\n",
            "Requirement already satisfied: triton==2.3.0 in /usr/local/lib/python3.11/dist-packages (from torch==2.3.0) (2.3.0)\n",
            "Requirement already satisfied: nvidia-nvjitlink-cu12 in /usr/local/lib/python3.11/dist-packages (from nvidia-cusolver-cu12==11.4.5.107->torch==2.3.0) (12.5.82)\n",
            "Requirement already satisfied: numpy in /usr/local/lib/python3.11/dist-packages (from torchvision) (2.0.2)\n",
            "Requirement already satisfied: pillow!=8.3.*,>=5.3.0 in /usr/local/lib/python3.11/dist-packages (from torchvision) (11.2.1)\n",
            "Requirement already satisfied: MarkupSafe>=2.0 in /usr/local/lib/python3.11/dist-packages (from jinja2->torch==2.3.0) (3.0.2)\n",
            "Requirement already satisfied: mpmath<1.4,>=1.1.0 in /usr/local/lib/python3.11/dist-packages (from sympy->torch==2.3.0) (1.3.0)\n"
          ]
        }
      ],
      "source": [
        "# Reinstala PyTorch 2.3.0 con CUDA 12.1 (estable en Colab)\n",
        "!pip install torch==2.3.0 torchvision torchaudio --index-url https://download.pytorch.org/whl/cu121\n",
        "\n",
        "# Instala PyG y extensiones con soporte oficial\n",
        "!pip install -q torch-scatter torch-sparse torch-cluster torch-spline-conv \\\n",
        "  -f https://data.pyg.org/whl/torch-2.3.0+cu121.html\n",
        "!pip install -q torch-geometric"
      ]
    },
    {
      "cell_type": "code",
      "execution_count": 3,
      "metadata": {
        "colab": {
          "base_uri": "https://localhost:8080/"
        },
        "id": "m7l2aPm9KMAh",
        "outputId": "457296ee-8ac7-4013-d98e-1bbeb7d65a27"
      },
      "outputs": [
        {
          "name": "stdout",
          "output_type": "stream",
          "text": [
            "  Preparing metadata (setup.py) ... \u001b[?25l\u001b[?25hdone\n",
            "  Building wheel for deepsnap (setup.py) ... \u001b[?25l\u001b[?25hdone\n"
          ]
        }
      ],
      "source": [
        "!pip install -q git+https://github.com/snap-stanford/deepsnap.git\n",
        "!pip install -U -q PyDrive"
      ]
    },
    {
      "cell_type": "code",
      "execution_count": 4,
      "metadata": {
        "id": "5OBSacx6Q03m"
      },
      "outputs": [],
      "source": [
        "import torch\n",
        "import random\n",
        "import numpy as np\n",
        "import pandas as pd\n",
        "from tqdm import tqdm\n",
        "import matplotlib.pyplot as plt\n",
        "\n",
        "from sklearn.model_selection import train_test_split\n",
        "\n",
        "from torch import nn, optim, Tensor\n",
        "from torch_sparse import SparseTensor, matmul\n",
        "\n",
        "from torch_geometric.utils import structured_negative_sampling\n",
        "from torch_geometric.nn.conv.gcn_conv import gcn_norm\n",
        "from torch_geometric.nn.conv import MessagePassing\n"
      ]
    },
    {
      "cell_type": "markdown",
      "metadata": {
        "id": "8mZ6-zPxPklE"
      },
      "source": [
        "## Carga de datos"
      ]
    },
    {
      "cell_type": "markdown",
      "metadata": {
        "id": "4YR6zOgBL7qU"
      },
      "source": [
        "### Definición de funciones"
      ]
    },
    {
      "cell_type": "markdown",
      "metadata": {
        "id": "i-pEew9IL7qU"
      },
      "source": [
        "Comenzamos definiendo las funciones necesarias para construir los nodos y las aristas del grafo a partir de los datos de usuarios, libros e interacciones."
      ]
    },
    {
      "cell_type": "code",
      "execution_count": 5,
      "metadata": {
        "id": "IRcrJtxOL7qU"
      },
      "outputs": [],
      "source": [
        "# Cargar nodos de usuarios y libros\n",
        "def load_node_csv(path, index_col):\n",
        "    \"\"\"\n",
        "    Carga un CSV que contiene información sobre los nodos.\n",
        "\n",
        "    Args:\n",
        "        path (str): Ruta al archivo CSV.\n",
        "        index_col (str): Nombre de la columna que se usará como índice.\n",
        "\n",
        "    Returns:\n",
        "        dict: Diccionario que mapea los valores del índice del CSV a IDs de nodo.\n",
        "    \"\"\"\n",
        "    df = pd.read_csv(path, index_col=index_col)\n",
        "    mapping = {index: i for i, index in enumerate(df.index.unique())}\n",
        "    return mapping\n",
        "\n",
        "# Cargar aristas entre usuarios y libros\n",
        "def load_edge_csv(df, src_index_col, src_mapping, dst_index_col, dst_mapping, link_index_col, rating_threshold=4):\n",
        "    \"\"\"\n",
        "    Carga aristas entre usuarios e ítems (por ejemplo, libros) a partir de un DataFrame.\n",
        "\n",
        "    Args:\n",
        "        df (DataFrame): DataFrame que contiene las interacciones usuario-ítem.\n",
        "        src_index_col (str): Nombre de la columna con los IDs de usuario.\n",
        "        src_mapping (dict): Diccionario que mapea los IDs de usuario a índices de nodo.\n",
        "        dst_index_col (str): Nombre de la columna con los IDs de ítems.\n",
        "        dst_mapping (dict): Diccionario que mapea los IDs de ítems a índices de nodo.\n",
        "        link_index_col (str): Nombre de la columna que contiene la interacción (por ejemplo, rating).\n",
        "        rating_threshold (int, opcional): Umbral mínimo para considerar una interacción como positiva. Por defecto es 4.\n",
        "\n",
        "    Returns:\n",
        "        torch.Tensor: Matriz 2xN que contiene los pares de nodos conectados por N aristas.\n",
        "    \"\"\"\n",
        "    src = [src_mapping[index] for index in df[src_index_col]]\n",
        "    dst = [dst_mapping[index] for index in df[dst_index_col]]\n",
        "    edge_attr = torch.from_numpy(df[link_index_col].values).view(-1, 1).to(torch.long) >= rating_threshold\n",
        "\n",
        "    edge_index = [[], []]\n",
        "    for i in range(edge_attr.shape[0]):\n",
        "        if edge_attr[i]:\n",
        "            edge_index[0].append(src[i])\n",
        "            edge_index[1].append(dst[i])\n",
        "\n",
        "    return torch.tensor(edge_index)"
      ]
    },
    {
      "cell_type": "markdown",
      "metadata": {
        "id": "KkTXSLDXL7qV"
      },
      "source": [
        "Implementamos una función que realiza muestreo estructurado negativo para generar mini-batches compuestos por usuarios, ítems positivos e ítems negativos, necesarios para entrenar el modelo basado en grafos."
      ]
    },
    {
      "cell_type": "code",
      "execution_count": 6,
      "metadata": {
        "id": "ZWfXTMjQL7qV"
      },
      "outputs": [],
      "source": [
        "# Función que selecciona aleatoriamente un mini-lote de muestras positivas y negativas\n",
        "def sample_mini_batch(batch_size, edge_index):\n",
        "    \"\"\"\n",
        "    Selecciona aleatoriamente los índices de un mini-lote dado un grafo de adyacencia.\n",
        "\n",
        "    Args:\n",
        "        batch_size (int): tamaño del mini-lote\n",
        "        edge_index (torch.Tensor): matriz 2 x N con los bordes del grafo\n",
        "\n",
        "    Returns:\n",
        "        tuple: índices de usuarios, índices de ítems positivos, índices de ítems negativos\n",
        "    \"\"\"\n",
        "    edges = structured_negative_sampling(edge_index)\n",
        "    edges = torch.stack(edges, dim=0)\n",
        "    indices = random.choices([i for i in range(edges[0].shape[0])], k=batch_size)\n",
        "    batch = edges[:, indices]\n",
        "    user_indices, pos_item_indices, neg_item_indices = batch[0], batch[1], batch[2]\n",
        "    return user_indices, pos_item_indices, neg_item_indices"
      ]
    },
    {
      "cell_type": "markdown",
      "metadata": {
        "id": "JTaQIIlGL7qW"
      },
      "source": [
        "### Cargamos y filtramos los datos"
      ]
    },
    {
      "cell_type": "code",
      "execution_count": 7,
      "metadata": {
        "id": "dZkyHrgq4ZG_"
      },
      "outputs": [],
      "source": [
        "user_id_path = '/content/user_id_map.csv'\n",
        "book_id_path = '/content/book_id_map.csv'\n",
        "interactions_path = '/content/interactions_filtered.csv'\n",
        "books_path = '/content/books_authors_genres.csv'"
      ]
    },
    {
      "cell_type": "code",
      "execution_count": 8,
      "metadata": {
        "id": "JhtJn8Oh7ZA9"
      },
      "outputs": [],
      "source": [
        "interactions = pd.read_csv(interactions_path)\n",
        "books = pd.read_csv(books_path)"
      ]
    },
    {
      "cell_type": "markdown",
      "metadata": {
        "id": "cwUCWmk6L7qY"
      },
      "source": [
        "Aplicamos un filtrado para eliminar ítems con pocas interacciones y usuarios poco activos, mejorando así la calidad del grafo de interacciones. Esto reduce la dispersión y mejora el aprendizaje del modelo."
      ]
    },
    {
      "cell_type": "code",
      "execution_count": 9,
      "metadata": {
        "colab": {
          "base_uri": "https://localhost:8080/"
        },
        "id": "DC_pTUUfVZ1c",
        "outputId": "7ac5fe21-b3da-4827-896f-80d8e3130f45"
      },
      "outputs": [
        {
          "name": "stdout",
          "output_type": "stream",
          "text": [
            "Interactions filtrado: (16803, 5)\n",
            "num_users=3310, num_items=947\n"
          ]
        }
      ],
      "source": [
        "item_inter_counts = interactions.groupby(\"book_id\").size()\n",
        "popular_books = item_inter_counts[item_inter_counts >= 10].index\n",
        "interactions = interactions[interactions[\"book_id\"].isin(popular_books)]\n",
        "\n",
        "user_inter_counts = interactions.groupby('user_id').size()\n",
        "active_users = user_inter_counts[user_inter_counts >= 4].index\n",
        "interactions = interactions[interactions['user_id'].isin(active_users)]\n",
        "\n",
        "print(f\"Interactions filtrado: {interactions.shape}\")\n",
        "\n",
        "num_users = interactions['user_id'].nunique()\n",
        "num_items = interactions['book_id'].nunique()\n",
        "print(f\"{num_users=}, {num_items=}\")"
      ]
    },
    {
      "cell_type": "markdown",
      "metadata": {
        "id": "eu-dzOOqL7qZ"
      },
      "source": [
        "Aplicamos las funciones para crear los nodos y las aristas."
      ]
    },
    {
      "cell_type": "code",
      "execution_count": 10,
      "metadata": {
        "id": "icRx9ghUL7qZ"
      },
      "outputs": [],
      "source": [
        "user_mapping = load_node_csv(user_id_path, index_col='user_id_csv')\n",
        "book_mapping = load_node_csv(book_id_path, index_col='book_id_csv')"
      ]
    },
    {
      "cell_type": "code",
      "execution_count": 11,
      "metadata": {
        "colab": {
          "base_uri": "https://localhost:8080/"
        },
        "id": "180oZoqtL7qa",
        "outputId": "4fe2d8dd-9bd7-4f30-f9e4-9722822fb628"
      },
      "outputs": [
        {
          "name": "stdout",
          "output_type": "stream",
          "text": [
            "edge_index: tensor([[    14,     14,     14,  ..., 873215, 873215, 873215],\n",
            "        [ 11831,  10943,  10570,  ...,  39638,  39637,  39640]])\n",
            "edge_index.shape: torch.Size([2, 16803])\n"
          ]
        }
      ],
      "source": [
        "edge_index = load_edge_csv(\n",
        "    interactions,\n",
        "    src_index_col='user_id',\n",
        "    src_mapping=user_mapping,\n",
        "    dst_index_col='book_id',\n",
        "    dst_mapping=book_mapping,\n",
        "    link_index_col='rating',\n",
        "    rating_threshold=4\n",
        ")\n",
        "\n",
        "# Verifica la forma de edge_index\n",
        "print(\"edge_index:\", edge_index)\n",
        "print(\"edge_index.shape:\", edge_index.shape)"
      ]
    },
    {
      "cell_type": "markdown",
      "metadata": {
        "id": "nhADXoQ-L7qa"
      },
      "source": [
        "Dividimos las interacciones del grafo entre usuarios y libros en tres subconjuntos: entrenamiento, validación y prueba, siguiendo una proporción del 80%, 10% y 10% respectivamente."
      ]
    },
    {
      "cell_type": "code",
      "execution_count": 12,
      "metadata": {
        "id": "wIueYZfaT6_H"
      },
      "outputs": [],
      "source": [
        "# Dividir los bordes del grafo en un 80/10/10 para entrenamiento, validación y prueba\n",
        "num_users, num_books = len(user_mapping), len(book_mapping)\n",
        "num_interacciones = edge_index.shape[1]\n",
        "todos_los_indices = [i for i in range(num_interacciones)]\n",
        "\n",
        "# 80% entrenamiento, 10% validación y 10% prueba\n",
        "train_indices, test_indices = train_test_split(todos_los_indices, test_size=0.2, random_state=1)\n",
        "val_indices, test_indices = train_test_split(test_indices, test_size=0.5, random_state=1)\n",
        "\n",
        "train_edge_index = edge_index[:, train_indices]\n",
        "val_edge_index = edge_index[:, val_indices]\n",
        "test_edge_index = edge_index[:, test_indices]"
      ]
    },
    {
      "cell_type": "code",
      "execution_count": 13,
      "metadata": {
        "colab": {
          "base_uri": "https://localhost:8080/"
        },
        "id": "fvtd0QIz7xFI",
        "outputId": "f5339680-0215-467a-8ca1-6335fb975d10"
      },
      "outputs": [
        {
          "name": "stdout",
          "output_type": "stream",
          "text": [
            "train_edge_index.shape: torch.Size([2, 13442])\n",
            "val_edge_index.shape: torch.Size([2, 1680])\n",
            "test_edge_index.shape: torch.Size([2, 1681])\n"
          ]
        }
      ],
      "source": [
        "print(\"train_edge_index.shape:\", train_edge_index.shape)\n",
        "print(\"val_edge_index.shape:\", val_edge_index.shape)\n",
        "print(\"test_edge_index.shape:\", test_edge_index.shape)"
      ]
    },
    {
      "cell_type": "markdown",
      "metadata": {
        "id": "Q3R9otM0L7qb"
      },
      "source": [
        "Convertimos los índices de los bordes del grafo en tensores dispersos (SparseTensor) para optimizar el almacenamiento y las operaciones sobre grafos grandes."
      ]
    },
    {
      "cell_type": "code",
      "execution_count": 14,
      "metadata": {
        "id": "U5yKILBJUAN6"
      },
      "outputs": [],
      "source": [
        "train_sparse_edge_index = SparseTensor(\n",
        "    row=train_edge_index[0],\n",
        "    col=train_edge_index[1],\n",
        "    sparse_sizes=(num_users + num_books, num_users + num_books)\n",
        ")\n",
        "\n",
        "val_sparse_edge_index = SparseTensor(\n",
        "    row=val_edge_index[0],\n",
        "    col=val_edge_index[1],\n",
        "    sparse_sizes=(num_users + num_books, num_users + num_books)\n",
        ")\n",
        "\n",
        "test_sparse_edge_index = SparseTensor(\n",
        "    row=test_edge_index[0],\n",
        "    col=test_edge_index[1],\n",
        "    sparse_sizes=(num_users + num_books, num_users + num_books)\n",
        ")"
      ]
    },
    {
      "cell_type": "markdown",
      "metadata": {
        "id": "JOB5kDmtUrUY"
      },
      "source": [
        "## Implementación de LightGCN"
      ]
    },
    {
      "cell_type": "markdown",
      "metadata": {
        "id": "od8fjtTSL7qc"
      },
      "source": [
        "### Definición del modelo"
      ]
    },
    {
      "cell_type": "markdown",
      "metadata": {
        "id": "-SHCiS35L7qc"
      },
      "source": [
        "A continuación, definimos el modelo LightGCN (Light Graph Convolutional Network), una red neuronal propuesta en el artículo LightGCN: Simplifying and Powering Graph Convolution Network for Recommendation.\n",
        "\n",
        "Este modelo está diseñado específicamente para sistemas de recomendación, eliminando componentes innecesarios como funciones de activación o capas de proyección, y enfocándose únicamente en la agregación de embeddings a lo largo de un grafo bipartito de usuarios e ítems.\n",
        "\n",
        "La idea principal es realizar una propagación de mensajes ligera a través del grafo para capturar la estructura de las interacciones.\n",
        "El modelo inicializa embeddings para usuarios e ítems, y luego los actualiza mediante varias capas de propagación sobre la matriz de adyacencia normalizada. Finalmente, se promedia la información agregada en cada capa para obtener una representación final que captura diferentes niveles de conectividad."
      ]
    },
    {
      "cell_type": "code",
      "execution_count": 15,
      "metadata": {
        "id": "o9GvYg9ehDOX"
      },
      "outputs": [],
      "source": [
        "# Definimos el modelo LightGCN\n",
        "class LightGCN(MessagePassing):\n",
        "    \"\"\"\n",
        "    Modelo LightGCN propuesto en https://arxiv.org/abs/2002.02126\n",
        "    \"\"\"\n",
        "\n",
        "    def __init__(self, num_users, num_items, embedding_dim=16, K=2, add_self_loops=False):\n",
        "        \"\"\"\n",
        "        Inicializa el modelo LightGCN.\n",
        "\n",
        "        Args:\n",
        "            num_users (int): Número de usuarios\n",
        "            num_items (int): Número de ítems (libros)\n",
        "            embedding_dim (int, opcional): Dimensión de los embeddings. Por defecto 16.\n",
        "            K (int, opcional): Número de capas de propagación de mensajes. Por defecto 2.\n",
        "            add_self_loops (bool, opcional): Si se añaden bucles propios en la propagación. Por defecto False.\n",
        "        \"\"\"\n",
        "        super().__init__()\n",
        "        self.num_users, self.num_items = num_users, num_items\n",
        "        self.embedding_dim, self.K = embedding_dim, K\n",
        "        self.add_self_loops = add_self_loops\n",
        "\n",
        "        # Embeddings iniciales de usuarios e ítems: e_u^0 y e_i^0\n",
        "        self.users_emb = nn.Embedding(num_embeddings=self.num_users, embedding_dim=self.embedding_dim)\n",
        "        self.items_emb = nn.Embedding(num_embeddings=self.num_items, embedding_dim=self.embedding_dim)\n",
        "\n",
        "        # Inicializamos los embeddings de usuarios e ítems con una distribución normal\n",
        "        nn.init.normal_(self.users_emb.weight, std=0.1)\n",
        "        nn.init.normal_(self.items_emb.weight, std=0.1)\n",
        "\n",
        "    def forward(self, edge_index: SparseTensor):\n",
        "        \"\"\"\n",
        "        Propagación hacia adelante del modelo LightGCN.\n",
        "\n",
        "        Args:\n",
        "            edge_index (SparseTensor): Matriz de adyacencia\n",
        "\n",
        "        Returns:\n",
        "            tuple (Tensor): Embeddings finales y originales de usuarios e ítems (e_u^K, e_u^0, e_i^K, e_i^0)\n",
        "        \"\"\"\n",
        "        # Calculamos \\tilde{A}: matriz de adyacencia normalizada simétricamente\n",
        "        edge_index_norm = gcn_norm(edge_index, add_self_loops=self.add_self_loops)\n",
        "\n",
        "        # Embedding inicial conjunto E^0 (usuarios + ítems)\n",
        "        emb_0 = torch.cat([self.users_emb.weight, self.items_emb.weight])\n",
        "        embs = [emb_0]\n",
        "        emb_k = emb_0\n",
        "\n",
        "        # Propagación por K capas\n",
        "        for i in range(self.K):\n",
        "            emb_k = self.propagate(edge_index_norm, x=emb_k)\n",
        "            embs.append(emb_k)\n",
        "\n",
        "        # Promedio de los embeddings generados en cada capa (E^K)\n",
        "        embs = torch.stack(embs, dim=1)\n",
        "        emb_final = torch.mean(embs, dim=1)\n",
        "\n",
        "        # Separamos e_u^K y e_i^K (representaciones finales de usuarios e ítems)\n",
        "        users_emb_final, items_emb_final = torch.split(emb_final, [self.num_users, self.num_items])\n",
        "\n",
        "        # Devolvemos embeddings finales y los embeddings originales (iniciales)\n",
        "        return users_emb_final, self.users_emb.weight, items_emb_final, self.items_emb.weight\n",
        "\n",
        "    def message(self, x_j: Tensor) -> Tensor:\n",
        "        \"\"\"Devuelve los mensajes recibidos de los nodos vecinos.\"\"\"\n",
        "        return x_j\n",
        "\n",
        "    def message_and_aggregate(self, adj_t: SparseTensor, x: Tensor) -> Tensor:\n",
        "        \"\"\"Multiplica la matriz de adyacencia normalizada con los embeddings.\"\"\"\n",
        "        return matmul(adj_t, x)\n",
        "\n",
        "# Instanciamos el modelo\n",
        "model = LightGCN(num_users, num_books)"
      ]
    },
    {
      "cell_type": "markdown",
      "metadata": {
        "id": "My8eqloiBccE"
      },
      "source": [
        "### Función de pérdida"
      ]
    },
    {
      "cell_type": "markdown",
      "metadata": {
        "id": "Q1iPZB29L7qd"
      },
      "source": [
        "Utilizamos la pérdida `Bayesian Personalized Ranking (BPR)`, una función de tipo comparativa por pares que favorece que, para cada usuario, las predicciones asociadas a ejemplos positivos sean más altas que las de los ejemplos negativos."
      ]
    },
    {
      "cell_type": "code",
      "execution_count": 16,
      "metadata": {
        "id": "QmPs1xS-BYfe"
      },
      "outputs": [],
      "source": [
        "def bpr_loss(users_emb_final, users_emb_0, pos_items_emb_final, pos_items_emb_0, neg_items_emb_final, neg_items_emb_0, lambda_val):\n",
        "    \"\"\"\n",
        "    Función de pérdida Bayesian Personalized Ranking, descrita en https://arxiv.org/abs/1205.2618\n",
        "\n",
        "    Args:\n",
        "        users_emb_final (torch.Tensor): e_u_k\n",
        "        users_emb_0 (torch.Tensor): e_u_0\n",
        "        pos_items_emb_final (torch.Tensor): e_i_k de los ítems positivos\n",
        "        pos_items_emb_0 (torch.Tensor): e_i_0 de los ítems positivos\n",
        "        neg_items_emb_final (torch.Tensor): e_i_k de los ítems negativos\n",
        "        neg_items_emb_0 (torch.Tensor): e_i_0 de los ítems negativos\n",
        "        lambda_val (float): valor lambda para el término de regularización\n",
        "\n",
        "    Returns:\n",
        "        torch.Tensor: valor escalar de la pérdida BPR\n",
        "    \"\"\"\n",
        "    reg_loss = lambda_val * (users_emb_0.norm(2).pow(2) +\n",
        "                             pos_items_emb_0.norm(2).pow(2) +\n",
        "                             neg_items_emb_0.norm(2).pow(2))  # Pérdida L2\n",
        "\n",
        "    pos_scores = torch.mul(users_emb_final, pos_items_emb_final)\n",
        "    pos_scores = torch.sum(pos_scores, dim=-1)  # Puntuaciones predichas de los ejemplos positivos\n",
        "    neg_scores = torch.mul(users_emb_final, neg_items_emb_final)\n",
        "    neg_scores = torch.sum(neg_scores, dim=-1)  # Puntuaciones predichas de los ejemplos negativos\n",
        "\n",
        "    loss = -torch.mean(torch.nn.functional.softplus(pos_scores - neg_scores)) + reg_loss\n",
        "\n",
        "    return loss"
      ]
    },
    {
      "cell_type": "markdown",
      "metadata": {
        "id": "CS7HVr3qLQGx"
      },
      "source": [
        "### Métricas de evaluación"
      ]
    },
    {
      "cell_type": "markdown",
      "metadata": {
        "id": "S1SNP_KKL7qf"
      },
      "source": [
        "Para evaluar la el sistema de recomendación, empleamos métricas estándar centradas en las primeras posiciones del ranking generado para cada usuario. Concretamente, utilizamos `precisión@20`, `recall@20` y `nDCG@20`, que nos permiten medir tanto la relevancia como la ordenación de los ítems recomendados. Estas métricas se enfocan en los 20 primeros elementos recomendados."
      ]
    },
    {
      "cell_type": "code",
      "execution_count": 17,
      "metadata": {
        "id": "nHO2gdhRSwzJ"
      },
      "outputs": [],
      "source": [
        "# Función auxiliar para obtener N_u (ítems positivos por usuario)\n",
        "def get_user_positive_items(edge_index):\n",
        "    \"\"\"\n",
        "    Genera un diccionario con los ítems positivos para cada usuario\n",
        "\n",
        "    Args:\n",
        "        edge_index (torch.Tensor): lista de aristas de tamaño 2 por N\n",
        "\n",
        "    Returns:\n",
        "        dict: diccionario con los ítems positivos de cada usuario\n",
        "    \"\"\"\n",
        "    user_pos_items = {}\n",
        "    for i in range(edge_index.shape[1]):\n",
        "        user = edge_index[0][i].item()\n",
        "        item = edge_index[1][i].item()\n",
        "        if user not in user_pos_items:\n",
        "            user_pos_items[user] = []\n",
        "        user_pos_items[user].append(item)\n",
        "    return user_pos_items"
      ]
    },
    {
      "cell_type": "code",
      "execution_count": 18,
      "metadata": {
        "id": "8We4BTtfS4NV"
      },
      "outputs": [],
      "source": [
        "# Calcula recall@K y precision@K\n",
        "def RecallPrecision_ATk(groundTruth, r, k):\n",
        "    \"\"\"\n",
        "    Calcula recall @ k y precision @ k\n",
        "\n",
        "    Args:\n",
        "        groundTruth (list): lista de listas con los ítems altamente valorados por cada usuario\n",
        "        r (list): lista de listas que indica si cada ítem recomendado en top k para cada usuario\n",
        "            es un ítem relevante en el top k ground truth o no\n",
        "        k (int): determina los primeros k ítems para calcular precision y recall\n",
        "\n",
        "    Returns:\n",
        "        tuple: recall @ k, precision @ k\n",
        "    \"\"\"\n",
        "    num_correct_pred = torch.sum(r, dim=-1)  # Número de ítems correctamente predichos por usuario\n",
        "    # Número de ítems que cada usuario valoró positivamente en el conjunto de prueba\n",
        "    user_num_liked = torch.Tensor([len(groundTruth[i])\n",
        "                                  for i in range(len(groundTruth))])\n",
        "    recall = torch.mean(num_correct_pred / user_num_liked)\n",
        "    precision = torch.mean(num_correct_pred) / k\n",
        "    return recall.item(), precision.item()"
      ]
    },
    {
      "cell_type": "code",
      "execution_count": 19,
      "metadata": {
        "id": "9v4A3Ek4TE02"
      },
      "outputs": [],
      "source": [
        "# Calcula NDCG@K\n",
        "def NDCGatK_r(groundTruth, r, k):\n",
        "    \"\"\"\n",
        "    Calcula Normalized Discounted Cumulative Gain (NDCG) @ k\n",
        "\n",
        "    Args:\n",
        "        groundTruth (list): lista de listas con los ítems altamente valorados por cada usuario\n",
        "        r (list): lista de listas que indica si cada ítem recomendado en top k para cada usuario\n",
        "            es un ítem relevante en el top k ground truth o no\n",
        "        k (int): determina los primeros k ítems para calcular ndcg\n",
        "\n",
        "    Returns:\n",
        "        float: ndcg @ k\n",
        "    \"\"\"\n",
        "    assert len(r) == len(groundTruth)\n",
        "\n",
        "    test_matrix = torch.zeros((len(r), k))\n",
        "\n",
        "    for i, items in enumerate(groundTruth):\n",
        "        length = min(len(items), k)\n",
        "        test_matrix[i, :length] = 1\n",
        "    max_r = test_matrix\n",
        "    idcg = torch.sum(max_r * 1. / torch.log2(torch.arange(2, k + 2)), axis=1)\n",
        "    dcg = r * (1. / torch.log2(torch.arange(2, k + 2)))\n",
        "    dcg = torch.sum(dcg, axis=1)\n",
        "    idcg[idcg == 0.] = 1.\n",
        "    ndcg = dcg / idcg\n",
        "    ndcg[torch.isnan(ndcg)] = 0.\n",
        "    return torch.mean(ndcg).item()"
      ]
    },
    {
      "cell_type": "markdown",
      "metadata": {
        "id": "2Dffbbc8L7qg"
      },
      "source": [
        "Definimos la función que evalúa en batches las métricas recall, precisión y NDCG para evitar problemas de memoria, procesando recomendaciones para un conjunto de usuarios."
      ]
    },
    {
      "cell_type": "code",
      "execution_count": 20,
      "metadata": {
        "id": "x6_741LlTMwI"
      },
      "outputs": [],
      "source": [
        "def get_metrics(model, edge_index, exclude_edge_indices, k, batch_size=512):\n",
        "    \"\"\"\n",
        "    Calcula las métricas de evaluación en batches para evitar desbordamiento de memoria.\n",
        "\n",
        "    Esta función evalúa el desempeño del modelo LightGCN calculando las métricas\n",
        "    de recall, precisión y NDCG en el top-k ítems recomendados para cada usuario.\n",
        "    Para manejar grandes conjuntos de datos, realiza el cálculo en lotes (batches)\n",
        "    de usuarios, excluyendo ítems ya vistos en entrenamiento para evitar sesgos en la evaluación.\n",
        "\n",
        "    Args:\n",
        "        model (LightGCN): modelo LightGCN entrenado\n",
        "        edge_index (torch.Tensor): lista 2 x N de aristas para el conjunto a evaluar\n",
        "        exclude_edge_indices (list[torch.Tensor]): lista de aristas a excluir del ranking (por ejemplo, entrenamiento)\n",
        "        k (int): número de ítems top-k para evaluar\n",
        "        batch_size (int): número de usuarios por lote\n",
        "\n",
        "    Returns:\n",
        "        tuple: recall @ k, precisión @ k, ndcg @ k\n",
        "    \"\"\"\n",
        "    user_embedding = model.users_emb.weight.detach()\n",
        "    item_embedding = model.items_emb.weight.detach()\n",
        "\n",
        "    num_users = user_embedding.shape[0]\n",
        "    users = edge_index[0].unique()\n",
        "\n",
        "    test_user_pos_items = get_user_positive_items(edge_index)\n",
        "    test_user_pos_items_list = [test_user_pos_items[user.item()] for user in users]\n",
        "\n",
        "    recall_list = []\n",
        "    precision_list = []\n",
        "    ndcg_list = []\n",
        "\n",
        "    for start in range(0, len(users), batch_size):\n",
        "        end = min(start + batch_size, len(users))\n",
        "        batch_users = users[start:end]\n",
        "\n",
        "        batch_user_emb = user_embedding[batch_users]  # (batch, emb_size)\n",
        "        rating = torch.matmul(batch_user_emb, item_embedding.T)  # (batch, num_items)\n",
        "\n",
        "        # Excluir ítems vistos en entrenamiento de la recomendación\n",
        "        for exclude_edge_index in exclude_edge_indices:\n",
        "            user_pos_items = get_user_positive_items(exclude_edge_index)\n",
        "            for i, user in enumerate(batch_users):\n",
        "                uid = user.item()\n",
        "                if uid in user_pos_items:\n",
        "                    rating[i, user_pos_items[uid]] = -(1 << 10)  # Excluir\n",
        "\n",
        "        _, top_K_items = torch.topk(rating, k=k)  # (batch, k)\n",
        "\n",
        "        r = []\n",
        "        for i, user in enumerate(batch_users):\n",
        "            uid = user.item()\n",
        "            ground_truth_items = test_user_pos_items[uid]\n",
        "            label = [item in ground_truth_items for item in top_K_items[i]]\n",
        "            r.append(label)\n",
        "\n",
        "        r = torch.tensor(np.array(r).astype('float'))\n",
        "\n",
        "        # Calcular métricas para el batch\n",
        "        batch_ground_truth = [test_user_pos_items[user.item()] for user in batch_users]\n",
        "        batch_recall, batch_precision = RecallPrecision_ATk(batch_ground_truth, r, k)\n",
        "        batch_ndcg = NDCGatK_r(batch_ground_truth, r, k)\n",
        "\n",
        "        recall_list.append(batch_recall)\n",
        "        precision_list.append(batch_precision)\n",
        "        ndcg_list.append(batch_ndcg)\n",
        "\n",
        "    # Promedio de métricas entre batches\n",
        "    recall = sum(recall_list) / len(recall_list)\n",
        "    precision = sum(precision_list) / len(precision_list)\n",
        "    ndcg = sum(ndcg_list) / len(ndcg_list)\n",
        "\n",
        "    return recall, precision, ndcg"
      ]
    },
    {
      "cell_type": "markdown",
      "metadata": {
        "id": "FsMCd0iAL7qh"
      },
      "source": [
        "Definimos la función que realiza la evaluación completa del modelo, calculando la pérdida BPR y las métricas recall, precisión y NDCG sobre el conjunto de evaluación."
      ]
    },
    {
      "cell_type": "code",
      "execution_count": 21,
      "metadata": {
        "id": "yr_qESXASsVw"
      },
      "outputs": [],
      "source": [
        "def evaluation(model, edge_index, sparse_edge_index, exclude_edge_indices, k, lambda_val):\n",
        "    \"\"\"\n",
        "    Evalúa la pérdida del modelo y las métricas incluyendo recall, precisión y ndcg @ k\n",
        "\n",
        "    Args:\n",
        "        model (LightGCN): modelo LightGCN\n",
        "        edge_index (torch.Tensor): lista 2 x N de aristas para el conjunto a evaluar\n",
        "        sparse_edge_index (sparseTensor): matriz de adyacencia dispersa para el conjunto a evaluar\n",
        "        exclude_edge_indices ([tipo]): lista 2 x N de aristas para excluir de la evaluación\n",
        "        k (int): determina el top k de ítems para calcular las métricas\n",
        "        lambda_val (float): valor lambda para la pérdida BPR\n",
        "\n",
        "    Returns:\n",
        "        tuple: pérdida BPR, recall @ k, precisión @ k, ndcg @ k\n",
        "    \"\"\"\n",
        "    # Obtener embeddings\n",
        "    users_emb_final, users_emb_0, items_emb_final, items_emb_0 = model.forward(sparse_edge_index)\n",
        "\n",
        "    edges = structured_negative_sampling(edge_index, contains_neg_self_loops=False)\n",
        "\n",
        "    user_indices, pos_item_indices, neg_item_indices = edges[0], edges[1], edges[2]\n",
        "    users_emb_final, users_emb_0 = users_emb_final[user_indices], users_emb_0[user_indices]\n",
        "    pos_items_emb_final, pos_items_emb_0 = items_emb_final[pos_item_indices], items_emb_0[pos_item_indices]\n",
        "    neg_items_emb_final, neg_items_emb_0 = items_emb_final[neg_item_indices], items_emb_0[neg_item_indices]\n",
        "\n",
        "    loss = bpr_loss(users_emb_final, users_emb_0, pos_items_emb_final, pos_items_emb_0, neg_items_emb_final, neg_items_emb_0, lambda_val).item()\n",
        "\n",
        "    recall, precision, ndcg = get_metrics(model, edge_index, exclude_edge_indices, k, batch_size = 128)\n",
        "\n",
        "    return loss, recall, precision, ndcg"
      ]
    },
    {
      "cell_type": "markdown",
      "metadata": {
        "id": "NYw1cUgPTjws"
      },
      "source": [
        "## Entrenamiento"
      ]
    },
    {
      "cell_type": "markdown",
      "metadata": {
        "id": "a_hGYor7L7qi"
      },
      "source": [
        "Definimos las variables para los parámetros clave para el entrenamiento y evaluación del modelo."
      ]
    },
    {
      "cell_type": "code",
      "execution_count": 22,
      "metadata": {
        "id": "MQL2W-NQTeFd"
      },
      "outputs": [],
      "source": [
        "ITERATIONS = 20000\n",
        "ITERS_PER_EVAL = 200\n",
        "ITERS_PER_LR_DECAY = 200\n",
        "K = 20\n",
        "LAMBDA = 1e-6\n",
        "\n",
        "# Hiperparámetros optimizados de CF\n",
        "BATCH_SIZE = 1024\n",
        "LR = 1e-3\n",
        "LAYERS = 2\n",
        "EMBEDDING_DIM = 32"
      ]
    },
    {
      "cell_type": "markdown",
      "metadata": {
        "id": "md7elk0bL7qi"
      },
      "source": [
        "Realizamos la configuración inicial para el entrenamiento."
      ]
    },
    {
      "cell_type": "code",
      "execution_count": 23,
      "metadata": {
        "colab": {
          "base_uri": "https://localhost:8080/"
        },
        "id": "49JDkBtKTfE-",
        "outputId": "b4ed8920-d619-46bb-e266-c8accc206809"
      },
      "outputs": [
        {
          "name": "stdout",
          "output_type": "stream",
          "text": [
            "Using device cuda.\n"
          ]
        }
      ],
      "source": [
        "# Configura el dispositivo: usa GPU si está disponible, sino CPU.\n",
        "device = torch.device('cuda' if torch.cuda.is_available() else 'cpu')\n",
        "print(f\"Using device {device}.\")\n",
        "\n",
        "# Mueve el modelo al dispositivo y lo pone en modo entrenamiento.\n",
        "model = model.to(device)\n",
        "model.train()\n",
        "\n",
        "# Configura el optimizador Adam con tasa de aprendizaje definida.\n",
        "optimizer = optim.Adam(model.parameters(), lr=LR)\n",
        "\n",
        "# Reducción de la tasa de aprendizaje de forma exponencial durante el entrenamiento.\n",
        "scheduler = optim.lr_scheduler.ExponentialLR(optimizer, gamma=0.95)\n",
        "\n",
        "# Mueve los índices de aristas al dispositivo para entrenamiento y validación.\n",
        "edge_index = edge_index.to(device)\n",
        "train_edge_index = train_edge_index.to(device)\n",
        "train_sparse_edge_index = train_sparse_edge_index.to(device)\n",
        "val_edge_index = val_edge_index.to(device)\n",
        "val_sparse_edge_index = val_sparse_edge_index.to(device)"
      ]
    },
    {
      "cell_type": "markdown",
      "metadata": {
        "id": "EiIh39SQL7qj"
      },
      "source": [
        "Llevamos a cabo el entrenamiento del modelo, donde en cada iteración se calcula la pérdida con mini batches, se actualizan los parámetros, y periódicamente se evalúa el rendimiento en el conjunto de validación."
      ]
    },
    {
      "cell_type": "code",
      "execution_count": 24,
      "metadata": {
        "colab": {
          "base_uri": "https://localhost:8080/"
        },
        "id": "wYjrDp1w-hiP",
        "outputId": "b0c7bdff-b19b-435b-c1eb-e6e82c14717a"
      },
      "outputs": [
        {
          "name": "stdout",
          "output_type": "stream",
          "text": [
            "[Iteración 200/20000] train_loss: -0.69595, val_loss: -0.69268, val_recall@20: 0.00178, val_precision@20: 0.00011, val_ndcg@20: 0.00099\n",
            "[Iteración 400/20000] train_loss: -0.70814, val_loss: -0.69779, val_recall@20: 0.17772, val_precision@20: 0.0112, val_ndcg@20: 0.12491\n",
            "[Iteración 600/20000] train_loss: -0.74501, val_loss: -0.71682, val_recall@20: 0.32276, val_precision@20: 0.02033, val_ndcg@20: 0.20263\n",
            "[Iteración 800/20000] train_loss: -0.82467, val_loss: -0.75928, val_recall@20: 0.39314, val_precision@20: 0.02467, val_ndcg@20: 0.24151\n",
            "[Iteración 1000/20000] train_loss: -0.9398, val_loss: -0.83137, val_recall@20: 0.42714, val_precision@20: 0.02664, val_ndcg@20: 0.26129\n",
            "[Iteración 1200/20000] train_loss: -1.07662, val_loss: -0.93219, val_recall@20: 0.44367, val_precision@20: 0.02776, val_ndcg@20: 0.27287\n",
            "[Iteración 1400/20000] train_loss: -1.30002, val_loss: -1.06081, val_recall@20: 0.4537, val_precision@20: 0.02838, val_ndcg@20: 0.28064\n",
            "[Iteración 1600/20000] train_loss: -1.56504, val_loss: -1.21245, val_recall@20: 0.46388, val_precision@20: 0.02895, val_ndcg@20: 0.28651\n",
            "[Iteración 1800/20000] train_loss: -1.77922, val_loss: -1.38182, val_recall@20: 0.46708, val_precision@20: 0.0292, val_ndcg@20: 0.28819\n",
            "[Iteración 2000/20000] train_loss: -2.1635, val_loss: -1.56446, val_recall@20: 0.47001, val_precision@20: 0.02935, val_ndcg@20: 0.29098\n",
            "[Iteración 2200/20000] train_loss: -2.3598, val_loss: -1.75427, val_recall@20: 0.47468, val_precision@20: 0.02964, val_ndcg@20: 0.2931\n",
            "[Iteración 2400/20000] train_loss: -2.68472, val_loss: -1.95106, val_recall@20: 0.48005, val_precision@20: 0.02995, val_ndcg@20: 0.29391\n",
            "[Iteración 2600/20000] train_loss: -3.0319, val_loss: -2.14679, val_recall@20: 0.47748, val_precision@20: 0.02983, val_ndcg@20: 0.29464\n",
            "[Iteración 2800/20000] train_loss: -3.35388, val_loss: -2.34272, val_recall@20: 0.47736, val_precision@20: 0.02986, val_ndcg@20: 0.29527\n",
            "[Iteración 3000/20000] train_loss: -3.54205, val_loss: -2.53918, val_recall@20: 0.4815, val_precision@20: 0.03008, val_ndcg@20: 0.29578\n",
            "[Iteración 3200/20000] train_loss: -3.96173, val_loss: -2.72764, val_recall@20: 0.48559, val_precision@20: 0.03036, val_ndcg@20: 0.29772\n",
            "[Iteración 3400/20000] train_loss: -4.07119, val_loss: -2.92007, val_recall@20: 0.48833, val_precision@20: 0.03048, val_ndcg@20: 0.29849\n",
            "[Iteración 3600/20000] train_loss: -4.48219, val_loss: -3.10002, val_recall@20: 0.4894, val_precision@20: 0.03055, val_ndcg@20: 0.29946\n",
            "[Iteración 3800/20000] train_loss: -4.76491, val_loss: -3.27953, val_recall@20: 0.49011, val_precision@20: 0.03062, val_ndcg@20: 0.29971\n",
            "[Iteración 4000/20000] train_loss: -5.00542, val_loss: -3.45588, val_recall@20: 0.48807, val_precision@20: 0.03054, val_ndcg@20: 0.29875\n",
            "[Iteración 4200/20000] train_loss: -5.30544, val_loss: -3.62373, val_recall@20: 0.49117, val_precision@20: 0.03073, val_ndcg@20: 0.29972\n",
            "[Iteración 4400/20000] train_loss: -5.39738, val_loss: -3.78304, val_recall@20: 0.49224, val_precision@20: 0.0308, val_ndcg@20: 0.30008\n",
            "[Iteración 4600/20000] train_loss: -5.73093, val_loss: -3.94554, val_recall@20: 0.49307, val_precision@20: 0.03084, val_ndcg@20: 0.30004\n",
            "[Iteración 4800/20000] train_loss: -5.91582, val_loss: -4.09311, val_recall@20: 0.49425, val_precision@20: 0.03084, val_ndcg@20: 0.30038\n",
            "[Iteración 5000/20000] train_loss: -6.19413, val_loss: -4.24182, val_recall@20: 0.49617, val_precision@20: 0.03096, val_ndcg@20: 0.3016\n",
            "[Iteración 5200/20000] train_loss: -6.23729, val_loss: -4.38057, val_recall@20: 0.49499, val_precision@20: 0.03092, val_ndcg@20: 0.30154\n",
            "[Iteración 5400/20000] train_loss: -6.74141, val_loss: -4.51676, val_recall@20: 0.49546, val_precision@20: 0.03092, val_ndcg@20: 0.30107\n",
            "[Iteración 5600/20000] train_loss: -6.7627, val_loss: -4.64448, val_recall@20: 0.49641, val_precision@20: 0.03099, val_ndcg@20: 0.30179\n",
            "[Iteración 5800/20000] train_loss: -6.7989, val_loss: -4.76841, val_recall@20: 0.49605, val_precision@20: 0.03099, val_ndcg@20: 0.30095\n",
            "[Iteración 6000/20000] train_loss: -7.0651, val_loss: -4.88844, val_recall@20: 0.49605, val_precision@20: 0.03099, val_ndcg@20: 0.30097\n",
            "[Iteración 6200/20000] train_loss: -7.27265, val_loss: -5.00015, val_recall@20: 0.49605, val_precision@20: 0.03099, val_ndcg@20: 0.30125\n",
            "[Iteración 6400/20000] train_loss: -7.50097, val_loss: -5.10613, val_recall@20: 0.49641, val_precision@20: 0.03103, val_ndcg@20: 0.30105\n",
            "[Iteración 6600/20000] train_loss: -7.64791, val_loss: -5.21419, val_recall@20: 0.49712, val_precision@20: 0.03106, val_ndcg@20: 0.30098\n",
            "[Iteración 6800/20000] train_loss: -7.8703, val_loss: -5.3166, val_recall@20: 0.49783, val_precision@20: 0.0311, val_ndcg@20: 0.30181\n",
            "[Iteración 7000/20000] train_loss: -7.9531, val_loss: -5.41161, val_recall@20: 0.49854, val_precision@20: 0.03113, val_ndcg@20: 0.30207\n",
            "[Iteración 7200/20000] train_loss: -7.87213, val_loss: -5.50659, val_recall@20: 0.49925, val_precision@20: 0.03117, val_ndcg@20: 0.30213\n",
            "[Iteración 7400/20000] train_loss: -8.17621, val_loss: -5.59302, val_recall@20: 0.49925, val_precision@20: 0.03117, val_ndcg@20: 0.30211\n",
            "[Iteración 7600/20000] train_loss: -8.36459, val_loss: -5.67335, val_recall@20: 0.49925, val_precision@20: 0.03117, val_ndcg@20: 0.30218\n",
            "[Iteración 7800/20000] train_loss: -8.48649, val_loss: -5.7542, val_recall@20: 0.49996, val_precision@20: 0.0312, val_ndcg@20: 0.30208\n",
            "[Iteración 8000/20000] train_loss: -8.17683, val_loss: -5.82971, val_recall@20: 0.49996, val_precision@20: 0.0312, val_ndcg@20: 0.30208\n",
            "[Iteración 8200/20000] train_loss: -8.83434, val_loss: -5.90533, val_recall@20: 0.49996, val_precision@20: 0.0312, val_ndcg@20: 0.3023\n",
            "[Iteración 8400/20000] train_loss: -8.85292, val_loss: -5.97609, val_recall@20: 0.49996, val_precision@20: 0.0312, val_ndcg@20: 0.30249\n",
            "[Iteración 8600/20000] train_loss: -8.61333, val_loss: -6.03383, val_recall@20: 0.50067, val_precision@20: 0.03124, val_ndcg@20: 0.30275\n",
            "[Iteración 8800/20000] train_loss: -8.83785, val_loss: -6.1044, val_recall@20: 0.50067, val_precision@20: 0.03124, val_ndcg@20: 0.30274\n",
            "[Iteración 9000/20000] train_loss: -8.92612, val_loss: -6.16344, val_recall@20: 0.50138, val_precision@20: 0.03127, val_ndcg@20: 0.30274\n",
            "[Iteración 9200/20000] train_loss: -9.20411, val_loss: -6.21732, val_recall@20: 0.50114, val_precision@20: 0.03124, val_ndcg@20: 0.30292\n",
            "[Iteración 9400/20000] train_loss: -8.88747, val_loss: -6.27112, val_recall@20: 0.50283, val_precision@20: 0.03132, val_ndcg@20: 0.30299\n",
            "[Iteración 9600/20000] train_loss: -9.18543, val_loss: -6.32876, val_recall@20: 0.50283, val_precision@20: 0.03132, val_ndcg@20: 0.30307\n",
            "[Iteración 9800/20000] train_loss: -9.30994, val_loss: -6.37454, val_recall@20: 0.50114, val_precision@20: 0.03124, val_ndcg@20: 0.30244\n",
            "[Iteración 10000/20000] train_loss: -9.35736, val_loss: -6.42207, val_recall@20: 0.50114, val_precision@20: 0.03124, val_ndcg@20: 0.30267\n",
            "[Iteración 10200/20000] train_loss: -9.41525, val_loss: -6.46843, val_recall@20: 0.50043, val_precision@20: 0.0312, val_ndcg@20: 0.30279\n",
            "[Iteración 10400/20000] train_loss: -9.39456, val_loss: -6.51435, val_recall@20: 0.50043, val_precision@20: 0.0312, val_ndcg@20: 0.30253\n",
            "[Iteración 10600/20000] train_loss: -9.80578, val_loss: -6.55622, val_recall@20: 0.50043, val_precision@20: 0.0312, val_ndcg@20: 0.30246\n",
            "[Iteración 10800/20000] train_loss: -9.98455, val_loss: -6.59153, val_recall@20: 0.50043, val_precision@20: 0.0312, val_ndcg@20: 0.30245\n",
            "[Iteración 11000/20000] train_loss: -9.6716, val_loss: -6.62932, val_recall@20: 0.50043, val_precision@20: 0.0312, val_ndcg@20: 0.30273\n",
            "[Iteración 11200/20000] train_loss: -9.74309, val_loss: -6.66255, val_recall@20: 0.50043, val_precision@20: 0.0312, val_ndcg@20: 0.30272\n",
            "[Iteración 11400/20000] train_loss: -9.79212, val_loss: -6.69997, val_recall@20: 0.50043, val_precision@20: 0.0312, val_ndcg@20: 0.30279\n",
            "[Iteración 11600/20000] train_loss: -9.77192, val_loss: -6.72897, val_recall@20: 0.50043, val_precision@20: 0.0312, val_ndcg@20: 0.30282\n",
            "[Iteración 11800/20000] train_loss: -9.96352, val_loss: -6.7588, val_recall@20: 0.50043, val_precision@20: 0.0312, val_ndcg@20: 0.30274\n",
            "[Iteración 12000/20000] train_loss: -9.99541, val_loss: -6.79211, val_recall@20: 0.50043, val_precision@20: 0.0312, val_ndcg@20: 0.30275\n",
            "[Iteración 12200/20000] train_loss: -9.84485, val_loss: -6.81792, val_recall@20: 0.50043, val_precision@20: 0.0312, val_ndcg@20: 0.30274\n",
            "[Iteración 12400/20000] train_loss: -10.24031, val_loss: -6.84191, val_recall@20: 0.50043, val_precision@20: 0.0312, val_ndcg@20: 0.30271\n",
            "[Iteración 12600/20000] train_loss: -9.54614, val_loss: -6.87455, val_recall@20: 0.50043, val_precision@20: 0.0312, val_ndcg@20: 0.30277\n",
            "[Iteración 12800/20000] train_loss: -9.74448, val_loss: -6.89123, val_recall@20: 0.50043, val_precision@20: 0.0312, val_ndcg@20: 0.30278\n",
            "[Iteración 13000/20000] train_loss: -9.91707, val_loss: -6.91419, val_recall@20: 0.50043, val_precision@20: 0.0312, val_ndcg@20: 0.30284\n",
            "[Iteración 13200/20000] train_loss: -9.97556, val_loss: -6.93634, val_recall@20: 0.50079, val_precision@20: 0.03124, val_ndcg@20: 0.30297\n",
            "[Iteración 13400/20000] train_loss: -9.80895, val_loss: -6.9531, val_recall@20: 0.50079, val_precision@20: 0.03124, val_ndcg@20: 0.30286\n",
            "[Iteración 13600/20000] train_loss: -10.17336, val_loss: -6.97668, val_recall@20: 0.50079, val_precision@20: 0.03124, val_ndcg@20: 0.30286\n",
            "[Iteración 13800/20000] train_loss: -10.22294, val_loss: -6.99062, val_recall@20: 0.50079, val_precision@20: 0.03124, val_ndcg@20: 0.30286\n",
            "[Iteración 14000/20000] train_loss: -10.43509, val_loss: -7.01529, val_recall@20: 0.50079, val_precision@20: 0.03124, val_ndcg@20: 0.30278\n",
            "[Iteración 14200/20000] train_loss: -10.2082, val_loss: -7.02785, val_recall@20: 0.50079, val_precision@20: 0.03124, val_ndcg@20: 0.30276\n",
            "[Iteración 14400/20000] train_loss: -10.21774, val_loss: -7.04214, val_recall@20: 0.50079, val_precision@20: 0.03124, val_ndcg@20: 0.30277\n",
            "[Iteración 14600/20000] train_loss: -10.30912, val_loss: -7.05735, val_recall@20: 0.50079, val_precision@20: 0.03124, val_ndcg@20: 0.30283\n",
            "[Iteración 14800/20000] train_loss: -10.27548, val_loss: -7.07742, val_recall@20: 0.50079, val_precision@20: 0.03124, val_ndcg@20: 0.30278\n",
            "[Iteración 15000/20000] train_loss: -10.25444, val_loss: -7.09009, val_recall@20: 0.50079, val_precision@20: 0.03124, val_ndcg@20: 0.30278\n",
            "[Iteración 15200/20000] train_loss: -10.25413, val_loss: -7.09911, val_recall@20: 0.50079, val_precision@20: 0.03124, val_ndcg@20: 0.30286\n",
            "[Iteración 15400/20000] train_loss: -10.30902, val_loss: -7.11216, val_recall@20: 0.50079, val_precision@20: 0.03124, val_ndcg@20: 0.30286\n",
            "[Iteración 15600/20000] train_loss: -10.08272, val_loss: -7.12484, val_recall@20: 0.50079, val_precision@20: 0.03124, val_ndcg@20: 0.30287\n",
            "[Iteración 15800/20000] train_loss: -10.3801, val_loss: -7.13459, val_recall@20: 0.50079, val_precision@20: 0.03124, val_ndcg@20: 0.30286\n",
            "[Iteración 16000/20000] train_loss: -10.57149, val_loss: -7.14789, val_recall@20: 0.50079, val_precision@20: 0.03124, val_ndcg@20: 0.30308\n",
            "[Iteración 16200/20000] train_loss: -10.29546, val_loss: -7.15633, val_recall@20: 0.50079, val_precision@20: 0.03124, val_ndcg@20: 0.30311\n",
            "[Iteración 16400/20000] train_loss: -10.43107, val_loss: -7.16796, val_recall@20: 0.50008, val_precision@20: 0.0312, val_ndcg@20: 0.30294\n",
            "[Iteración 16600/20000] train_loss: -10.40372, val_loss: -7.1759, val_recall@20: 0.50008, val_precision@20: 0.0312, val_ndcg@20: 0.30294\n",
            "[Iteración 16800/20000] train_loss: -10.16809, val_loss: -7.18622, val_recall@20: 0.50008, val_precision@20: 0.0312, val_ndcg@20: 0.30294\n",
            "[Iteración 17000/20000] train_loss: -10.76036, val_loss: -7.18537, val_recall@20: 0.50026, val_precision@20: 0.03124, val_ndcg@20: 0.303\n",
            "[Iteración 17200/20000] train_loss: -10.43637, val_loss: -7.20075, val_recall@20: 0.50026, val_precision@20: 0.03124, val_ndcg@20: 0.30301\n",
            "[Iteración 17400/20000] train_loss: -10.33587, val_loss: -7.20817, val_recall@20: 0.50026, val_precision@20: 0.03124, val_ndcg@20: 0.30301\n",
            "[Iteración 17600/20000] train_loss: -10.59962, val_loss: -7.21775, val_recall@20: 0.50026, val_precision@20: 0.03124, val_ndcg@20: 0.30301\n",
            "[Iteración 17800/20000] train_loss: -10.57435, val_loss: -7.21916, val_recall@20: 0.50026, val_precision@20: 0.03124, val_ndcg@20: 0.30303\n",
            "[Iteración 18000/20000] train_loss: -10.50859, val_loss: -7.22865, val_recall@20: 0.50026, val_precision@20: 0.03124, val_ndcg@20: 0.30304\n",
            "[Iteración 18200/20000] train_loss: -10.47008, val_loss: -7.23261, val_recall@20: 0.50026, val_precision@20: 0.03124, val_ndcg@20: 0.30303\n",
            "[Iteración 18400/20000] train_loss: -10.49107, val_loss: -7.24194, val_recall@20: 0.4999, val_precision@20: 0.0312, val_ndcg@20: 0.30296\n",
            "[Iteración 18600/20000] train_loss: -10.71476, val_loss: -7.2427, val_recall@20: 0.4999, val_precision@20: 0.0312, val_ndcg@20: 0.30295\n",
            "[Iteración 18800/20000] train_loss: -10.4528, val_loss: -7.25051, val_recall@20: 0.4999, val_precision@20: 0.0312, val_ndcg@20: 0.30295\n",
            "[Iteración 19000/20000] train_loss: -10.57349, val_loss: -7.25445, val_recall@20: 0.49955, val_precision@20: 0.03117, val_ndcg@20: 0.30285\n",
            "[Iteración 19200/20000] train_loss: -10.34769, val_loss: -7.26063, val_recall@20: 0.49955, val_precision@20: 0.03117, val_ndcg@20: 0.30285\n",
            "[Iteración 19400/20000] train_loss: -10.83247, val_loss: -7.26426, val_recall@20: 0.49955, val_precision@20: 0.03117, val_ndcg@20: 0.30285\n",
            "[Iteración 19600/20000] train_loss: -10.54389, val_loss: -7.26833, val_recall@20: 0.49955, val_precision@20: 0.03117, val_ndcg@20: 0.30259\n",
            "[Iteración 19800/20000] train_loss: -10.67317, val_loss: -7.27393, val_recall@20: 0.49955, val_precision@20: 0.03117, val_ndcg@20: 0.30259\n",
            "[Iteración 20000/20000] train_loss: -10.38949, val_loss: -7.27614, val_recall@20: 0.49955, val_precision@20: 0.03117, val_ndcg@20: 0.30259\n"
          ]
        }
      ],
      "source": [
        "train_losses = []\n",
        "val_losses = []\n",
        "\n",
        "for iter in range(ITERATIONS):\n",
        "    # Propagación\n",
        "    users_emb_final, users_emb_0, items_emb_final, items_emb_0 = model.forward(train_sparse_edge_index)\n",
        "\n",
        "    # Mini batches\n",
        "    user_indices, pos_item_indices, neg_item_indices = sample_mini_batch(BATCH_SIZE, train_edge_index)\n",
        "    user_indices, pos_item_indices, neg_item_indices = user_indices.to(device), pos_item_indices.to(device), neg_item_indices.to(device)\n",
        "\n",
        "    users_emb_final, users_emb_0 = users_emb_final[user_indices], users_emb_0[user_indices]\n",
        "    pos_items_emb_final, pos_items_emb_0 = items_emb_final[pos_item_indices], items_emb_0[pos_item_indices]\n",
        "    neg_items_emb_final, neg_items_emb_0 = items_emb_final[neg_item_indices], items_emb_0[neg_item_indices]\n",
        "\n",
        "    # Cálculo de la pérdida\n",
        "    train_loss = bpr_loss(users_emb_final, users_emb_0, pos_items_emb_final, pos_items_emb_0, neg_items_emb_final, neg_items_emb_0, LAMBDA)\n",
        "\n",
        "    optimizer.zero_grad()\n",
        "    train_loss.backward()\n",
        "    optimizer.step()\n",
        "\n",
        "    if (iter+1) % ITERS_PER_EVAL == 0:\n",
        "        model.eval()\n",
        "        val_loss, recall, precision, ndcg = evaluation(\n",
        "            model, val_edge_index, val_sparse_edge_index, [train_edge_index], K, LAMBDA)\n",
        "        print(f\"[Iteración {iter+1}/{ITERATIONS}] train_loss: {round(train_loss.item(), 5)}, val_loss: {round(val_loss, 5)}, val_recall@{K}: {round(recall, 5)}, val_precision@{K}: {round(precision, 5)}, val_ndcg@{K}: {round(ndcg, 5)}\")\n",
        "        train_losses.append(train_loss.item())\n",
        "        val_losses.append(val_loss)\n",
        "        model.train()\n",
        "\n",
        "    if (iter+1) % ITERS_PER_LR_DECAY == 0 and iter != 0:\n",
        "        scheduler.step()"
      ]
    },
    {
      "cell_type": "markdown",
      "metadata": {
        "id": "vT1WPZ05L7qj"
      },
      "source": [
        "Generamos una gráfica que muestra la evolución de la pérdida durante el entrenamiento y la validación a lo largo de las iteraciones."
      ]
    },
    {
      "cell_type": "code",
      "execution_count": 25,
      "metadata": {
        "colab": {
          "base_uri": "https://localhost:8080/",
          "height": 471
        },
        "id": "nLcdvV5iXBSv",
        "outputId": "1b4ccdac-0046-4d17-b7f3-f60bcb977de2"
      },
      "outputs": [
        {
          "data": {
            "image/png": "[encoded data removed]",
            "text/plain": [
              "<Figure size 640x480 with 1 Axes>"
            ]
          },
          "metadata": {},
          "output_type": "display_data"
        }
      ],
      "source": [
        "iters = [iter * ITERS_PER_EVAL for iter in range(len(train_losses))]\n",
        "plt.plot(iters, train_losses, label='Entrenamiento')\n",
        "plt.plot(iters, val_losses, label='Validación')\n",
        "plt.xlabel('Iteración')\n",
        "plt.ylabel('Pérdida')\n",
        "plt.title('Curvas de pérdida de entrenamiento y validación')\n",
        "plt.legend()\n",
        "plt.show()"
      ]
    },
    {
      "cell_type": "markdown",
      "metadata": {
        "id": "TdN--K79L7qk"
      },
      "source": [
        "Evaluamos el modelo final en el conjunto de prueba y mostramos las métricas obtenidas."
      ]
    },
    {
      "cell_type": "code",
      "execution_count": null,
      "metadata": {
        "colab": {
          "base_uri": "https://localhost:8080/"
        },
        "id": "G6UjCTMQ_N5e",
        "outputId": "919d9a18-53f0-4af3-ddb8-ad201c807258"
      },
      "outputs": [
        {
          "name": "stdout",
          "output_type": "stream",
          "text": [
            "[test_loss: -7.46156, test_recall@20: 0.50208, test_precision@20: 0.03119, test_ndcg@20: 0.31935]\n"
          ]
        }
      ],
      "source": [
        "model.eval()\n",
        "\n",
        "with torch.no_grad():\n",
        "    users_emb_final, _, items_emb_final, _ = model(train_sparse_edge_index)\n",
        "\n",
        "# Guardar los embeddings finales de usuarios e ítems\n",
        "torch.save({\n",
        "    'users_emb_final_CF': users_emb_final.cpu(),\n",
        "    'items_emb_final_CF': items_emb_final.cpu()\n",
        "}, 'lightgcn_CF_embeddings.pt')\n",
        "\n",
        "test_edge_index = test_edge_index.to(device)\n",
        "test_sparse_edge_index = test_sparse_edge_index.to(device)\n",
        "\n",
        "test_loss, test_recall, test_precision, test_ndcg = evaluation(model, test_edge_index, test_sparse_edge_index, [train_edge_index, val_edge_index], K, LAMBDA)\n",
        "\n",
        "print(f\"[test_loss: {round(test_loss, 5)}, test_recall@{K}: {round(test_recall, 5)}, test_precision@{K}: {round(test_precision, 5)}, test_ndcg@{K}: {round(test_ndcg, 5)}]\")"
      ]
    },
    {
      "cell_type": "code",
      "execution_count": null,
      "metadata": {
        "id": "Al-Bk4T2mruy"
      },
      "outputs": [],
      "source": [
        "# Guardar el modelo entrenado\n",
        "\n",
        "torch.save(model.state_dict(), 'lightgcn_CF_model.pth')"
      ]
    },
    {
      "cell_type": "markdown",
      "metadata": {
        "id": "oxQSAxUCvWZH"
      },
      "source": [
        "## Ejemplo de recomendaciones para usuarios"
      ]
    },
    {
      "cell_type": "code",
      "execution_count": 28,
      "metadata": {
        "id": "sfTVTiYLuLza"
      },
      "outputs": [],
      "source": [
        "# Modo evaluación (desactiva dropout, etc.)\n",
        "model.eval()\n",
        "\n",
        "# Cargamos el dataset de libros y creamos diccionarios para los títulos y géneros\n",
        "df = pd.read_csv(books_path)\n",
        "bookid_title = pd.Series(df.title.values, index=df.book_id).to_dict()\n",
        "bookid_genres = pd.Series(df.genres.values, index=df.book_id).to_dict()\n",
        "\n",
        "# Obtenemos los ítems con los que cada usuario ha interactuado positivamente\n",
        "user_pos_items = get_user_positive_items(edge_index)"
      ]
    },
    {
      "cell_type": "markdown",
      "metadata": {
        "id": "lEyL6iW2L7ql"
      },
      "source": [
        "Definimos una función que genera y muestra recomendaciones personalizadas para un usuario. Incluye libros que ya le gustaron, según sus interacciones pasadas, y sugerencias nuevas que aún no ha visto."
      ]
    },
    {
      "cell_type": "code",
      "execution_count": 29,
      "metadata": {
        "id": "YWdhA-TtuLzc"
      },
      "outputs": [],
      "source": [
        "def make_predictions(user_id, num_recs):\n",
        "    # Obtenemos el índice interno y el embedding del usuario\n",
        "    user_idx = user_mapping[user_id]\n",
        "    e_u = model.users_emb.weight[user_idx]\n",
        "\n",
        "    # Similitud entre el usuario y todos los ítems (productos/libros)\n",
        "    scores = model.items_emb.weight @ e_u\n",
        "\n",
        "    # Scores ordenados de mayor a menor\n",
        "    values, indices = torch.topk(scores, k=scores.size(0))\n",
        "\n",
        "    # IDs de libros ordenados según la predicción\n",
        "    index_to_book_id = {v: k for k, v in book_mapping.items()}\n",
        "    ranked_book_ids = [index_to_book_id[i.item()] for i in indices if i.item() in index_to_book_id]\n",
        "\n",
        "    # Libros que le gustan al usuario\n",
        "    seen_books = [book for book in ranked_book_ids if book in user_pos_items[user_id]][:num_recs]\n",
        "    print(f\"Libros que el usuario {user_id} ha valorado positivamente:\")\n",
        "    for book_id in seen_books:\n",
        "        title = bookid_title.get(book_id, \"Título desconocido\")\n",
        "        genre = bookid_genres.get(book_id, \"Género desconocido\")\n",
        "        print(f\"Título: {title}, Géneros: {genre}\")\n",
        "\n",
        "    # Libros recomendados para el usuario\n",
        "    unseen_books = [book for book in ranked_book_ids if book not in user_pos_items[user_id]][:num_recs]\n",
        "    print(f\"\\nRecomendaciones de libros para el usuario {user_id}:\")\n",
        "    for book_id in unseen_books:\n",
        "        title = bookid_title.get(book_id, \"Título desconocido\")\n",
        "        genre = bookid_genres.get(book_id, \"Género desconocido\")\n",
        "        print(f\"Título: {title}, Géneros: {genre}\")"
      ]
    },
    {
      "cell_type": "markdown",
      "metadata": {
        "id": "JVUhOQzuL7ql"
      },
      "source": [
        "Probamos nuestra función en un usuario aleatorio."
      ]
    },
    {
      "cell_type": "code",
      "execution_count": 30,
      "metadata": {
        "colab": {
          "base_uri": "https://localhost:8080/"
        },
        "id": "MpvwsdqfuLzd",
        "outputId": "ef7bf4ee-5ae9-490b-e6e5-439c2ff318e1"
      },
      "outputs": [
        {
          "name": "stdout",
          "output_type": "stream",
          "text": [
            "Usuario aleatorio: 201041\n",
            "Libros que el usuario 201041 ha valorado positivamente:\n",
            "Título: Fighting Ruben Wolfe (Wolfe Brothers, #2), Géneros: ['young-adult', 'fiction', 'children']\n",
            "Título: 13 Little Blue Envelopes (Little Blue Envelope, #1), Géneros: ['young-adult', 'romance', 'fiction', 'mystery, thriller, crime']\n",
            "Título: Underdog (Wolfe Brothers, #1), Géneros: ['young-adult', 'fiction', 'children']\n",
            "Título: Define Normal, Géneros: ['young-adult', 'fiction', 'romance', 'children']\n",
            "Título: Rainbow Boys (Rainbow Trilogy, #1), Géneros: ['young-adult', 'fiction', 'romance']\n",
            "Título: Surviving Antarctica: Reality TV 2083, Géneros: ['young-adult', 'fiction', 'fantasy, paranormal', 'children']\n",
            "\n",
            "Recomendaciones de libros para el usuario 201041:\n",
            "Título: Devilish, Géneros: ['young-adult', 'fantasy, paranormal', 'fiction', 'romance', 'mystery, thriller, crime']\n",
            "Título: Whale Talk, Géneros: ['young-adult', 'fiction']\n",
            "Título: Blue Noon (Midnighters, #3), Géneros: ['young-adult', 'fantasy, paranormal', 'fiction', 'romance', 'mystery, thriller, crime']\n",
            "Título: Project Princess (The Princess Diaries, #4.5), Géneros: ['young-adult', 'romance', 'fiction', 'children']\n",
            "Título: Twilight (The Mediator, #6), Géneros: ['young-adult', 'fantasy, paranormal', 'romance', 'fiction', 'mystery, thriller, crime']\n",
            "Título: The House of the Scorpion (Matteo Alacran, #1), Géneros: ['young-adult', 'fiction', 'fantasy, paranormal', 'children', 'mystery, thriller, crime']\n",
            "Título: Pretties (Uglies, #2), Géneros: ['young-adult', 'fiction', 'fantasy, paranormal', 'romance']\n",
            "Título: Smart Boys & Fast Girls (The Girlfriend's Guide to Boys, #4), Géneros: ['young-adult', 'romance', 'fiction']\n",
            "Título: Psyche in a Dress, Géneros: ['young-adult', 'poetry', 'fantasy, paranormal', 'fiction', 'romance']\n",
            "Título: Find a Stranger, Say Goodbye, Géneros: ['young-adult', 'fiction', 'children']\n"
          ]
        }
      ],
      "source": [
        "random_user_id = random.choice(list(interactions.user_id))\n",
        "print(f\"Usuario aleatorio: {random_user_id}\")\n",
        "\n",
        "make_predictions(random_user_id, num_recs=10)"
      ]
    },
    {
      "cell_type": "markdown",
      "metadata": {
        "id": "-mOWaqGmL7qm"
      },
      "source": [
        "Probamos con otro usuario."
      ]
    },
    {
      "cell_type": "code",
      "execution_count": 31,
      "metadata": {
        "colab": {
          "base_uri": "https://localhost:8080/"
        },
        "id": "8vS24rnIuLze",
        "outputId": "ec0d4b8a-f188-4277-a640-cd0bbe6f4c39"
      },
      "outputs": [
        {
          "name": "stdout",
          "output_type": "stream",
          "text": [
            "Libros que el usuario 14 ha valorado positivamente:\n",
            "Título: King Dork (King Dork, #1), Géneros: ['young-adult', 'fiction', 'mystery, thriller, crime', 'romance', 'children']\n",
            "Título: Trials of Death (Cirque Du Freak, #5), Géneros: ['fantasy, paranormal', 'young-adult', 'fiction', 'mystery, thriller, crime', 'children']\n",
            "Título: Vampire Mountain (Cirque Du Freak, #4), Géneros: ['fantasy, paranormal', 'young-adult', 'fiction', 'children', 'mystery, thriller, crime']\n",
            "Título: Absolutely Mahvelous, Géneros: ['history, historical fiction, biography', 'young-adult']\n",
            "Título: Dicey's Song (Tillerman Cycle, #2), Géneros: ['young-adult', 'fiction', 'children', 'history, historical fiction, biography']\n",
            "\n",
            "Recomendaciones de libros para el usuario 14:\n",
            "Título: The Lake of Souls, Géneros: ['fantasy, paranormal', 'young-adult', 'fiction', 'children', 'mystery, thriller, crime']\n",
            "Título: Cuba 15, Géneros: ['young-adult', 'fiction', 'romance']\n",
            "Título: The Red Dice (The Last Vampire #3), Géneros: ['young-adult', 'fantasy, paranormal', 'fiction', 'romance', 'mystery, thriller, crime']\n",
            "Título: Creepy Condors of California (American Chillers, #14), Géneros: ['children', 'fiction', 'young-adult', 'fantasy, paranormal']\n",
            "Título: Then He Ate My Boy Entrancers (Confessions of Georgia Nicolson, #6), Géneros: ['young-adult', 'romance', 'fiction', 'children']\n",
            "Título: On Fortune's Wheel (Tales of the Kingdom, #2), Géneros: ['fantasy, paranormal', 'young-adult', 'fiction', 'history, historical fiction, biography', 'romance', 'children']\n",
            "Título: The Speed of the Dark, Géneros: ['young-adult', 'fantasy, paranormal', 'mystery, thriller, crime', 'children', 'fiction']\n",
            "Título: Rebel Angels (Gemma Doyle, #2), Géneros: ['fantasy, paranormal', 'young-adult', 'fiction', 'history, historical fiction, biography', 'romance', 'mystery, thriller, crime']\n",
            "Título: What My Mother Doesn't Know (What My Mother Doesn't Know #1), Géneros: ['young-adult', 'poetry', 'romance', 'fiction']\n",
            "Título: The House on Mango Street, Géneros: ['fiction', 'young-adult', 'poetry', 'non-fiction', 'history, historical fiction, biography', 'children']\n"
          ]
        }
      ],
      "source": [
        "USER_ID = 14\n",
        "NUM_RECS = 10\n",
        "\n",
        "make_predictions(USER_ID, NUM_RECS)"
      ]
    }
  ],
  "metadata": {
    "accelerator": "GPU",
    "colab": {
      "collapsed_sections": [
        "JOB5kDmtUrUY",
        "CS7HVr3qLQGx"
      ],
      "gpuType": "T4",
      "provenance": []
    },
    "kernelspec": {
      "display_name": "Python 3",
      "name": "python3"
    },
    "language_info": {
      "name": "python",
      "version": "3.12.2"
    }
  },
  "nbformat": 4,
  "nbformat_minor": 0
}
