{
 "cells": [
  {
   "cell_type": "markdown",
   "metadata": {},
   "source": [
    "# Content Based Filtering"
   ]
  },
  {
   "cell_type": "markdown",
   "metadata": {},
   "source": [
    "## Importación de librerías"
   ]
  },
  {
   "cell_type": "code",
   "execution_count": 54,
   "metadata": {},
   "outputs": [],
   "source": [
    "import os\n",
    "import re\n",
    "import ast\n",
    "import json\n",
    "import nltk\n",
    "import random\n",
    "import numpy as np\n",
    "import pandas as pd\n",
    "import seaborn as sns\n",
    "import matplotlib.pyplot as plt\n",
    "\n",
    "from collections import defaultdict\n",
    "\n",
    "from nltk.stem import WordNetLemmatizer\n",
    "from nltk.corpus import stopwords\n",
    "\n",
    "from sklearn.feature_extraction.text import TfidfVectorizer\n",
    "from sklearn.preprocessing import normalize\n",
    "from sklearn.metrics.pairwise import linear_kernel\n",
    "from sklearn.manifold import TSNE"
   ]
  },
  {
   "cell_type": "markdown",
   "metadata": {},
   "source": [
    "### Descarga de las stopwords y el lematizador"
   ]
  },
  {
   "cell_type": "markdown",
   "metadata": {},
   "source": [
    "Descargamos de *NLTK* las stopwords y *WordNet* para el lematizador."
   ]
  },
  {
   "cell_type": "code",
   "execution_count": 55,
   "metadata": {},
   "outputs": [
    {
     "name": "stderr",
     "output_type": "stream",
     "text": [
      "[nltk_data] Downloading package wordnet to /Users/maria/nltk_data...\n",
      "[nltk_data]   Package wordnet is already up-to-date!\n",
      "[nltk_data] Downloading package stopwords to /Users/maria/nltk_data...\n",
      "[nltk_data]   Package stopwords is already up-to-date!\n"
     ]
    }
   ],
   "source": [
    "nltk.download('wordnet')\n",
    "nltk.download('stopwords')\n",
    "\n",
    "lemmatizer = WordNetLemmatizer()\n",
    "stop_words = set(stopwords.words('english'))"
   ]
  },
  {
   "cell_type": "markdown",
   "metadata": {},
   "source": [
    "## Carga de datos"
   ]
  },
  {
   "cell_type": "markdown",
   "metadata": {},
   "source": [
    "Creamos una función para cargar los json, con posibilidad de cargar un % de los mismos."
   ]
  },
  {
   "cell_type": "code",
   "execution_count": null,
   "metadata": {},
   "outputs": [],
   "source": [
    "DIR = os.path.join(os.path.dirname(os.path.dirname(__file__)), 'Dataset')\n",
    "\n",
    "def load_data(file_name, sample_fraction=1, seed=42):\n",
    "    \"\"\"\n",
    "    Carga una fracción de los datos desde un archivo JSON.\n",
    "    \n",
    "    Parámetros:\n",
    "    - file_name: Ruta del archivo.\n",
    "    - sample_fraction: Fracción de datos a cargar (por defecto 100%).\n",
    "    - seed: Semilla para asegurar reproducibilidad.\n",
    "    \n",
    "    Devuelve:\n",
    "    - Un DataFrame con la muestra de datos.\n",
    "    \"\"\"\n",
    "    random.seed(seed)  # Fijar semilla para reproducibilidad\n",
    "\n",
    "    data = []\n",
    "    with open(file_name, 'r', encoding='utf-8') as fin:\n",
    "        for line in fin:\n",
    "            if random.random() < sample_fraction:  # Probabilidad fija basada en la semilla\n",
    "                data.append(json.loads(line))\n",
    "\n",
    "    print(f\"Cargados {len(data)} registros aproximadamente ({sample_fraction*100}% del total)\")\n",
    "    \n",
    "    return pd.DataFrame(data)"
   ]
  },
  {
   "cell_type": "markdown",
   "metadata": {},
   "source": [
    "Cargamos los json de `books`, con los metadatos de los libros; `authors`, con los datos de los autores; y `genres`, con los géneros por libro."
   ]
  },
  {
   "cell_type": "code",
   "execution_count": 57,
   "metadata": {},
   "outputs": [
    {
     "data": {
      "application/vnd.microsoft.datawrangler.viewer.v0+json": {
       "columns": [
        {
         "name": "index",
         "rawType": "int64",
         "type": "integer"
        },
        {
         "name": "isbn",
         "rawType": "object",
         "type": "string"
        },
        {
         "name": "text_reviews_count",
         "rawType": "int64",
         "type": "integer"
        },
        {
         "name": "series",
         "rawType": "object",
         "type": "unknown"
        },
        {
         "name": "country_code",
         "rawType": "object",
         "type": "string"
        },
        {
         "name": "language_code",
         "rawType": "object",
         "type": "string"
        },
        {
         "name": "popular_shelves",
         "rawType": "object",
         "type": "unknown"
        },
        {
         "name": "asin",
         "rawType": "object",
         "type": "string"
        },
        {
         "name": "is_ebook",
         "rawType": "object",
         "type": "string"
        },
        {
         "name": "average_rating",
         "rawType": "float64",
         "type": "float"
        },
        {
         "name": "kindle_asin",
         "rawType": "object",
         "type": "string"
        },
        {
         "name": "similar_books",
         "rawType": "object",
         "type": "unknown"
        },
        {
         "name": "description",
         "rawType": "object",
         "type": "string"
        },
        {
         "name": "format",
         "rawType": "object",
         "type": "string"
        },
        {
         "name": "link",
         "rawType": "object",
         "type": "string"
        },
        {
         "name": "authors",
         "rawType": "object",
         "type": "unknown"
        },
        {
         "name": "publisher",
         "rawType": "object",
         "type": "string"
        },
        {
         "name": "num_pages",
         "rawType": "object",
         "type": "string"
        },
        {
         "name": "publication_day",
         "rawType": "object",
         "type": "string"
        },
        {
         "name": "isbn13",
         "rawType": "object",
         "type": "string"
        },
        {
         "name": "publication_month",
         "rawType": "object",
         "type": "string"
        },
        {
         "name": "edition_information",
         "rawType": "object",
         "type": "string"
        },
        {
         "name": "publication_year",
         "rawType": "object",
         "type": "string"
        },
        {
         "name": "url",
         "rawType": "object",
         "type": "string"
        },
        {
         "name": "image_url",
         "rawType": "object",
         "type": "string"
        },
        {
         "name": "book_id",
         "rawType": "int64",
         "type": "integer"
        },
        {
         "name": "ratings_count",
         "rawType": "int64",
         "type": "integer"
        },
        {
         "name": "work_id",
         "rawType": "int64",
         "type": "integer"
        },
        {
         "name": "title",
         "rawType": "object",
         "type": "string"
        },
        {
         "name": "title_without_series",
         "rawType": "object",
         "type": "string"
        }
       ],
       "ref": "7b15f189-eb64-4c99-9fa7-f065a47401ca",
       "rows": [
        [
         "0",
         "",
         "1",
         "['147734']",
         "US",
         "",
         "[{'count': '1057', 'name': 'to-read'}, {'count': '101', 'name': 'young-adult'}, {'count': '59', 'name': 'ya'}, {'count': '58', 'name': 'paranormal'}, {'count': '55', 'name': 'fantasy'}, {'count': '36', 'name': 'favorites'}, {'count': '35', 'name': 'romance'}, {'count': '26', 'name': 'urban-fantasy'}, {'count': '25', 'name': 'books-i-own'}, {'count': '25', 'name': 'supernatural'}, {'count': '19', 'name': 'fiction'}, {'count': '18', 'name': 'owned'}, {'count': '18', 'name': 'currently-reading'}, {'count': '16', 'name': 'paranormal-romance'}, {'count': '16', 'name': 'l-j-smith'}, {'count': '14', 'name': 'lj-smith'}, {'count': '14', 'name': 'series'}, {'count': '13', 'name': 'dark-visions'}, {'count': '11', 'name': 'teen'}, {'count': '9', 'name': 'vampires'}, {'count': '8', 'name': 'ebooks'}, {'count': '7', 'name': 'read-in-2012'}, {'count': '7', 'name': 'kindle'}, {'count': '7', 'name': 'l-j--smith'}, {'count': '6', 'name': 'love-triangle'}, {'count': '6', 'name': 'magic'}, {'count': '5', 'name': 'my-books'}, {'count': '5', 'name': 'psychics'}, {'count': '5', 'name': 'i-own'}, {'count': '5', 'name': 'ebook'}, {'count': '5', 'name': 'horror'}, {'count': '4', 'name': 'read-in-2015'}, {'count': '4', 'name': 'ya-paranormal'}, {'count': '4', 'name': 'owned-books'}, {'count': '4', 'name': 'science-fiction'}, {'count': '4', 'name': 'teen-romance'}, {'count': '4', 'name': 'psychic'}, {'count': '4', 'name': 'library'}, {'count': '3', 'name': 'own-it'}, {'count': '3', 'name': 'to-buy'}, {'count': '3', 'name': 'series-finished'}, {'count': '3', 'name': 'read-in-2013'}, {'count': '3', 'name': 'books-i-have'}, {'count': '3', 'name': 're-read'}, {'count': '3', 'name': 'teen-fiction'}, {'count': '3', 'name': 'have'}, {'count': '3', 'name': 'my-library'}, {'count': '3', 'name': 'trilogy'}, {'count': '3', 'name': 're-reads'}, {'count': '3', 'name': 'reviewed'}, {'count': '3', 'name': 'other-supernatural'}, {'count': '3', 'name': 'high-school'}, {'count': '3', 'name': 'smith-lj'}, {'count': '3', 'name': 'trilogies'}, {'count': '3', 'name': 'favourites'}, {'count': '3', 'name': 'sci-fi'}, {'count': '3', 'name': 'witches'}, {'count': '3', 'name': 'adult'}, {'count': '3', 'name': 'read-in-2009'}, {'count': '3', 'name': 'sci-fi-fantasy'}, {'count': '3', 'name': 'young-adult-fiction'}, {'count': '3', 'name': 'childhood-favorites'}, {'count': '2', 'name': 'read-in-2016'}, {'count': '2', 'name': 'read-2016'}, {'count': '2', 'name': 'e-book'}, {'count': '2', 'name': 'finished-series'}, {'count': '2', 'name': 'novels'}, {'count': '2', 'name': 'in-czech'}, {'count': '2', 'name': 'paperback'}, {'count': '2', 'name': 'ready-to-read'}, {'count': '2', 'name': 'superpowers'}, {'count': '2', 'name': 'fantasy-paranormal'}, {'count': '2', 'name': 'back-in-the-day'}, {'count': '2', 'name': 'adventure'}, {'count': '2', 'name': '3-star'}, {'count': '2', 'name': 'romantic'}, {'count': '2', 'name': 'mystery-suspense'}, {'count': '2', 'name': 'teenage-years'}, {'count': '2', 'name': 'sort'}, {'count': '2', 'name': 'lj-smith-dark-visions'}, {'count': '2', 'name': 'czech'}, {'count': '2', 'name': '8th-grade'}, {'count': '2', 'name': 'childhood-reads'}, {'count': '2', 'name': 'read-in-english'}, {'count': '2', 'name': 'teen-fantasy'}, {'count': '2', 'name': 'female-protagonist'}, {'count': '2', 'name': 'my-ebooks'}, {'count': '2', 'name': '4-stars'}, {'count': '2', 'name': 'epubs'}, {'count': '2', 'name': 'when-i-was-young'}, {'count': '2', 'name': 'esp'}, {'count': '2', 'name': 'teen-favorites'}, {'count': '2', 'name': 'audio'}, {'count': '2', 'name': 'audiobook'}, {'count': '2', 'name': '3st-in-series'}, {'count': '2', 'name': 's-dark-visions'}, {'count': '2', 'name': 'fantasy-sci-fi'}, {'count': '2', 'name': '2011-reads'}, {'count': '2', 'name': 'mystery'}, {'count': '2', 'name': 'vampire'}]",
         "B0056A00P4",
         "true",
         "4.04",
         "B0056A00P4",
         "['519546', '1295074', '21407416']",
         "This is the final tale in the bestselling author L.J. Smith's romantic horrortrilogy. Now, Kaitlyn Fairchild and her friends must put the powerful crystalto the test--to stop an experiment that has turned one of them into a psychicvampire. Kaitlyn must choose at last--Rob or Gabriel.",
         "",
         "https://www.goodreads.com/book/show/12182387-the-passion",
         "[{'author_id': '50873', 'role': ''}, {'author_id': '232533', 'role': 'Ubersetzer'}]",
         "",
         "",
         "",
         "",
         "",
         "",
         "",
         "https://www.goodreads.com/book/show/12182387-the-passion",
         "https://s.gr-assets.com/assets/nophoto/book/111x148-bcc042a9c91a29c1d680899eff700a03.png",
         "12182387",
         "4",
         "285263",
         "The Passion (Dark Visions, #3)",
         "The Passion (Dark Visions, #3)"
        ],
        [
         "1",
         "",
         "2",
         "['425995']",
         "US",
         "",
         "[{'count': '1010', 'name': 'to-read'}, {'count': '17', 'name': 'sci-fi'}, {'count': '14', 'name': 'young-adult'}, {'count': '13', 'name': 'dystopia'}, {'count': '13', 'name': 'dystopian'}, {'count': '12', 'name': 'science-fiction'}, {'count': '12', 'name': 'romance'}, {'count': '6', 'name': 'fantasy'}, {'count': '5', 'name': 'ya'}, {'count': '4', 'name': 'read-in-2012'}, {'count': '3', 'name': 'maybe'}, {'count': '3', 'name': 'fiction'}, {'count': '3', 'name': 'ebook'}, {'count': '3', 'name': 'ebooks'}, {'count': '2', 'name': 'complete-series-to-read'}, {'count': '2', 'name': 'maybe-read'}, {'count': '2', 'name': 'to-find'}, {'count': '2', 'name': 'might-read'}, {'count': '2', 'name': 'to-get'}, {'count': '2', 'name': 'c'}, {'count': '2', 'name': 'wish-list'}, {'count': '2', 'name': 'in-space'}, {'count': '2', 'name': 'looks-interesting'}, {'count': '2', 'name': 'series'}, {'count': '2', 'name': 'favorites'}, {'count': '2', 'name': 'reviewed'}, {'count': '2', 'name': 'owned'}, {'count': '2', 'name': 'must-read'}, {'count': '2', 'name': 'to-review'}, {'count': '1', 'name': 'out-to-read'}, {'count': '1', 'name': 'a-cheap-1'}, {'count': '1', 'name': 'romance-suspense-mystery'}, {'count': '1', 'name': 'romance-fantasy-paranormal'}, {'count': '1', 'name': 'fantasy-dystopian-apocalyptic'}, {'count': '1', 'name': '1-fantasy-syfy'}, {'count': '1', 'name': 'maybe-that-i-own'}, {'count': '1', 'name': 'not-available-at-library'}, {'count': '1', 'name': 'read-next'}, {'count': '1', 'name': '9c'}, {'count': '1', 'name': 'waiting-to-read'}, {'count': '1', 'name': 'can-t-get-book'}, {'count': '1', 'name': 'not-on-overdrive'}, {'count': '1', 'name': 'was-or-am-interested'}, {'count': '1', 'name': 'space-alien'}, {'count': '1', 'name': 'want-to-read-and-buy'}, {'count': '1', 'name': 'look-this-up'}, {'count': '1', 'name': 'scifi-fantasy'}, {'count': '1', 'name': 'have-on-ebook-to-read'}, {'count': '1', 'name': 'eoa-futuras-series'}, {'count': '1', 'name': 'eoa'}, {'count': '1', 'name': 'space'}, {'count': '1', 'name': 'dystopian-novels'}, {'count': '1', 'name': 'me-shelf'}, {'count': '1', 'name': 'authored'}, {'count': '1', 'name': 'interested'}, {'count': '1', 'name': 'por-comprar'}, {'count': '1', 'name': 'ya-youth'}, {'count': '1', 'name': 'need'}, {'count': '1', 'name': 'to-buy-ebooks'}, {'count': '1', 'name': 'dark-dystopian-sf'}, {'count': '1', 'name': 'not-in-my-library'}, {'count': '1', 'name': 'alternate-worlds'}, {'count': '1', 'name': 'adventure'}, {'count': '1', 'name': 'revisa-después'}, {'count': '1', 'name': 'private-review'}, {'count': '1', 'name': 'to-read-or-not-to-read'}, {'count': '1', 'name': 'notebook'}, {'count': '1', 'name': 'dessert'}, {'count': '1', 'name': 'dled'}, {'count': '1', 'name': 'series-wip'}, {'count': '1', 'name': 'check-if-os'}, {'count': '1', 'name': 'new-series'}, {'count': '1', 'name': 'science-stuff'}, {'count': '1', 'name': 'scribd'}, {'count': '1', 'name': 'portadasqueamo'}, {'count': '1', 'name': 'inglés'}, {'count': '1', 'name': 'book-sets'}, {'count': '1', 'name': 'distopian-future'}, {'count': '1', 'name': 'to-read-released'}, {'count': '1', 'name': 'books-to-get'}, {'count': '1', 'name': 'to-read-eventually'}, {'count': '1', 'name': 'want-to-read-2'}, {'count': '1', 'name': 'e_book'}, {'count': '1', 'name': 'to-purchase'}, {'count': '1', 'name': 'the-long-list'}, {'count': '1', 'name': 'to-read-en-fos'}, {'count': '1', 'name': 'not-available'}, {'count': '1', 'name': '5-another-time'}, {'count': '1', 'name': 'dont-own'}, {'count': '1', 'name': 'to-read-eoa'}, {'count': '1', 'name': 'not-sure'}, {'count': '1', 'name': 'supernatural-book-series'}, {'count': '1', 'name': 'intrigued'}, {'count': '1', 'name': 'covergasm'}, {'count': '1', 'name': 'space-opera'}, {'count': '1', 'name': '2011-release'}, {'count': '1', 'name': 'young-adult-to-read'}, {'count': '1', 'name': '00asap-0'}, {'count': '1', 'name': 'no-hope-of-finding-in-lib'}, {'count': '1', 'name': 'owned-not-read'}]",
         "B006KLYIAG",
         "true",
         "3.8",
         "B006KLYIAG",
         "['13400912', '13327517', '18107102', '15797097', '11472240', '17850887', '16122329', '12226627', '24470600', '12988310', '13541871', '18737669', '8134674', '26216618', '10822976', '16720478', '18460869']",
         "Life should be simple for Cassie.\nFor the small population of Earth survivors who live on the Space Station Hope everything they do is planned and scheduled, down to the cyclical food menus, their roles in the station, even how many children they have.\nDespite rigid controls directing her life, Cassie feels more out of synch than ever and worries she won't find a place for herself within the station community. Perhaps that's because she's hearing things inside her head that can't possibly be real. Or maybe it's the regular elopements of her peers, heading off to a romantic future in the Married Quarter of the space station, whilst she's never even been attracted to a boy - no matter how hard her best friend Ami pushes them at her. Then there are the odd questions her work placement partner Balik keeps raising. His questions are just as troubling for her as his distracting smiles and eyes that seem to see inside her.\nAs Cassie draws closer to Balik she finds that everything else in her life begins to shift. He tells her things that call into question the system they live within. She can't believe he is right, but at the same time she finds it hard to deny the sincerity of his ideas. Could there be a connection between Cassie's problems and Balik's questions? The truth will drag them both to a terrifying and deadly conclusion beyond anything they could have imagined.",
         "",
         "https://www.goodreads.com/book/show/20135365-hope-s-daughter",
         "[{'author_id': '5395324', 'role': ''}]",
         "",
         "",
         "",
         "",
         "",
         "",
         "",
         "https://www.goodreads.com/book/show/20135365-hope-s-daughter",
         "https://s.gr-assets.com/assets/nophoto/book/111x148-bcc042a9c91a29c1d680899eff700a03.png",
         "20135365",
         "5",
         "18450480",
         "Hope's Daughter",
         "Hope's Daughter"
        ],
        [
         "2",
         "0698143760",
         "17",
         "['493993']",
         "US",
         "",
         "[{'count': '1799', 'name': 'fantasy'}, {'count': '1283', 'name': 'young-adult'}, {'count': '736', 'name': 'ya'}, {'count': '686', 'name': 'favorites'}, {'count': '604', 'name': 'books-i-own'}, {'count': '480', 'name': 'paranormal'}, {'count': '361', 'name': 'series'}, {'count': '344', 'name': 'magic'}, {'count': '319', 'name': 'owned'}, {'count': '309', 'name': 'to-read'}, {'count': '308', 'name': 'witches'}, {'count': '212', 'name': 'urban-fantasy'}, {'count': '207', 'name': 'fiction'}, {'count': '183', 'name': 'read-in-2014'}, {'count': '180', 'name': 'owned-books'}, {'count': '163', 'name': 'supernatural'}, {'count': '135', 'name': 'read-in-2015'}, {'count': '130', 'name': 'to-buy'}, {'count': '123', 'name': 'romance'}, {'count': '121', 'name': 'lgbt'}, {'count': '115', 'name': 'library'}, {'count': '111', 'name': 'ya-fantasy'}, {'count': '111', 'name': 'dnf'}, {'count': '104', 'name': 'tbr'}, {'count': '102', 'name': 'favourites'}, {'count': '85', 'name': 'maybe'}, {'count': '80', 'name': 'read-2015'}, {'count': '80', 'name': 'wish-list'}, {'count': '76', 'name': 'read-in-2016'}, {'count': '76', 'name': 'teen'}, {'count': '72', 'name': 'my-books'}, {'count': '68', 'name': 'read-2014'}, {'count': '68', 'name': 'kindle'}, {'count': '64', 'name': '2014-releases'}, {'count': '62', 'name': 'i-own'}, {'count': '62', 'name': 'arc'}, {'count': '61', 'name': 'lgbtq'}, {'count': '61', 'name': 'ebook'}, {'count': '59', 'name': 'ya-fiction'}, {'count': '57', 'name': 'did-not-finish'}, {'count': '55', 'name': 'ebooks'}, {'count': '52', 'name': '2014-release'}, {'count': '52', 'name': '2014-reads'}, {'count': '52', 'name': 'audiobook'}, {'count': '50', 'name': 'adventure'}, {'count': '49', 'name': 'audiobooks'}, {'count': '48', 'name': 'reviewed'}, {'count': '47', 'name': 'on-my-shelf'}, {'count': '45', 'name': '2015-reads'}, {'count': '44', 'name': 'male-pov'}, {'count': '43', 'name': 'read-2016'}, {'count': '40', 'name': 'owned-tbr'}, {'count': '40', 'name': 'contemporary'}, {'count': '39', 'name': 'cover-love'}, {'count': '37', 'name': 'first-in-series'}, {'count': '37', 'name': 'tbr-pile'}, {'count': '36', 'name': 'ya-paranormal'}, {'count': '35', 'name': 'lgbtqia'}, {'count': '35', 'name': 'trilogy'}, {'count': '35', 'name': 'fantasy-sci-fi'}, {'count': '34', 'name': '4-stars'}, {'count': '34', 'name': 'series-to-read'}, {'count': '33', 'name': '3-stars'}, {'count': '33', 'name': 'my-library'}, {'count': '32', 'name': 'library-books'}, {'count': '31', 'name': 'have'}, {'count': '31', 'name': 'my-bookshelf'}, {'count': '30', 'name': 'want-to-read'}, {'count': '30', 'name': 'ya-books'}, {'count': '29', 'name': 'young-adult-fiction'}, {'count': '29', 'name': 'dark'}, {'count': '29', 'name': 'must-read'}, {'count': '28', 'name': 'on-my-bookshelf'}, {'count': '27', 'name': 'series-to-start'}, {'count': '27', 'name': 'bookshelf'}, {'count': '27', 'name': 'for-review'}, {'count': '27', 'name': 'coming-of-age'}, {'count': '27', 'name': 'netgalley'}, {'count': '26', 'name': 'horror'}, {'count': '26', 'name': 'abandoned'}, {'count': '26', 'name': 'e-book'}, {'count': '26', 'name': 'witches-wizards'}, {'count': '25', 'name': 'action'}, {'count': '25', 'name': 'meh'}, {'count': '25', 'name': 'audio'}, {'count': '25', 'name': 'read-in-english'}, {'count': '24', 'name': 'read-in-2017'}, {'count': '24', 'name': 'books'}, {'count': '24', 'name': 'default'}, {'count': '24', 'name': 'penguin'}, {'count': '24', 'name': 'own-it'}, {'count': '24', 'name': 'england'}, {'count': '24', 'name': 'need-to-buy'}, {'count': '23', 'name': 'read-2017'}, {'count': '23', 'name': 'sally-green'}, {'count': '23', 'name': 'dystopian'}, {'count': '23', 'name': 'dystopia'}, {'count': '23', 'name': '5-stars'}, {'count': '22', 'name': 'ya-lit'}, {'count': '22', 'name': 'first-in-a-series'}]",
         "",
         "true",
         "3.8",
         "",
         "['15728807', '17182499', '15673520', '16081758', '17842040', '17617648', '17934493', '18599667', '18302133', '17910091', '17675386', '17668473', '17334538', '18667948', '18528430', '15715844', '16059442', '15801763']",
         "Wanted by no one.\nHunted by everyone.\nSixteen-year-old Nathan lives in a cage: beaten, shackled, trained to kill. In a modern-day England where two warring factions of witches live amongst humans, Nathan is an abomination, the illegitimate son of the world's most terrifying and violent witch, Marcus. Nathan's only hope for survival is to escape his captors, track down Marcus, and receive the three gifts that will bring him into his own magical powers--before it's too late. But how can Nathan find his father when there is no one safe to trust, not even family, not even the girl he loves?\nHalf Badis an international sensation and the start of a brilliant trilogy: a gripping tale of alienation and the indomitable will to survive.",
         "ebook",
         "https://www.goodreads.com/book/show/21401181-half-bad",
         "[{'author_id': '7314532', 'role': ''}]",
         "Viking Children's",
         "416",
         "4",
         "9780698143760",
         "3",
         "",
         "2014",
         "https://www.goodreads.com/book/show/21401181-half-bad",
         "https://images.gr-assets.com/books/1394747643m/21401181.jpg",
         "21401181",
         "33",
         "24802827",
         "Half Bad (Half Life, #1)",
         "Half Bad (Half Life, #1)"
        ],
        [
         "3",
         "",
         "9",
         "['176160']",
         "US",
         "eng",
         "[{'count': '7173', 'name': 'to-read'}, {'count': '235', 'name': 'vampires'}, {'count': '195', 'name': 'currently-reading'}, {'count': '194', 'name': 'young-adult'}, {'count': '186', 'name': 'favorites'}, {'count': '109', 'name': 'fantasy'}, {'count': '104', 'name': 'vampire'}, {'count': '81', 'name': 'owned'}, {'count': '80', 'name': 'books-i-own'}, {'count': '77', 'name': 'ya'}, {'count': '76', 'name': 'series'}, {'count': '73', 'name': 'paranormal'}, {'count': '50', 'name': 'supernatural'}, {'count': '42', 'name': 'heather-brewer'}, {'count': '41', 'name': 'fiction'}, {'count': '37', 'name': 'horror'}, {'count': '31', 'name': 'teen'}, {'count': '31', 'name': 'urban-fantasy'}, {'count': '30', 'name': 'the-chronicles-of-vladimir-tod'}, {'count': '30', 'name': 'vladimir-tod'}, {'count': '21', 'name': 'romance'}, {'count': '21', 'name': 'library'}, {'count': '18', 'name': 'owned-books'}, {'count': '18', 'name': 'to-buy'}, {'count': '16', 'name': 'high-school'}, {'count': '15', 'name': 'my-books'}, {'count': '15', 'name': 'chronicles-of-vladimir-tod'}, {'count': '14', 'name': 'default'}, {'count': '14', 'name': 'action'}, {'count': '13', 'name': 'vlad'}, {'count': '13', 'name': 'vampire-books'}, {'count': '12', 'name': 'ya-fiction'}, {'count': '11', 'name': 'i-own'}, {'count': '10', 'name': 'have'}, {'count': '10', 'name': 'my-library'}, {'count': '10', 'name': '7th-grade'}, {'count': '9', 'name': 'ya-paranormal'}, {'count': '9', 'name': 'completed-series'}, {'count': '9', 'name': 'favorite-books'}, {'count': '9', 'name': 'ya-fantasy'}, {'count': '8', 'name': 'novels'}, {'count': '8', 'name': 'school'}, {'count': '8', 'name': 'vamps'}, {'count': '8', 'name': 'young-adult-fiction'}, {'count': '8', 'name': 'read-in-2010'}, {'count': '8', 'name': 'books'}, {'count': '8', 'name': 'wish-list'}, {'count': '7', 'name': 'mystery'}, {'count': '7', 'name': 'favourites'}, {'count': '7', 'name': 'favorite-series'}, {'count': '7', 'name': 'need-to-buy'}, {'count': '7', 'name': 'ya-lit'}, {'count': '7', 'name': 'vladimir-todd'}, {'count': '6', 'name': 'finished'}, {'count': '6', 'name': 'paranormal-romance'}, {'count': '6', 'name': 'finished-series'}, {'count': '6', 'name': 'books-i-have'}, {'count': '6', 'name': 'favorite'}, {'count': '6', 'name': 'want-to-read'}, {'count': '6', 'name': 'death'}, {'count': '6', 'name': 'ya-books'}, {'count': '6', 'name': 'part-of-a-series'}, {'count': '6', 'name': 'best-books-ever'}, {'count': '5', 'name': 'shelfari-favorites'}, {'count': '5', 'name': 'paranormal-fantasy'}, {'count': '5', 'name': 'audiobook'}, {'count': '5', 'name': 'audiobooks'}, {'count': '5', 'name': 'own-it'}, {'count': '5', 'name': '5-stars'}, {'count': '5', 'name': '8th-grade'}, {'count': '5', 'name': 'my-favorites'}, {'count': '5', 'name': 'ebook'}, {'count': '4', 'name': 'read-again'}, {'count': '4', 'name': 'on-my-shelf'}, {'count': '4', 'name': 'young-adult-fantasy'}, {'count': '4', 'name': 'ya-read'}, {'count': '4', 'name': '4-stars'}, {'count': '4', 'name': 'drama'}, {'count': '4', 'name': 'love'}, {'count': '4', 'name': 'coming-of-age'}, {'count': '4', 'name': 'middle-school'}, {'count': '4', 'name': 're-read'}, {'count': '4', 'name': 'kindle'}, {'count': '4', 'name': 'magic'}, {'count': '4', 'name': 'urban'}, {'count': '4', 'name': 'want-to-own'}, {'count': '4', 'name': 'reviewed'}, {'count': '4', 'name': 'family'}, {'count': '4', 'name': 'teen-books'}, {'count': '4', 'name': 'mythical-creatures'}, {'count': '4', 'name': 'vlad-tod'}, {'count': '4', 'name': 'ebooks'}, {'count': '4', 'name': 'library-books'}, {'count': '4', 'name': 'audio'}, {'count': '4', 'name': '2011-books'}, {'count': '4', 'name': 'teens'}, {'count': '3', 'name': 'series-book-5'}, {'count': '3', 'name': 'auth-heather-brewer'}, {'count': '3', 'name': 'series-chronicles-of-vladimir-tod'}, {'count': '3', 'name': 'high-school-life'}]",
         "B0042JSOQC",
         "true",
         "4.35",
         "B004IYJDXY",
         "['25861113', '7430195', '18765937', '6120544', '3247550', '9266753', '6976966', '25764778', '17696585', '23256849', '642463', '2842796', '263172', '10874337']",
         "It all comes down to this.\nVlad's running out of time. The Elysian Council has given him weeks to live, and that's if the Slayer Society doesn't kill him - along with all the citizens of Bathory - first. Then there's the issue of Vlad's father, who may or may not still be alive after all these years, and oh yeah, that tiny little detail in the Pravus prophecy about Vlad enslaving Vampirekind and the human race. So much for college applications.\nIn this epic finale to Heather Brewer's heart-stopping Chronicles of Vladimir Tod, dark secrets will be revealed, old friends will become enemies, and warm blood will run cold. Just be careful it isn't yours.",
         "",
         "https://www.goodreads.com/book/show/10099492-twelfth-grade-kills",
         "[{'author_id': '293603', 'role': ''}]",
         "",
         "",
         "",
         "",
         "",
         "",
         "",
         "https://www.goodreads.com/book/show/10099492-twelfth-grade-kills",
         "https://s.gr-assets.com/assets/nophoto/book/111x148-bcc042a9c91a29c1d680899eff700a03.png",
         "10099492",
         "152",
         "10800440",
         "Twelfth Grade Kills (The Chronicles of Vladimir Tod, #5)",
         "Twelfth Grade Kills (The Chronicles of Vladimir Tod, #5)"
        ],
        [
         "4",
         "0990662616",
         "428",
         "[]",
         "US",
         "eng",
         "[{'count': '9481', 'name': 'to-read'}, {'count': '196', 'name': 'young-adult'}, {'count': '173', 'name': 'sci-fi'}, {'count': '144', 'name': 'science-fiction'}, {'count': '92', 'name': 'ya'}, {'count': '84', 'name': 'dystopian'}, {'count': '75', 'name': 'dystopia'}, {'count': '67', 'name': 'currently-reading'}, {'count': '52', 'name': 'romance'}, {'count': '49', 'name': 'favorites'}, {'count': '45', 'name': 'books-i-own'}, {'count': '41', 'name': 'kindle'}, {'count': '38', 'name': 'netgalley'}, {'count': '33', 'name': 'fantasy'}, {'count': '29', 'name': 'ebook'}, {'count': '26', 'name': 'to-buy'}, {'count': '26', 'name': '2014-releases'}, {'count': '24', 'name': 'wish-list'}, {'count': '23', 'name': 'read-in-2015'}, {'count': '23', 'name': 'owned'}, {'count': '21', 'name': 'fiction'}, {'count': '19', 'name': 'read-in-2014'}, {'count': '18', 'name': 'arc'}, {'count': '18', 'name': 'ebooks'}, {'count': '18', 'name': '2014-release'}, {'count': '18', 'name': 'stand-alone'}, {'count': '16', 'name': 'mystery'}, {'count': '16', 'name': 'scifi'}, {'count': '16', 'name': 'signed'}, {'count': '13', 'name': 'maybe'}, {'count': '11', 'name': 'read-2015'}, {'count': '11', 'name': 'cover-love'}, {'count': '10', 'name': 'e-book'}, {'count': '10', 'name': 'standalones'}, {'count': '10', 'name': 'paranormal'}, {'count': '10', 'name': 'e-books'}, {'count': '10', 'name': 'need-to-buy'}, {'count': '9', 'name': 'did-not-finish'}, {'count': '9', 'name': 'dnf'}, {'count': '9', 'name': 'stand-alones'}, {'count': '9', 'name': 'thriller'}, {'count': '9', 'name': 'standalone'}, {'count': '8', 'name': 'tbr'}, {'count': '8', 'name': 'i-own'}, {'count': '8', 'name': 'read-2014'}, {'count': '8', 'name': 'own-ebook'}, {'count': '8', 'name': 'want-to-read'}, {'count': '8', 'name': 'sci-fi-fantasy'}, {'count': '7', 'name': 'owned-books'}, {'count': '7', 'name': 'arcs'}, {'count': '7', 'name': 'must-read'}, {'count': '7', 'name': '2015-reads'}, {'count': '6', 'name': 'review-copy'}, {'count': '6', 'name': 'kindle-books'}, {'count': '6', 'name': 'for-review'}, {'count': '6', 'name': 'ya-science-fiction'}, {'count': '6', 'name': 'dystopia-utopia'}, {'count': '6', 'name': 'young-adult-fiction'}, {'count': '6', 'name': '2014-publication'}, {'count': '6', 'name': 'beth-revis'}, {'count': '6', 'name': 'ya-sci-fi'}, {'count': '5', 'name': 'owned-kindle'}, {'count': '5', 'name': 'signed-books'}, {'count': '5', 'name': 'signed-copies'}, {'count': '5', 'name': 'library'}, {'count': '5', 'name': 'favourites'}, {'count': '5', 'name': 'on-hold'}, {'count': '5', 'name': 'futuristic'}, {'count': '5', 'name': 'not-at-library'}, {'count': '5', 'name': 'post-apocalyptic'}, {'count': '5', 'name': 'beautiful-covers'}, {'count': '5', 'name': 'ya-fiction'}, {'count': '4', 'name': 'read-in-2016'}, {'count': '4', 'name': 'read-2016'}, {'count': '4', 'name': 'tbr-pile'}, {'count': '4', 'name': 'meh'}, {'count': '4', 'name': 'ya-romance'}, {'count': '4', 'name': 'ya-lit'}, {'count': '4', 'name': 'suspense'}, {'count': '4', 'name': 'reviewed'}, {'count': '4', 'name': 'on-my-kindle'}, {'count': '4', 'name': 'net-galley'}, {'count': '4', 'name': 'teen'}, {'count': '4', 'name': 'contemporary'}, {'count': '4', 'name': 'fantasy-sci-fi'}, {'count': '4', 'name': 'maybe-to-read'}, {'count': '4', 'name': 'to-read-young-adult'}, {'count': '4', 'name': 'covergasm'}, {'count': '4', 'name': 'to-read-ya'}, {'count': '4', 'name': 'scifi-fantasy'}, {'count': '4', 'name': '2014-books'}, {'count': '4', 'name': 'october-2014'}, {'count': '4', 'name': 'favorite-authors'}, {'count': '4', 'name': '2015-release'}, {'count': '4', 'name': 'ya-to-read'}, {'count': '3', 'name': 'read-in-2017'}, {'count': '3', 'name': 'ready-to-read'}, {'count': '3', 'name': 'on-shelf'}, {'count': '3', 'name': 'next-to-read'}, {'count': '3', 'name': '2016-reading-list'}]",
         "",
         "false",
         "3.71",
         "B00MW0MTGE",
         "['20499652', '17934493', '13518102', '16210411', '17149396', '16037505', '17620859', '20578610', '18079614', '17563396', '17334538', '13451410', '25446343', '16059428', '18365306', '22392926', '18528430', '23281932']",
         "The future world is at peace.\nElla Shepherd has dedicated her life to using her unique gift--the ability to enter people's dreams and memories using technology developed by her mother--to help others relive their happy memories.\nBut not all is as it seems.\nElla starts seeing impossible things--images of her dead father, warnings of who she cannot trust. Her government recruits her to spy on a rebel group, using her ability to experience--and influence--the memories of traitors. But the leader of the rebels claims they used to be in love--even though Ella's never met him before in her life. Which can only mean one thing...\nSomeone's altered her memory.\nElla's gift is enough to overthrow a corrupt government or crush a growing rebel group. She is the key to stopping a war she didn't even know was happening. But if someone else has been inside Ella's head, she cannot trust her own memories, thoughts, or feelings.\nSo who can she trust?",
         "Paperback",
         "https://www.goodreads.com/book/show/22642971-the-body-electric",
         "[{'author_id': '4018722', 'role': ''}]",
         "Scripturient Books",
         "351",
         "6",
         "9780990662617",
         "10",
         "Special Edition",
         "2014",
         "https://www.goodreads.com/book/show/22642971-the-body-electric",
         "https://images.gr-assets.com/books/1406979059m/22642971.jpg",
         "22642971",
         "1525",
         "42144295",
         "The Body Electric",
         "The Body Electric"
        ]
       ],
       "shape": {
        "columns": 29,
        "rows": 5
       }
      },
      "text/html": [
       "<div>\n",
       "<style scoped>\n",
       "    .dataframe tbody tr th:only-of-type {\n",
       "        vertical-align: middle;\n",
       "    }\n",
       "\n",
       "    .dataframe tbody tr th {\n",
       "        vertical-align: top;\n",
       "    }\n",
       "\n",
       "    .dataframe thead th {\n",
       "        text-align: right;\n",
       "    }\n",
       "</style>\n",
       "<table border=\"1\" class=\"dataframe\">\n",
       "  <thead>\n",
       "    <tr style=\"text-align: right;\">\n",
       "      <th></th>\n",
       "      <th>isbn</th>\n",
       "      <th>text_reviews_count</th>\n",
       "      <th>series</th>\n",
       "      <th>country_code</th>\n",
       "      <th>language_code</th>\n",
       "      <th>popular_shelves</th>\n",
       "      <th>asin</th>\n",
       "      <th>is_ebook</th>\n",
       "      <th>average_rating</th>\n",
       "      <th>kindle_asin</th>\n",
       "      <th>...</th>\n",
       "      <th>publication_month</th>\n",
       "      <th>edition_information</th>\n",
       "      <th>publication_year</th>\n",
       "      <th>url</th>\n",
       "      <th>image_url</th>\n",
       "      <th>book_id</th>\n",
       "      <th>ratings_count</th>\n",
       "      <th>work_id</th>\n",
       "      <th>title</th>\n",
       "      <th>title_without_series</th>\n",
       "    </tr>\n",
       "  </thead>\n",
       "  <tbody>\n",
       "    <tr>\n",
       "      <th>0</th>\n",
       "      <td></td>\n",
       "      <td>1</td>\n",
       "      <td>[147734]</td>\n",
       "      <td>US</td>\n",
       "      <td></td>\n",
       "      <td>[{'count': '1057', 'name': 'to-read'}, {'count...</td>\n",
       "      <td>B0056A00P4</td>\n",
       "      <td>true</td>\n",
       "      <td>4.04</td>\n",
       "      <td>B0056A00P4</td>\n",
       "      <td>...</td>\n",
       "      <td></td>\n",
       "      <td></td>\n",
       "      <td></td>\n",
       "      <td>https://www.goodreads.com/book/show/12182387-t...</td>\n",
       "      <td>https://s.gr-assets.com/assets/nophoto/book/11...</td>\n",
       "      <td>12182387</td>\n",
       "      <td>4</td>\n",
       "      <td>285263</td>\n",
       "      <td>The Passion (Dark Visions, #3)</td>\n",
       "      <td>The Passion (Dark Visions, #3)</td>\n",
       "    </tr>\n",
       "    <tr>\n",
       "      <th>1</th>\n",
       "      <td></td>\n",
       "      <td>2</td>\n",
       "      <td>[425995]</td>\n",
       "      <td>US</td>\n",
       "      <td></td>\n",
       "      <td>[{'count': '1010', 'name': 'to-read'}, {'count...</td>\n",
       "      <td>B006KLYIAG</td>\n",
       "      <td>true</td>\n",
       "      <td>3.80</td>\n",
       "      <td>B006KLYIAG</td>\n",
       "      <td>...</td>\n",
       "      <td></td>\n",
       "      <td></td>\n",
       "      <td></td>\n",
       "      <td>https://www.goodreads.com/book/show/20135365-h...</td>\n",
       "      <td>https://s.gr-assets.com/assets/nophoto/book/11...</td>\n",
       "      <td>20135365</td>\n",
       "      <td>5</td>\n",
       "      <td>18450480</td>\n",
       "      <td>Hope's Daughter</td>\n",
       "      <td>Hope's Daughter</td>\n",
       "    </tr>\n",
       "    <tr>\n",
       "      <th>2</th>\n",
       "      <td>0698143760</td>\n",
       "      <td>17</td>\n",
       "      <td>[493993]</td>\n",
       "      <td>US</td>\n",
       "      <td></td>\n",
       "      <td>[{'count': '1799', 'name': 'fantasy'}, {'count...</td>\n",
       "      <td></td>\n",
       "      <td>true</td>\n",
       "      <td>3.80</td>\n",
       "      <td></td>\n",
       "      <td>...</td>\n",
       "      <td>3</td>\n",
       "      <td></td>\n",
       "      <td>2014</td>\n",
       "      <td>https://www.goodreads.com/book/show/21401181-h...</td>\n",
       "      <td>https://images.gr-assets.com/books/1394747643m...</td>\n",
       "      <td>21401181</td>\n",
       "      <td>33</td>\n",
       "      <td>24802827</td>\n",
       "      <td>Half Bad (Half Life, #1)</td>\n",
       "      <td>Half Bad (Half Life, #1)</td>\n",
       "    </tr>\n",
       "    <tr>\n",
       "      <th>3</th>\n",
       "      <td></td>\n",
       "      <td>9</td>\n",
       "      <td>[176160]</td>\n",
       "      <td>US</td>\n",
       "      <td>eng</td>\n",
       "      <td>[{'count': '7173', 'name': 'to-read'}, {'count...</td>\n",
       "      <td>B0042JSOQC</td>\n",
       "      <td>true</td>\n",
       "      <td>4.35</td>\n",
       "      <td>B004IYJDXY</td>\n",
       "      <td>...</td>\n",
       "      <td></td>\n",
       "      <td></td>\n",
       "      <td></td>\n",
       "      <td>https://www.goodreads.com/book/show/10099492-t...</td>\n",
       "      <td>https://s.gr-assets.com/assets/nophoto/book/11...</td>\n",
       "      <td>10099492</td>\n",
       "      <td>152</td>\n",
       "      <td>10800440</td>\n",
       "      <td>Twelfth Grade Kills (The Chronicles of Vladimi...</td>\n",
       "      <td>Twelfth Grade Kills (The Chronicles of Vladimi...</td>\n",
       "    </tr>\n",
       "    <tr>\n",
       "      <th>4</th>\n",
       "      <td>0990662616</td>\n",
       "      <td>428</td>\n",
       "      <td>[]</td>\n",
       "      <td>US</td>\n",
       "      <td>eng</td>\n",
       "      <td>[{'count': '9481', 'name': 'to-read'}, {'count...</td>\n",
       "      <td></td>\n",
       "      <td>false</td>\n",
       "      <td>3.71</td>\n",
       "      <td>B00MW0MTGE</td>\n",
       "      <td>...</td>\n",
       "      <td>10</td>\n",
       "      <td>Special Edition</td>\n",
       "      <td>2014</td>\n",
       "      <td>https://www.goodreads.com/book/show/22642971-t...</td>\n",
       "      <td>https://images.gr-assets.com/books/1406979059m...</td>\n",
       "      <td>22642971</td>\n",
       "      <td>1525</td>\n",
       "      <td>42144295</td>\n",
       "      <td>The Body Electric</td>\n",
       "      <td>The Body Electric</td>\n",
       "    </tr>\n",
       "  </tbody>\n",
       "</table>\n",
       "<p>5 rows × 29 columns</p>\n",
       "</div>"
      ],
      "text/plain": [
       "         isbn  text_reviews_count    series country_code language_code  \\\n",
       "0                               1  [147734]           US                 \n",
       "1                               2  [425995]           US                 \n",
       "2  0698143760                  17  [493993]           US                 \n",
       "3                               9  [176160]           US           eng   \n",
       "4  0990662616                 428        []           US           eng   \n",
       "\n",
       "                                     popular_shelves        asin is_ebook  \\\n",
       "0  [{'count': '1057', 'name': 'to-read'}, {'count...  B0056A00P4     true   \n",
       "1  [{'count': '1010', 'name': 'to-read'}, {'count...  B006KLYIAG     true   \n",
       "2  [{'count': '1799', 'name': 'fantasy'}, {'count...                 true   \n",
       "3  [{'count': '7173', 'name': 'to-read'}, {'count...  B0042JSOQC     true   \n",
       "4  [{'count': '9481', 'name': 'to-read'}, {'count...                false   \n",
       "\n",
       "   average_rating kindle_asin  ... publication_month edition_information  \\\n",
       "0            4.04  B0056A00P4  ...                                         \n",
       "1            3.80  B006KLYIAG  ...                                         \n",
       "2            3.80              ...                 3                       \n",
       "3            4.35  B004IYJDXY  ...                                         \n",
       "4            3.71  B00MW0MTGE  ...                10     Special Edition   \n",
       "\n",
       "  publication_year                                                url  \\\n",
       "0                   https://www.goodreads.com/book/show/12182387-t...   \n",
       "1                   https://www.goodreads.com/book/show/20135365-h...   \n",
       "2             2014  https://www.goodreads.com/book/show/21401181-h...   \n",
       "3                   https://www.goodreads.com/book/show/10099492-t...   \n",
       "4             2014  https://www.goodreads.com/book/show/22642971-t...   \n",
       "\n",
       "                                           image_url   book_id ratings_count  \\\n",
       "0  https://s.gr-assets.com/assets/nophoto/book/11...  12182387             4   \n",
       "1  https://s.gr-assets.com/assets/nophoto/book/11...  20135365             5   \n",
       "2  https://images.gr-assets.com/books/1394747643m...  21401181            33   \n",
       "3  https://s.gr-assets.com/assets/nophoto/book/11...  10099492           152   \n",
       "4  https://images.gr-assets.com/books/1406979059m...  22642971          1525   \n",
       "\n",
       "    work_id                                              title  \\\n",
       "0    285263                     The Passion (Dark Visions, #3)   \n",
       "1  18450480                                    Hope's Daughter   \n",
       "2  24802827                           Half Bad (Half Life, #1)   \n",
       "3  10800440  Twelfth Grade Kills (The Chronicles of Vladimi...   \n",
       "4  42144295                                  The Body Electric   \n",
       "\n",
       "                                title_without_series  \n",
       "0                     The Passion (Dark Visions, #3)  \n",
       "1                                    Hope's Daughter  \n",
       "2                           Half Bad (Half Life, #1)  \n",
       "3  Twelfth Grade Kills (The Chronicles of Vladimi...  \n",
       "4                                  The Body Electric  \n",
       "\n",
       "[5 rows x 29 columns]"
      ]
     },
     "execution_count": 57,
     "metadata": {},
     "output_type": "execute_result"
    }
   ],
   "source": [
    "books = pd.read_json(os.path.join(DIR, 'goodreads_books_young_adult.json'), lines=True)\n",
    "books.head()"
   ]
  },
  {
   "cell_type": "code",
   "execution_count": 59,
   "metadata": {},
   "outputs": [
    {
     "name": "stdout",
     "output_type": "stream",
     "text": [
      "Cargados 829529 registros aproximadamente (100% del total)\n"
     ]
    },
    {
     "data": {
      "application/vnd.microsoft.datawrangler.viewer.v0+json": {
       "columns": [
        {
         "name": "index",
         "rawType": "int64",
         "type": "integer"
        },
        {
         "name": "average_rating",
         "rawType": "object",
         "type": "string"
        },
        {
         "name": "author_id",
         "rawType": "object",
         "type": "string"
        },
        {
         "name": "text_reviews_count",
         "rawType": "object",
         "type": "string"
        },
        {
         "name": "name",
         "rawType": "object",
         "type": "string"
        },
        {
         "name": "ratings_count",
         "rawType": "object",
         "type": "string"
        }
       ],
       "ref": "2ffd50dd-8568-4010-9d06-955b206f94ac",
       "rows": [
        [
         "0",
         "3.98",
         "604031",
         "7",
         "Ronald J. Fields",
         "49"
        ],
        [
         "1",
         "4.08",
         "626222",
         "28716",
         "Anita Diamant",
         "546796"
        ],
        [
         "2",
         "3.92",
         "10333",
         "5075",
         "Barbara Hambly",
         "122118"
        ],
        [
         "3",
         "3.68",
         "9212",
         "36262",
         "Jennifer Weiner",
         "888522"
        ],
        [
         "4",
         "3.82",
         "149918",
         "96",
         "Nigel Pennick",
         "1740"
        ]
       ],
       "shape": {
        "columns": 5,
        "rows": 5
       }
      },
      "text/html": [
       "<div>\n",
       "<style scoped>\n",
       "    .dataframe tbody tr th:only-of-type {\n",
       "        vertical-align: middle;\n",
       "    }\n",
       "\n",
       "    .dataframe tbody tr th {\n",
       "        vertical-align: top;\n",
       "    }\n",
       "\n",
       "    .dataframe thead th {\n",
       "        text-align: right;\n",
       "    }\n",
       "</style>\n",
       "<table border=\"1\" class=\"dataframe\">\n",
       "  <thead>\n",
       "    <tr style=\"text-align: right;\">\n",
       "      <th></th>\n",
       "      <th>average_rating</th>\n",
       "      <th>author_id</th>\n",
       "      <th>text_reviews_count</th>\n",
       "      <th>name</th>\n",
       "      <th>ratings_count</th>\n",
       "    </tr>\n",
       "  </thead>\n",
       "  <tbody>\n",
       "    <tr>\n",
       "      <th>0</th>\n",
       "      <td>3.98</td>\n",
       "      <td>604031</td>\n",
       "      <td>7</td>\n",
       "      <td>Ronald J. Fields</td>\n",
       "      <td>49</td>\n",
       "    </tr>\n",
       "    <tr>\n",
       "      <th>1</th>\n",
       "      <td>4.08</td>\n",
       "      <td>626222</td>\n",
       "      <td>28716</td>\n",
       "      <td>Anita Diamant</td>\n",
       "      <td>546796</td>\n",
       "    </tr>\n",
       "    <tr>\n",
       "      <th>2</th>\n",
       "      <td>3.92</td>\n",
       "      <td>10333</td>\n",
       "      <td>5075</td>\n",
       "      <td>Barbara Hambly</td>\n",
       "      <td>122118</td>\n",
       "    </tr>\n",
       "    <tr>\n",
       "      <th>3</th>\n",
       "      <td>3.68</td>\n",
       "      <td>9212</td>\n",
       "      <td>36262</td>\n",
       "      <td>Jennifer Weiner</td>\n",
       "      <td>888522</td>\n",
       "    </tr>\n",
       "    <tr>\n",
       "      <th>4</th>\n",
       "      <td>3.82</td>\n",
       "      <td>149918</td>\n",
       "      <td>96</td>\n",
       "      <td>Nigel Pennick</td>\n",
       "      <td>1740</td>\n",
       "    </tr>\n",
       "  </tbody>\n",
       "</table>\n",
       "</div>"
      ],
      "text/plain": [
       "  average_rating author_id text_reviews_count              name ratings_count\n",
       "0           3.98    604031                  7  Ronald J. Fields            49\n",
       "1           4.08    626222              28716     Anita Diamant        546796\n",
       "2           3.92     10333               5075    Barbara Hambly        122118\n",
       "3           3.68      9212              36262   Jennifer Weiner        888522\n",
       "4           3.82    149918                 96     Nigel Pennick          1740"
      ]
     },
     "execution_count": 59,
     "metadata": {},
     "output_type": "execute_result"
    }
   ],
   "source": [
    "authors = load_data(os.path.join(DIR, 'goodreads_book_authors.json.gz'))\n",
    "authors.head()"
   ]
  },
  {
   "cell_type": "code",
   "execution_count": 60,
   "metadata": {},
   "outputs": [
    {
     "name": "stdout",
     "output_type": "stream",
     "text": [
      "Cargados 2360655 registros aproximadamente (100% del total)\n"
     ]
    },
    {
     "data": {
      "application/vnd.microsoft.datawrangler.viewer.v0+json": {
       "columns": [
        {
         "name": "index",
         "rawType": "int64",
         "type": "integer"
        },
        {
         "name": "book_id",
         "rawType": "object",
         "type": "string"
        },
        {
         "name": "genres",
         "rawType": "object",
         "type": "unknown"
        }
       ],
       "ref": "2d266b1d-bb30-4f11-b0b0-803938dd3b86",
       "rows": [
        [
         "0",
         "5333265",
         "{'history, historical fiction, biography': 1}"
        ],
        [
         "1",
         "1333909",
         "{'fiction': 219, 'history, historical fiction, biography': 5}"
        ],
        [
         "2",
         "7327624",
         "{'fantasy, paranormal': 31, 'fiction': 8, 'mystery, thriller, crime': 1, 'poetry': 1}"
        ],
        [
         "3",
         "6066819",
         "{'fiction': 555, 'romance': 23, 'mystery, thriller, crime': 10}"
        ],
        [
         "4",
         "287140",
         "{'non-fiction': 3}"
        ]
       ],
       "shape": {
        "columns": 2,
        "rows": 5
       }
      },
      "text/html": [
       "<div>\n",
       "<style scoped>\n",
       "    .dataframe tbody tr th:only-of-type {\n",
       "        vertical-align: middle;\n",
       "    }\n",
       "\n",
       "    .dataframe tbody tr th {\n",
       "        vertical-align: top;\n",
       "    }\n",
       "\n",
       "    .dataframe thead th {\n",
       "        text-align: right;\n",
       "    }\n",
       "</style>\n",
       "<table border=\"1\" class=\"dataframe\">\n",
       "  <thead>\n",
       "    <tr style=\"text-align: right;\">\n",
       "      <th></th>\n",
       "      <th>book_id</th>\n",
       "      <th>genres</th>\n",
       "    </tr>\n",
       "  </thead>\n",
       "  <tbody>\n",
       "    <tr>\n",
       "      <th>0</th>\n",
       "      <td>5333265</td>\n",
       "      <td>{'history, historical fiction, biography': 1}</td>\n",
       "    </tr>\n",
       "    <tr>\n",
       "      <th>1</th>\n",
       "      <td>1333909</td>\n",
       "      <td>{'fiction': 219, 'history, historical fiction,...</td>\n",
       "    </tr>\n",
       "    <tr>\n",
       "      <th>2</th>\n",
       "      <td>7327624</td>\n",
       "      <td>{'fantasy, paranormal': 31, 'fiction': 8, 'mys...</td>\n",
       "    </tr>\n",
       "    <tr>\n",
       "      <th>3</th>\n",
       "      <td>6066819</td>\n",
       "      <td>{'fiction': 555, 'romance': 23, 'mystery, thri...</td>\n",
       "    </tr>\n",
       "    <tr>\n",
       "      <th>4</th>\n",
       "      <td>287140</td>\n",
       "      <td>{'non-fiction': 3}</td>\n",
       "    </tr>\n",
       "  </tbody>\n",
       "</table>\n",
       "</div>"
      ],
      "text/plain": [
       "   book_id                                             genres\n",
       "0  5333265      {'history, historical fiction, biography': 1}\n",
       "1  1333909  {'fiction': 219, 'history, historical fiction,...\n",
       "2  7327624  {'fantasy, paranormal': 31, 'fiction': 8, 'mys...\n",
       "3  6066819  {'fiction': 555, 'romance': 23, 'mystery, thri...\n",
       "4   287140                                 {'non-fiction': 3}"
      ]
     },
     "execution_count": 60,
     "metadata": {},
     "output_type": "execute_result"
    }
   ],
   "source": [
    "genres = load_data(os.path.join(DIR, 'goodreads_book_genres_initial.json.gz'))\n",
    "genres.head()"
   ]
  },
  {
   "cell_type": "markdown",
   "metadata": {},
   "source": [
    "## Preparación de datos"
   ]
  },
  {
   "cell_type": "markdown",
   "metadata": {},
   "source": [
    "Definimos funciones para preprocesar el texto utilizando *regex*, para eliminar las stopwords y para usar el lematizador."
   ]
  },
  {
   "cell_type": "code",
   "execution_count": 61,
   "metadata": {},
   "outputs": [],
   "source": [
    "def clean_text(text):\n",
    "    text = text.lower()  # Convertir a minúsculas\n",
    "    text = re.sub(r'\\d+', '', text)  # Eliminar números\n",
    "    text = re.sub(r'[^\\w\\s]', '', text)  # Eliminar puntuación\n",
    "    text = text.strip()  # Eliminar espacios extra\n",
    "    return text\n",
    "\n",
    "def remove_stopwords(text):\n",
    "    return ' '.join([word for word in text.split() if word not in stop_words])\n",
    "\n",
    "def lemmatize_text(text):\n",
    "    return ' '.join([lemmatizer.lemmatize(word) for word in text.split()])"
   ]
  },
  {
   "cell_type": "markdown",
   "metadata": {},
   "source": [
    "Ahora, definimos funciones para realizar operaciones de ingeniería de características. Principalmente, lo hacemos sobre `books`y sobre la unión de los 3 datasets, `books_authors_genres`."
   ]
  },
  {
   "cell_type": "code",
   "execution_count": 62,
   "metadata": {},
   "outputs": [],
   "source": [
    "def preprocess_books(books_df):\n",
    "    books_df = books_df[books_df['language_code'] == 'eng']\n",
    "    books_df['author_id'] = books_df['authors'].apply(lambda x: [author['author_id'] for author in x] if x else None)\n",
    "    books_df = books_df.explode('author_id').reset_index(drop=True)\n",
    "    return books_df.drop(columns=['country_code', 'kindle_asin', 'link', 'authors', 'isbn13', 'url'])\n",
    "\n",
    "\n",
    "def merge_books_authors_genres(books_df, authors_df, genres_df):\n",
    "    books_authors = books_df.merge(authors_df, on='author_id', how='left', suffixes=('', '_author'))\n",
    "    genres_df['book_id'] = genres_df['book_id'].astype(int)\n",
    "    return books_authors.merge(genres_df, on='book_id', how='left', suffixes=('', '_genre'))\n",
    "\n",
    "\n",
    "def clean_and_engineer_features(df):\n",
    "    # Limpieza básica\n",
    "    df['popular_shelves'] = df['popular_shelves'].apply(lambda x: [shelf['name'] for shelf in x] if x else [''])\n",
    "    df['genres'] = df['genres'].apply(lambda x: list(x.keys()) if x else [''])\n",
    "    df['series'] = df['series'].apply(lambda x: x[0] if x else '')\n",
    "    df = df.rename(columns={'name': 'author_name'})\n",
    "    df = df.dropna(subset=['title', 'description'])\n",
    "\n",
    "    # Filtrar descripciones irrelevantes y limpiar títulos\n",
    "    df = df[~df['description'].str.contains('alternate cover')]\n",
    "    df['title'] = df['title'].str.replace(r\"\\(.*\\)\", \"\")\n",
    "\n",
    "    # Conversión de columnas numéricas\n",
    "    df['ratings_count'] = pd.to_numeric(df['ratings_count'], errors='coerce')\n",
    "    df['text_reviews_count'] = pd.to_numeric(df['text_reviews_count'], errors='coerce')\n",
    "    df = df.dropna(subset=['ratings_count', 'text_reviews_count'])\n",
    "\n",
    "    # Crear una nueva característica combinada para escoger el libro más popular por work_id\n",
    "    df['combined_score'] = df['ratings_count'] * 0.7 + df['text_reviews_count'] * 0.3\n",
    "\n",
    "    return df\n",
    "\n",
    "\n",
    "def select_best_books(df):\n",
    "    return df.loc[df.groupby('work_id')['combined_score'].idxmax()]"
   ]
  },
  {
   "cell_type": "code",
   "execution_count": 63,
   "metadata": {},
   "outputs": [
    {
     "name": "stderr",
     "output_type": "stream",
     "text": [
      "/var/folders/45/_kywt6y9647bq9fvcw_fkvrw0000gn/T/ipykernel_53568/2365399967.py:3: SettingWithCopyWarning: \n",
      "A value is trying to be set on a copy of a slice from a DataFrame.\n",
      "Try using .loc[row_indexer,col_indexer] = value instead\n",
      "\n",
      "See the caveats in the documentation: https://pandas.pydata.org/pandas-docs/stable/user_guide/indexing.html#returning-a-view-versus-a-copy\n",
      "  books_df['author_id'] = books_df['authors'].apply(lambda x: [author['author_id'] for author in x] if x else None)\n"
     ]
    },
    {
     "name": "stdout",
     "output_type": "stream",
     "text": [
      "Número de libros únicos por work_id: 19401\n"
     ]
    }
   ],
   "source": [
    "books = preprocess_books(books)\n",
    "books_authors_genres = merge_books_authors_genres(books, authors, genres)\n",
    "books_authors_genres = clean_and_engineer_features(books_authors_genres)\n",
    "books_authors_genres = select_best_books(books_authors_genres)\n",
    "\n",
    "print(\"Número de libros únicos por work_id:\", len(books_authors_genres))"
   ]
  },
  {
   "cell_type": "code",
   "execution_count": null,
   "metadata": {},
   "outputs": [],
   "source": [
    "books_authors_genres.to_csv(os.path.join(DIR, 'books_authors_genres.csv'), index=False)"
   ]
  },
  {
   "cell_type": "markdown",
   "metadata": {},
   "source": [
    "Por último, creamos el dataset que contiene las features más importantes concatenadas y ponderadas por nivel de importancia por `work_id`."
   ]
  },
  {
   "cell_type": "code",
   "execution_count": 65,
   "metadata": {},
   "outputs": [
    {
     "data": {
      "application/vnd.microsoft.datawrangler.viewer.v0+json": {
       "columns": [
        {
         "name": "index",
         "rawType": "int64",
         "type": "integer"
        },
        {
         "name": "work_id",
         "rawType": "int64",
         "type": "integer"
        },
        {
         "name": "all_features",
         "rawType": "object",
         "type": "string"
        }
       ],
       "ref": "ba14a709-55c2-40bb-9c8d-38e7f4b007ff",
       "rows": [
        [
         "27643",
         "62",
         "kiffe kiffe tomorrow faiza guene faiza guene fiction youngadult romance nonfiction fiction youngadult romance nonfiction fiction youngadult romance nonfiction"
        ],
        [
         "9739",
         "388",
         "queen kat carmel st jude get life maureen mccarthy maureen mccarthy youngadult fiction child mystery thriller crime youngadult fiction child mystery thriller crime youngadult fiction child mystery thriller crime"
        ],
        [
         "17477",
         "969",
         "prophet yonwood ember series jeanne duprau jeanne duprau youngadult fantasy paranormal fiction child mystery thriller crime youngadult fantasy paranormal fiction child mystery thriller crime youngadult fantasy paranormal fiction child mystery thriller crime"
        ],
        [
         "25152",
         "1131",
         "sleeping dog sonya hartnett sonya hartnett youngadult fiction child mystery thriller crime youngadult fiction child mystery thriller crime youngadult fiction child mystery thriller crime"
        ],
        [
         "24950",
         "1512",
         "ruby francesca lia block francesca lia block youngadult fantasy paranormal fiction romance child youngadult fantasy paranormal fiction romance child youngadult fantasy paranormal fiction romance child"
        ]
       ],
       "shape": {
        "columns": 2,
        "rows": 5
       }
      },
      "text/html": [
       "<div>\n",
       "<style scoped>\n",
       "    .dataframe tbody tr th:only-of-type {\n",
       "        vertical-align: middle;\n",
       "    }\n",
       "\n",
       "    .dataframe tbody tr th {\n",
       "        vertical-align: top;\n",
       "    }\n",
       "\n",
       "    .dataframe thead th {\n",
       "        text-align: right;\n",
       "    }\n",
       "</style>\n",
       "<table border=\"1\" class=\"dataframe\">\n",
       "  <thead>\n",
       "    <tr style=\"text-align: right;\">\n",
       "      <th></th>\n",
       "      <th>work_id</th>\n",
       "      <th>all_features</th>\n",
       "    </tr>\n",
       "  </thead>\n",
       "  <tbody>\n",
       "    <tr>\n",
       "      <th>27643</th>\n",
       "      <td>62</td>\n",
       "      <td>kiffe kiffe tomorrow faiza guene faiza guene f...</td>\n",
       "    </tr>\n",
       "    <tr>\n",
       "      <th>9739</th>\n",
       "      <td>388</td>\n",
       "      <td>queen kat carmel st jude get life maureen mcca...</td>\n",
       "    </tr>\n",
       "    <tr>\n",
       "      <th>17477</th>\n",
       "      <td>969</td>\n",
       "      <td>prophet yonwood ember series jeanne duprau jea...</td>\n",
       "    </tr>\n",
       "    <tr>\n",
       "      <th>25152</th>\n",
       "      <td>1131</td>\n",
       "      <td>sleeping dog sonya hartnett sonya hartnett you...</td>\n",
       "    </tr>\n",
       "    <tr>\n",
       "      <th>24950</th>\n",
       "      <td>1512</td>\n",
       "      <td>ruby francesca lia block francesca lia block y...</td>\n",
       "    </tr>\n",
       "  </tbody>\n",
       "</table>\n",
       "</div>"
      ],
      "text/plain": [
       "       work_id                                       all_features\n",
       "27643       62  kiffe kiffe tomorrow faiza guene faiza guene f...\n",
       "9739       388  queen kat carmel st jude get life maureen mcca...\n",
       "17477      969  prophet yonwood ember series jeanne duprau jea...\n",
       "25152     1131  sleeping dog sonya hartnett sonya hartnett you...\n",
       "24950     1512  ruby francesca lia block francesca lia block y..."
      ]
     },
     "execution_count": 65,
     "metadata": {},
     "output_type": "execute_result"
    }
   ],
   "source": [
    "def preprocess_text(text):\n",
    "    if pd.isna(text):\n",
    "        return ''\n",
    "    text = clean_text(text)\n",
    "    text = remove_stopwords(text)\n",
    "    text = lemmatize_text(text)\n",
    "    return text\n",
    "\n",
    "def select_features(df):\n",
    "    df['all_features'] = (\n",
    "        (df['title'].fillna('').astype(str) + ' ') +\n",
    "        (df['author_name'].fillna('').astype(str) + ' ') * 2 +\n",
    "        (df['genres'].fillna('').apply(lambda x: ', '.join(x) if isinstance(x, list) else str(x)) + ' ') * 3\n",
    "    ).apply(preprocess_text)\n",
    "    \n",
    "    return df[['work_id', 'all_features']]\n",
    "\n",
    "data = select_features(books_authors_genres)\n",
    "data.head()"
   ]
  },
  {
   "cell_type": "markdown",
   "metadata": {},
   "source": [
    "## Vectorización con TF-IDF"
   ]
  },
  {
   "cell_type": "markdown",
   "metadata": {},
   "source": [
    "Convertimos el texto de la columna `all_features` en vectores numéricos usando *TF-IDF*, eliminando stopwords. Luego normalizamos esos vectores para que tengan una magnitud uniforme y sean comparables."
   ]
  },
  {
   "cell_type": "code",
   "execution_count": 66,
   "metadata": {},
   "outputs": [
    {
     "name": "stdout",
     "output_type": "stream",
     "text": [
      "TF-IDF matrix shape: (19401, 17431)\n"
     ]
    }
   ],
   "source": [
    "vectorizer = TfidfVectorizer(stop_words='english', max_features=100000)\n",
    "tfidf_matrix = vectorizer.fit_transform(data['all_features'])\n",
    "tfidf_matrix = normalize(tfidf_matrix)\n",
    "print('TF-IDF matrix shape:', tfidf_matrix.shape)"
   ]
  },
  {
   "cell_type": "code",
   "execution_count": null,
   "metadata": {},
   "outputs": [],
   "source": [
    "tfidf_df = pd.DataFrame(tfidf_matrix.toarray(), index=data['work_id'], columns=vectorizer.get_feature_names_out())\n",
    "tfidf_df.to_parquet(os.path.join(DIR, 'tf-idf.parquet'), engine='pyarrow')"
   ]
  },
  {
   "cell_type": "markdown",
   "metadata": {},
   "source": [
    "## Cálculo de similitud"
   ]
  },
  {
   "cell_type": "markdown",
   "metadata": {},
   "source": [
    "Calculamos una matriz de similitud entre todos los libros usando el producto escalar entre sus vectores *TF-IDF*. Así podemos medir qué tan similares son entre sí."
   ]
  },
  {
   "cell_type": "code",
   "execution_count": 68,
   "metadata": {},
   "outputs": [
    {
     "name": "stdout",
     "output_type": "stream",
     "text": [
      "Similarity matrix shape: (19401, 19401)\n"
     ]
    }
   ],
   "source": [
    "sim_matrix = linear_kernel(tfidf_matrix, tfidf_matrix, dense_output=False)\n",
    "print('Similarity matrix shape:', sim_matrix.shape)"
   ]
  },
  {
   "cell_type": "code",
   "execution_count": null,
   "metadata": {},
   "outputs": [],
   "source": [
    "sim_matrix_df = pd.DataFrame(sim_matrix.toarray(), columns=data['work_id'], index=data['work_id'])\n",
    "sim_matrix_df.to_parquet(os.path.join(DIR, 'sim_matrix.parquet'), engine='pyarrow')"
   ]
  },
  {
   "cell_type": "markdown",
   "metadata": {},
   "source": [
    "## Ejemplo de recomendación"
   ]
  },
  {
   "cell_type": "markdown",
   "metadata": {},
   "source": [
    "Definimos una función para recomendar libros similares al título indicado."
   ]
  },
  {
   "cell_type": "code",
   "execution_count": 70,
   "metadata": {},
   "outputs": [
    {
     "name": "stdout",
     "output_type": "stream",
     "text": [
      "Work_id: 51666806, Título: The World of Throne of Glass, Similitud: 0.9197522301166188\n",
      "Work_id: 25272014, Título: Untitled (Throne of Glass, #7), Similitud: 0.9057686518622545\n",
      "Work_id: 25691778, Título: The Assassin's Blade (Throne of Glass, #0.1-0.5), Similitud: 0.8608522200626919\n",
      "Work_id: 11138426, Título: Throne of Glass (Throne of Glass, #1), Similitud: 0.8435855742960275\n",
      "Work_id: 25880898, Título: The Assassin and the Healer (Throne of Glass, #0.2), Similitud: 0.8427287484973486\n",
      "Work_id: 25128502, Título: Heir of Fire (Throne of Glass, #3), Similitud: 0.829158098119125\n",
      "Work_id: 51681900, Título: Tower of Dawn (Throne of Glass, #6), Similitud: 0.8009094544358802\n",
      "Work_id: 19143595, Título: The Assassin and the Empire (Throne of Glass, #0.5), Similitud: 0.7876879295136483\n",
      "Work_id: 44567388, Título: Twilight of the Gods, Similitud: 0.7586399911923403\n",
      "Work_id: 18814070, Título: The Assassin and the Desert (Throne of Glass, #0.3), Similitud: 0.7193237328470201\n",
      "\n",
      " Libro consultado: Queen of Shadows (Throne of Glass, #4)\n",
      "   Autor: Sarah J. Maas\n",
      "   Géneros: ['fantasy, paranormal', 'young-adult', 'romance', 'fiction']\n",
      "   Descripción: The queen has returned.\n",
      "Everyone Celaena Sardothien loves has been taken from her. But she's at last returned to the empire--for vengeance, to rescue her once-glorious kingdom, and to confront the shadows of her past...\n",
      "She has embraced her identity as Aelin Galathynius, Queen of Terrasen. But befor...\n",
      "\n",
      " Recomendaciones:\n",
      "\n",
      "1. The World of Throne of Glass\n",
      "   Autor: Sarah J. Maas\n",
      "   Géneros: ['fantasy, paranormal', 'young-adult', 'romance', 'fiction']\n",
      "   Descripción: The official guide to the New York Timesbestselling Throne of Glass series complete with characters, creatures, new artwork, and more!\n",
      "Everyone knows the story of the assassin queen. But now, fans of the New York Timesbestselling Throne of Glass series will be immersed in her journey like never befo...\n",
      "\n",
      "2. Untitled (Throne of Glass, #7)\n",
      "   Autor: Sarah J. Maas\n",
      "   Géneros: ['fantasy, paranormal', 'young-adult', 'romance', 'fiction']\n",
      "   Descripción: The Final installment to the Throne of Glass series....\n",
      "\n",
      "3. The Assassin's Blade (Throne of Glass, #0.1-0.5)\n",
      "   Autor: Sarah J. Maas\n",
      "   Géneros: ['fantasy, paranormal', 'young-adult', 'romance', 'fiction']\n",
      "   Descripción: Contains all five novellas.\n",
      "Celaena Sardothien is Adarlan's most feared assassin. As part of the Assassin's Guild, her allegiance is to her master, Arobynn Hamel, yet Celaena listens to no one and trusts only her fellow killer-for-hire, Sam. In these action-packed novellas - together in one edition ...\n",
      "\n",
      "4. Throne of Glass (Throne of Glass, #1)\n",
      "   Autor: Sarah J. Maas\n",
      "   Géneros: ['young-adult', 'romance', 'fantasy, paranormal', 'mystery, thriller, crime', 'fiction']\n",
      "   Descripción: In a land without magic, where the king rules with an iron hand, an assassin is summoned to the castle. She comes not to kill the king, but to win her freedom. If she defeats twenty-three killers, thieves, and warriors in a competition, she is released from prison to serve as the king's champion. He...\n",
      "\n",
      "5. The Assassin and the Healer (Throne of Glass, #0.2)\n",
      "   Autor: Sarah J. Maas\n",
      "   Géneros: ['fantasy, paranormal', 'young-adult', 'fiction', 'romance']\n",
      "   Descripción: Meet the Assassin: beautiful, defiant, destined for greatness. Celaena Sardothien has challenged her master. Now she must pay the price. Her journey to the Red Desert will be an arduous one, but it may change the fate of her cursed world forever......\n",
      "\n",
      "6. Heir of Fire (Throne of Glass, #3)\n",
      "   Autor: Sarah J. Maas\n",
      "   Géneros: ['fantasy, paranormal', 'young-adult', 'romance', 'fiction', 'mystery, thriller, crime']\n",
      "   Descripción: Celaena has survived deadly contests and shattering heartbreak--but at an unspeakable cost. Now, she must travel to a new land to confront her darkest truth . . . a truth about her heritage that could change her life--and her future--forever. Meanwhile, brutal and monstrous forces are gathering on t...\n",
      "\n",
      "7. Tower of Dawn (Throne of Glass, #6)\n",
      "   Autor: Sarah J. Maas\n",
      "   Géneros: ['fantasy, paranormal', 'young-adult', 'romance', 'fiction', 'mystery, thriller, crime']\n",
      "   Descripción: In the next installment of the New York Timesbestselling Throne of Glass series, follow Chaol on his sweeping journey to a distant empire.\n",
      "Chaol Westfall has always defined himself by his unwavering loyalty, his strength, and his position as the Captain of the Guard. But all of that has changed sinc...\n",
      "\n",
      "8. The Assassin and the Empire (Throne of Glass, #0.5)\n",
      "   Autor: Sarah J. Maas\n",
      "   Géneros: ['fantasy, paranormal', 'young-adult', 'romance', 'fiction', 'mystery, thriller, crime']\n",
      "   Descripción: Celaena Sardothien is the assassin with everything: a place to call her own, the love of handsome Sam, and, best of all, freedom. Yet, she won't be truly free until she is far away from her old master, Arobynn Hamel; Celaena must take one last daring assignment that will liberate her forever. But ha...\n",
      "\n",
      "9. Twilight of the Gods\n",
      "   Autor: Sarah J. Maas\n",
      "   Géneros: ['fantasy, paranormal', 'young-adult', 'fiction']\n",
      "   Descripción: WIP with no definite pub date....\n",
      "\n",
      "10. The Assassin and the Desert (Throne of Glass, #0.3)\n",
      "   Autor: Sarah J. Maas\n",
      "   Géneros: ['fantasy, paranormal', 'young-adult', 'fiction', 'romance', 'history, historical fiction, biography']\n",
      "   Descripción: The Silent Assassins of the Red Desert aren't much for conversation, and Celaena Sardothien wouldn't have it any other way. She's not there to chatter, she's there to hone her craft as the world's most feared killer for hire. When the quiet is shattered by forces who want to destroy the Silent Assas...\n"
     ]
    }
   ],
   "source": [
    "def recomendar_libros(data, sim_matrix_df, title, k=5):\n",
    "    \"\"\"\n",
    "    Encuentra libros similares a un título dado y muestra información relevante.\n",
    "\n",
    "    Parameters:\n",
    "    data (pd.DataFrame): DataFrame con los libros.\n",
    "    sim_matrix_df (pd.DataFrame): Matriz de similitud con índices y columnas como IDs de libros.\n",
    "    title (str): Título del libro a buscar.\n",
    "    k (int, optional): Número de libros similares a recomendar. Default es 5.\n",
    "\n",
    "    Returns:\n",
    "    list: Lista de diccionarios con información de los libros recomendados.\n",
    "    \"\"\"\n",
    "    # Buscar el ID del libro\n",
    "    resultado = data[data['title'].str.lower() == title.lower()]\n",
    "    \n",
    "    if resultado.empty:\n",
    "        print(f\"No se encontró un libro con el título '{title}'.\")\n",
    "        return []\n",
    "\n",
    "    work_id = resultado.iloc[0]['work_id']\n",
    "\n",
    "    if work_id not in sim_matrix_df.index:\n",
    "        print(f\"El libro con ID {work_id} no está en la matriz de similitud.\")\n",
    "        return []\n",
    "\n",
    "    # Extraer la fila de similitudes del libro dado\n",
    "    similitudes = sim_matrix_df.loc[work_id]\n",
    "\n",
    "    # Ordenar por similitud y excluir el mismo libro\n",
    "    ids_similares = similitudes.nlargest(k + 1).index[1:k+1]\n",
    "\n",
    "    # Obtener información de los libros recomendados\n",
    "    recomendaciones = []\n",
    "    for similar_id in ids_similares:\n",
    "        libro_similar = data[data['work_id'] == similar_id].iloc[0]\n",
    "        recomendaciones.append({\n",
    "            \"Título\": libro_similar[\"title\"],\n",
    "            \"Autor\": libro_similar[\"author_name\"],\n",
    "            \"Géneros\": libro_similar[\"genres\"],\n",
    "            \"Descripción\": libro_similar[\"description\"]\n",
    "        })\n",
    "        print(f\"Work_id: {similar_id}, Título: {libro_similar['title']}, Similitud: {similitudes[similar_id]}\")\n",
    "\n",
    "    # Mostrar información del libro consultado\n",
    "    print(f\"\\n Libro consultado: {resultado.iloc[0]['title']}\")\n",
    "    print(f\"   Autor: {resultado.iloc[0]['author_name']}\")\n",
    "    print(f\"   Géneros: {resultado.iloc[0]['genres']}\")\n",
    "    print(f\"   Descripción: {resultado.iloc[0]['description'][:300]}...\")  # Limita la descripción\n",
    "\n",
    "    # Mostrar recomendaciones\n",
    "    print(\"\\n Recomendaciones:\")\n",
    "    for i, rec in enumerate(recomendaciones):\n",
    "        print(f\"\\n{i+1}. {rec['Título']}\")\n",
    "        print(f\"   Autor: {rec['Autor']}\")\n",
    "        print(f\"   Géneros: {rec['Géneros']}\")\n",
    "        print(f\"   Descripción: {rec['Descripción'][:300]}...\")  # Limita la descripción\n",
    "\n",
    "    return recomendaciones\n",
    "\n",
    "# Ejemplo de uso:\n",
    "recomendaciones = recomendar_libros(books_authors_genres, sim_matrix_df, \"Queen of Shadows (Throne of Glass, #4)\", k=10)\n"
   ]
  },
  {
   "cell_type": "markdown",
   "metadata": {},
   "source": [
    "## Evaluación"
   ]
  },
  {
   "cell_type": "markdown",
   "metadata": {},
   "source": [
    "Para evaluar nuestro sistema de recomendación, cargamos el dataset `interactions` y filtramos aquellas con valoraciones positivas (`rating >= 4`). Calculamos las métricas `precision@20`, `recall@20` y `ndcg@20`recomendando libros similares a uno de los que el usuario ya valoró positivamente, y comparando esas recomendaciones con el resto de libros que también le gustaron."
   ]
  },
  {
   "cell_type": "code",
   "execution_count": null,
   "metadata": {},
   "outputs": [],
   "source": [
    "interactions = pd.read_csv(os.path.join(DIR, 'interactions_filtered.csv'))\n",
    "interactions = interactions.merge(books_authors_genres[['book_id', 'work_id']], on='book_id', how='left')\n",
    "interactions = interactions.dropna(subset=['work_id'])"
   ]
  },
  {
   "cell_type": "markdown",
   "metadata": {},
   "source": [
    "Filtramos las valoraciones para quedarnos solo con aquellas positivas (`rating >= 4`). Luego, creamos un diccionario que asigna a cada usuario los libros que ha valorado positivamente. Filtramos la matriz de similitud para recomendar y evaluar solo sobre aquellos ítems que tienen interacciones, el *ground truth*."
   ]
  },
  {
   "cell_type": "code",
   "execution_count": null,
   "metadata": {},
   "outputs": [],
   "source": [
    "positive_ratings = interactions[interactions['rating'] >= 4]\n",
    "\n",
    "# Crear diccionario de libros valorados positivamente\n",
    "user_positive_items = defaultdict(set)\n",
    "for _, row in positive_ratings.iterrows():\n",
    "    user_positive_items[row['user_id']].add(row['work_id'])\n",
    "\n",
    "# Identificar los ítems que tienen al menos una valoración positiva\n",
    "valid_items = set(positive_ratings['work_id'].unique())\n",
    "\n",
    "# Filtrar la matriz de similitud para quedarse solo con esos ítems\n",
    "sim_matrix_df = sim_matrix_df.loc[list(valid_items), list(valid_items)]"
   ]
  },
  {
   "cell_type": "markdown",
   "metadata": {},
   "source": [
    "Definimos las funciones para recomendar ítems y calcular las métricas. Luego, definimos una función para realizar la evaluación utilizando estas funciones."
   ]
  },
  {
   "cell_type": "code",
   "execution_count": 74,
   "metadata": {},
   "outputs": [],
   "source": [
    "# Función de recomendación de ítems similares\n",
    "def recommend_similar_items(anchor_work_id, similarity_matrix, top_k=20, exclude_ids=None):\n",
    "    if anchor_work_id not in similarity_matrix.index:\n",
    "        return []\n",
    "    \n",
    "    sim_scores = similarity_matrix.loc[anchor_work_id]\n",
    "    if exclude_ids:\n",
    "        sim_scores = sim_scores.drop(labels=exclude_ids, errors='ignore')\n",
    "        \n",
    "    top_items = sim_scores.sort_values(ascending=False).head(top_k).index.tolist()\n",
    "    return top_items\n",
    "\n",
    "# Función para calcular Precision y Recall a k\n",
    "def precision_recall_at_k(recommended_items, relevant_items, k=20):\n",
    "    recommended_set = set(recommended_items[:k])\n",
    "    relevant_set = set(relevant_items)\n",
    "\n",
    "    true_positives = recommended_set & relevant_set\n",
    "\n",
    "    precision = len(true_positives) / k\n",
    "    recall = len(true_positives) / len(relevant_set) if relevant_set else 0\n",
    "    return precision, recall\n",
    "\n",
    "# Función para calcular nDCG@k\n",
    "def ndcg_at_k(recommended_items, relevant_items, k=20):\n",
    "    recommended_set = set(recommended_items[:k])\n",
    "    relevant_set = set(relevant_items)\n",
    "\n",
    "    # Calcular DCG@k\n",
    "    dcg = 0\n",
    "    for i, item in enumerate(recommended_items[:k]):\n",
    "        if item in relevant_set:\n",
    "            dcg += 1 / np.log2(i + 2)  # i+2 porque el índice es 0-based\n",
    "    \n",
    "    # Calcular IDCG@k (DCG ideal)\n",
    "    idcg = 0\n",
    "    for i in range(min(len(relevant_items), k)):\n",
    "        idcg += 1 / np.log2(i + 2)\n",
    "    \n",
    "    # Calcular nDCG@k\n",
    "    ndcg = dcg / idcg if idcg > 0 else 0\n",
    "    return ndcg\n",
    "\n",
    "# Función para evaluar el modelo\n",
    "def evaluate_recommender(user_positive_items, similarity_matrix_df, top_k=20):\n",
    "    \"\"\"\n",
    "    Evalúa un sistema de recomendación basado en similitud de ítems utilizando métricas \n",
    "    precision@k, recall@k y ndcg@k. Para cada usuario con al menos 3 ítems valorados \n",
    "    positivamente, se elige un ítem como ancla y se recomiendan ítems similares.\n",
    "\n",
    "    Parámetros:\n",
    "        user_positive_items (dict): Diccionario user_id -> set de work_id con valoraciones positivas.\n",
    "        similarity_matrix_df (pd.DataFrame): Matriz de similitud entre ítems.\n",
    "        top_k (int): Número de recomendaciones a considerar para la evaluación.\n",
    "\n",
    "    Devuelve:\n",
    "        pd.DataFrame: Resultados de evaluación por usuario con métricas calculadas.\n",
    "    \"\"\"\n",
    "    results = []\n",
    "\n",
    "    for user_id, liked_items in user_positive_items.items():\n",
    "        if len(liked_items) < 3:\n",
    "            continue  # Requiere al menos un libro base y otros para comparar\n",
    "\n",
    "        liked_items = list(liked_items)\n",
    "        anchor = random.choice(liked_items)  # Ítem base\n",
    "        ground_truth = set(liked_items) - {anchor}\n",
    "\n",
    "        recommended = recommend_similar_items(anchor, similarity_matrix_df, top_k=top_k, exclude_ids={anchor})\n",
    "        precision, recall = precision_recall_at_k(recommended, ground_truth, k=top_k)\n",
    "        ndcg = ndcg_at_k(recommended, ground_truth, k=top_k)\n",
    "\n",
    "        results.append({\n",
    "            'user_id': user_id,\n",
    "            'anchor': anchor,\n",
    "            f'precision@{top_k}': precision,\n",
    "            f'recall@{top_k}': recall,\n",
    "            f'ndcg@{top_k}': ndcg\n",
    "        })\n",
    "\n",
    "    return pd.DataFrame(results)"
   ]
  },
  {
   "cell_type": "markdown",
   "metadata": {},
   "source": [
    "Llevamos a cabo la evaluación y obtenemos los resultados de las métricas calculadas."
   ]
  },
  {
   "cell_type": "code",
   "execution_count": 75,
   "metadata": {},
   "outputs": [
    {
     "name": "stdout",
     "output_type": "stream",
     "text": [
      "Precision@20: 0.013253\n",
      "Recall@20: 0.084531\n",
      "nDCG@20: 0.058119\n"
     ]
    }
   ],
   "source": [
    "evaluation = evaluate_recommender(user_positive_items, sim_matrix_df, top_k=20)\n",
    "\n",
    "print(f\"Precision@20: {evaluation['precision@20'].mean():4f}\")\n",
    "print(f\"Recall@20: {evaluation['recall@20'].mean():4f}\")\n",
    "print(f\"nDCG@20: {evaluation['ndcg@20'].mean():4f}\")"
   ]
  }
 ],
 "metadata": {
  "kernelspec": {
   "display_name": "tfm",
   "language": "python",
   "name": "python3"
  },
  "language_info": {
   "codemirror_mode": {
    "name": "ipython",
    "version": 3
   },
   "file_extension": ".py",
   "mimetype": "text/x-python",
   "name": "python",
   "nbconvert_exporter": "python",
   "pygments_lexer": "ipython3",
   "version": "3.12.2"
  }
 },
 "nbformat": 4,
 "nbformat_minor": 2
}
