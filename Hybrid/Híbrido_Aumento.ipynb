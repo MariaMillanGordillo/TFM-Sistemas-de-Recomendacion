{
  "cells": [
    {
      "cell_type": "markdown",
      "metadata": {
        "id": "-x5rY13WGfgN"
      },
      "source": [
        "# Hybrid System: Content Based + Collaborative Filtering"
      ]
    },
    {
      "cell_type": "markdown",
      "metadata": {
        "id": "xIPs4XnUGfgP"
      },
      "source": [
        "Construimos un modelo híbrido que combina **filtrado basado en contenido (CBF)** y **filtrado colaborativo (CF)**.\n",
        "\n",
        "Concretamente, inicializamos los embeddings de los ítems del modelo **CF (LightGCN)** con representaciones generadas a partir de descripciones textuales mediante **TF-IDF (CBF) + PCA**, lo que permite enriquecer el modelo con información semántica desde el primer paso del entrenamiento."
      ]
    },
    {
      "cell_type": "markdown",
      "metadata": {
        "id": "0uYXTbXeGfgR"
      },
      "source": [
        "## Importación de librerías"
      ]
    },
    {
      "cell_type": "code",
      "execution_count": 3,
      "metadata": {
        "colab": {
          "base_uri": "https://localhost:8080/"
        },
        "id": "RSXdRuMmHEnB",
        "outputId": "53a9be41-794b-445c-dc7c-ff479eb84911"
      },
      "outputs": [
        {
          "name": "stdout",
          "output_type": "stream",
          "text": [
            "2.3.0+cu121\n",
            "12.1\n"
          ]
        }
      ],
      "source": [
        "import torch\n",
        "print(torch.__version__)\n",
        "print(torch.version.cuda)"
      ]
    },
    {
      "cell_type": "code",
      "execution_count": 4,
      "metadata": {
        "colab": {
          "base_uri": "https://localhost:8080/"
        },
        "id": "FP2VokylHP-D",
        "outputId": "063adb28-4931-4b72-b6bd-eb35ca706aec"
      },
      "outputs": [
        {
          "name": "stdout",
          "output_type": "stream",
          "text": [
            "Looking in indexes: https://download.pytorch.org/whl/cu121\n",
            "Requirement already satisfied: torch==2.3.0 in /usr/local/lib/python3.11/dist-packages (2.3.0+cu121)\n",
            "Requirement already satisfied: torchvision in /usr/local/lib/python3.11/dist-packages (0.18.0+cu121)\n",
            "Requirement already satisfied: torchaudio in /usr/local/lib/python3.11/dist-packages (2.3.0+cu121)\n",
            "Requirement already satisfied: filelock in /usr/local/lib/python3.11/dist-packages (from torch==2.3.0) (3.18.0)\n",
            "Requirement already satisfied: typing-extensions>=4.8.0 in /usr/local/lib/python3.11/dist-packages (from torch==2.3.0) (4.14.0)\n",
            "Requirement already satisfied: sympy in /usr/local/lib/python3.11/dist-packages (from torch==2.3.0) (1.13.1)\n",
            "Requirement already satisfied: networkx in /usr/local/lib/python3.11/dist-packages (from torch==2.3.0) (3.5)\n",
            "Requirement already satisfied: jinja2 in /usr/local/lib/python3.11/dist-packages (from torch==2.3.0) (3.1.6)\n",
            "Requirement already satisfied: fsspec in /usr/local/lib/python3.11/dist-packages (from torch==2.3.0) (2025.3.2)\n",
            "Requirement already satisfied: nvidia-cuda-nvrtc-cu12==12.1.105 in /usr/local/lib/python3.11/dist-packages (from torch==2.3.0) (12.1.105)\n",
            "Requirement already satisfied: nvidia-cuda-runtime-cu12==12.1.105 in /usr/local/lib/python3.11/dist-packages (from torch==2.3.0) (12.1.105)\n",
            "Requirement already satisfied: nvidia-cuda-cupti-cu12==12.1.105 in /usr/local/lib/python3.11/dist-packages (from torch==2.3.0) (12.1.105)\n",
            "Requirement already satisfied: nvidia-cudnn-cu12==8.9.2.26 in /usr/local/lib/python3.11/dist-packages (from torch==2.3.0) (8.9.2.26)\n",
            "Requirement already satisfied: nvidia-cublas-cu12==12.1.3.1 in /usr/local/lib/python3.11/dist-packages (from torch==2.3.0) (12.1.3.1)\n",
            "Requirement already satisfied: nvidia-cufft-cu12==11.0.2.54 in /usr/local/lib/python3.11/dist-packages (from torch==2.3.0) (11.0.2.54)\n",
            "Requirement already satisfied: nvidia-curand-cu12==10.3.2.106 in /usr/local/lib/python3.11/dist-packages (from torch==2.3.0) (10.3.2.106)\n",
            "Requirement already satisfied: nvidia-cusolver-cu12==11.4.5.107 in /usr/local/lib/python3.11/dist-packages (from torch==2.3.0) (11.4.5.107)\n",
            "Requirement already satisfied: nvidia-cusparse-cu12==12.1.0.106 in /usr/local/lib/python3.11/dist-packages (from torch==2.3.0) (12.1.0.106)\n",
            "Requirement already satisfied: nvidia-nccl-cu12==2.20.5 in /usr/local/lib/python3.11/dist-packages (from torch==2.3.0) (2.20.5)\n",
            "Requirement already satisfied: nvidia-nvtx-cu12==12.1.105 in /usr/local/lib/python3.11/dist-packages (from torch==2.3.0) (12.1.105)\n",
            "Requirement already satisfied: triton==2.3.0 in /usr/local/lib/python3.11/dist-packages (from torch==2.3.0) (2.3.0)\n",
            "Requirement already satisfied: nvidia-nvjitlink-cu12 in /usr/local/lib/python3.11/dist-packages (from nvidia-cusolver-cu12==11.4.5.107->torch==2.3.0) (12.5.82)\n",
            "Requirement already satisfied: numpy in /usr/local/lib/python3.11/dist-packages (from torchvision) (2.0.2)\n",
            "Requirement already satisfied: pillow!=8.3.*,>=5.3.0 in /usr/local/lib/python3.11/dist-packages (from torchvision) (11.2.1)\n",
            "Requirement already satisfied: MarkupSafe>=2.0 in /usr/local/lib/python3.11/dist-packages (from jinja2->torch==2.3.0) (3.0.2)\n",
            "Requirement already satisfied: mpmath<1.4,>=1.1.0 in /usr/local/lib/python3.11/dist-packages (from sympy->torch==2.3.0) (1.3.0)\n"
          ]
        }
      ],
      "source": [
        "# Reinstala PyTorch 2.3.0 con CUDA 12.1 (estable en Colab)\n",
        "!pip install torch==2.3.0 torchvision torchaudio --index-url https://download.pytorch.org/whl/cu121\n",
        "\n",
        "# Instala PyG y extensiones con soporte oficial\n",
        "!pip install -q torch-scatter torch-sparse torch-cluster torch-spline-conv \\\n",
        "  -f https://data.pyg.org/whl/torch-2.3.0+cu121.html\n",
        "!pip install -q torch-geometric"
      ]
    },
    {
      "cell_type": "code",
      "execution_count": 5,
      "metadata": {
        "colab": {
          "base_uri": "https://localhost:8080/"
        },
        "id": "m7l2aPm9KMAh",
        "outputId": "26d3061a-848c-4edb-b9c0-7ee9c283ec29"
      },
      "outputs": [
        {
          "name": "stdout",
          "output_type": "stream",
          "text": [
            "  Preparing metadata (setup.py) ... \u001b[?25l\u001b[?25hdone\n",
            "  Building wheel for deepsnap (setup.py) ... \u001b[?25l\u001b[?25hdone\n"
          ]
        }
      ],
      "source": [
        "!pip install -q git+https://github.com/snap-stanford/deepsnap.git\n",
        "!pip install -U -q PyDrive"
      ]
    },
    {
      "cell_type": "code",
      "execution_count": 6,
      "metadata": {
        "id": "XZFwafEHGfgV"
      },
      "outputs": [],
      "source": [
        "import torch\n",
        "import random\n",
        "import numpy as np\n",
        "import pandas as pd\n",
        "from tqdm import tqdm\n",
        "import matplotlib.pyplot as plt\n",
        "\n",
        "from sklearn.decomposition import PCA\n",
        "from sklearn.model_selection import train_test_split\n",
        "\n",
        "from torch import nn, optim, Tensor\n",
        "from torch_sparse import SparseTensor, matmul\n",
        "\n",
        "from torch_geometric.utils import structured_negative_sampling\n",
        "from torch_geometric.nn.conv.gcn_conv import gcn_norm\n",
        "from torch_geometric.nn.conv import MessagePassing\n"
      ]
    },
    {
      "cell_type": "markdown",
      "metadata": {
        "id": "8mZ6-zPxPklE"
      },
      "source": [
        "## Carga de datos"
      ]
    },
    {
      "cell_type": "markdown",
      "metadata": {
        "id": "3WhCIuC2GfgW"
      },
      "source": [
        "### Definición de funciones"
      ]
    },
    {
      "cell_type": "markdown",
      "metadata": {
        "id": "I5sPp3XAGfgX"
      },
      "source": [
        "Comenzamos definiendo las funciones necesarias para construir los nodos y las aristas del grafo a partir de los datos de usuarios, libros e interacciones."
      ]
    },
    {
      "cell_type": "code",
      "execution_count": 7,
      "metadata": {
        "id": "crg_rAEXGfgX"
      },
      "outputs": [],
      "source": [
        "# Cargar nodos de usuarios y libros\n",
        "def load_node_csv(path, index_col):\n",
        "    \"\"\"\n",
        "    Carga un CSV que contiene información sobre los nodos.\n",
        "\n",
        "    Args:\n",
        "        path (str): Ruta al archivo CSV.\n",
        "        index_col (str): Nombre de la columna que se usará como índice.\n",
        "\n",
        "    Returns:\n",
        "        dict: Diccionario que mapea los valores del índice del CSV a IDs de nodo.\n",
        "    \"\"\"\n",
        "    df = pd.read_csv(path, index_col=index_col)\n",
        "    mapping = {index: i for i, index in enumerate(df.index.unique())}\n",
        "    return mapping\n",
        "\n",
        "# Cargar aristas entre usuarios y libros\n",
        "def load_edge_csv(df, src_index_col, src_mapping, dst_index_col, dst_mapping, link_index_col, rating_threshold=4):\n",
        "    \"\"\"\n",
        "    Carga aristas entre usuarios e ítems (por ejemplo, libros) a partir de un DataFrame.\n",
        "\n",
        "    Args:\n",
        "        df (DataFrame): DataFrame que contiene las interacciones usuario-ítem.\n",
        "        src_index_col (str): Nombre de la columna con los IDs de usuario.\n",
        "        src_mapping (dict): Diccionario que mapea los IDs de usuario a índices de nodo.\n",
        "        dst_index_col (str): Nombre de la columna con los IDs de ítems.\n",
        "        dst_mapping (dict): Diccionario que mapea los IDs de ítems a índices de nodo.\n",
        "        link_index_col (str): Nombre de la columna que contiene la interacción (por ejemplo, rating).\n",
        "        rating_threshold (int, opcional): Umbral mínimo para considerar una interacción como positiva. Por defecto es 4.\n",
        "\n",
        "    Returns:\n",
        "        torch.Tensor: Matriz 2xN que contiene los pares de nodos conectados por N aristas.\n",
        "    \"\"\"\n",
        "    src = [src_mapping[index] for index in df[src_index_col]]\n",
        "    dst = [dst_mapping[index] for index in df[dst_index_col]]\n",
        "    edge_attr = torch.from_numpy(df[link_index_col].values).view(-1, 1).to(torch.long) >= rating_threshold\n",
        "\n",
        "    edge_index = [[], []]\n",
        "    for i in range(edge_attr.shape[0]):\n",
        "        if edge_attr[i]:\n",
        "            edge_index[0].append(src[i])\n",
        "            edge_index[1].append(dst[i])\n",
        "\n",
        "    return torch.tensor(edge_index)"
      ]
    },
    {
      "cell_type": "markdown",
      "metadata": {
        "id": "6Z2bxFetGfgY"
      },
      "source": [
        "Implementamos una función que realiza muestreo estructurado negativo para generar mini-batches compuestos por usuarios, ítems positivos e ítems negativos, necesarios para entrenar el modelo basado en grafos."
      ]
    },
    {
      "cell_type": "code",
      "execution_count": 8,
      "metadata": {
        "id": "idOOlh2DGfgZ"
      },
      "outputs": [],
      "source": [
        "# Función que selecciona aleatoriamente un mini-lote de muestras positivas y negativas\n",
        "def sample_mini_batch(batch_size, edge_index):\n",
        "    \"\"\"\n",
        "    Selecciona aleatoriamente los índices de un mini-lote dado un grafo de adyacencia.\n",
        "\n",
        "    Args:\n",
        "        batch_size (int): tamaño del mini-lote\n",
        "        edge_index (torch.Tensor): matriz 2 x N con los bordes del grafo\n",
        "\n",
        "    Returns:\n",
        "        tuple: índices de usuarios, índices de ítems positivos, índices de ítems negativos\n",
        "    \"\"\"\n",
        "    edges = structured_negative_sampling(edge_index)\n",
        "    edges = torch.stack(edges, dim=0)\n",
        "    indices = random.choices([i for i in range(edges[0].shape[0])], k=batch_size)\n",
        "    batch = edges[:, indices]\n",
        "    user_indices, pos_item_indices, neg_item_indices = batch[0], batch[1], batch[2]\n",
        "    return user_indices, pos_item_indices, neg_item_indices"
      ]
    },
    {
      "cell_type": "markdown",
      "metadata": {
        "id": "Z-NZk4zmGfgZ"
      },
      "source": [
        "### Cargamos y filtramos los datos"
      ]
    },
    {
      "cell_type": "code",
      "execution_count": 9,
      "metadata": {
        "id": "dZkyHrgq4ZG_"
      },
      "outputs": [],
      "source": [
        "user_id_path = '/content/user_id_map.csv'\n",
        "book_id_path = '/content/book_id_map.csv'\n",
        "interactions_path = '/content/interactions_filtered.csv'\n",
        "books_path = '/content/books_authors_genres.csv'"
      ]
    },
    {
      "cell_type": "code",
      "execution_count": 10,
      "metadata": {
        "id": "JhtJn8Oh7ZA9"
      },
      "outputs": [],
      "source": [
        "interactions = pd.read_csv(interactions_path)\n",
        "books = pd.read_csv(books_path)"
      ]
    },
    {
      "cell_type": "markdown",
      "metadata": {
        "id": "g1BgHbewGfgb"
      },
      "source": [
        "Aplicamos un filtrado para eliminar ítems con pocas interacciones y usuarios poco activos, mejorando así la calidad del grafo de interacciones. Esto reduce la dispersión y mejora el aprendizaje del modelo."
      ]
    },
    {
      "cell_type": "code",
      "execution_count": 11,
      "metadata": {
        "colab": {
          "base_uri": "https://localhost:8080/"
        },
        "id": "gyXqeV9QFW-y",
        "outputId": "af6e83a5-5074-4fa7-ff4c-43b77b1a81c9"
      },
      "outputs": [
        {
          "name": "stdout",
          "output_type": "stream",
          "text": [
            "Interactions filtrado: (16803, 5)\n",
            "num_users=3310, num_items=947\n"
          ]
        }
      ],
      "source": [
        "item_inter_counts = interactions.groupby(\"book_id\").size()\n",
        "popular_books = item_inter_counts[item_inter_counts >= 10].index\n",
        "interactions = interactions[interactions[\"book_id\"].isin(popular_books)]\n",
        "\n",
        "user_inter_counts = interactions.groupby('user_id').size()\n",
        "active_users = user_inter_counts[user_inter_counts >= 4].index\n",
        "interactions = interactions[interactions['user_id'].isin(active_users)]\n",
        "\n",
        "print(f\"Interactions filtrado: {interactions.shape}\")\n",
        "\n",
        "num_users = interactions['user_id'].nunique()\n",
        "num_items = interactions['book_id'].nunique()\n",
        "print(f\"{num_users=}, {num_items=}\")"
      ]
    },
    {
      "cell_type": "markdown",
      "metadata": {
        "id": "QQAw6yUcGfgc"
      },
      "source": [
        "Aplicamos las funciones para crear los nodos y las aristas."
      ]
    },
    {
      "cell_type": "code",
      "execution_count": 12,
      "metadata": {
        "id": "tou7XadrGfgc"
      },
      "outputs": [],
      "source": [
        "user_mapping = load_node_csv(user_id_path, index_col='user_id_csv')\n",
        "book_mapping = load_node_csv(book_id_path, index_col='book_id_csv')"
      ]
    },
    {
      "cell_type": "code",
      "execution_count": 13,
      "metadata": {
        "colab": {
          "base_uri": "https://localhost:8080/"
        },
        "id": "vLC88BdZGfgd",
        "outputId": "67c028c6-faca-4135-8c06-35b2f6d0e1af"
      },
      "outputs": [
        {
          "name": "stdout",
          "output_type": "stream",
          "text": [
            "edge_index: tensor([[    14,     14,     14,  ..., 873215, 873215, 873215],\n",
            "        [ 11831,  10943,  10570,  ...,  39638,  39637,  39640]])\n",
            "edge_index.shape: torch.Size([2, 16803])\n"
          ]
        }
      ],
      "source": [
        "edge_index = load_edge_csv(\n",
        "    interactions,\n",
        "    src_index_col='user_id',\n",
        "    src_mapping=user_mapping,\n",
        "    dst_index_col='book_id',\n",
        "    dst_mapping=book_mapping,\n",
        "    link_index_col='rating',\n",
        "    rating_threshold=4\n",
        ")\n",
        "\n",
        "# Verifica la forma de edge_index\n",
        "print(\"edge_index:\", edge_index)\n",
        "print(\"edge_index.shape:\", edge_index.shape)"
      ]
    },
    {
      "cell_type": "markdown",
      "metadata": {
        "id": "c2If8oSFGfgd"
      },
      "source": [
        "Cargamos los embeddings TF-IDF y se reduce su dimensionalidad con PCA para integrarlos en el modelo."
      ]
    },
    {
      "cell_type": "code",
      "execution_count": 30,
      "metadata": {
        "id": "nKcGtns6Gfgd"
      },
      "outputs": [],
      "source": [
        "# Cargar el dataframe de embeddings TF-IDF\n",
        "tfidf_df = pd.read_parquet(\"/content/tf-idf.parquet\")\n",
        "\n",
        "# Aplicar PCA para reducir la dimensionalidad de los vectores TF-IDF\n",
        "EMBEDDING_DIM = 32\n",
        "pca = PCA(n_components=EMBEDDING_DIM)\n",
        "tfidf_reduced = pca.fit_transform(tfidf_df)\n",
        "\n",
        "# Convertir los embeddings reducidos a un tensor de PyTorch\n",
        "tfidf_tensor = torch.tensor(tfidf_reduced, dtype=torch.float32)"
      ]
    },
    {
      "cell_type": "markdown",
      "metadata": {
        "id": "CUm7aOcoGfge"
      },
      "source": [
        "Ahora, inicializamos aleatoriamente los embeddings de todos los ítems y se sobrescriben con representaciones TF-IDF reducidas en los casos disponibles."
      ]
    },
    {
      "cell_type": "code",
      "execution_count": 31,
      "metadata": {
        "id": "dfnurTOUGfge"
      },
      "outputs": [],
      "source": [
        "# Inicializamos aleatoriamente los embeddings de ítems\n",
        "embedding_dim = tfidf_tensor.shape[1]\n",
        "item_init_emb = torch.empty(len(book_mapping), embedding_dim)\n",
        "nn.init.normal_(item_init_emb, std=0.1)\n",
        "\n",
        "# Mapeamos work_id (TF-IDF) -> book_id -> índice interno\n",
        "tfidf_work_ids = list(tfidf_df.index)\n",
        "work_to_book = books.drop_duplicates('work_id').set_index('work_id')['book_id'].to_dict()\n",
        "mapped_book_ids = [work_to_book[wid] for wid in tfidf_work_ids if wid in work_to_book]\n",
        "\n",
        "book_id_to_internal = {book_id: internal_id for book_id, internal_id in book_mapping.items()}\n",
        "book_internal_ids = [book_id_to_internal[b] for b in mapped_book_ids if b in book_id_to_internal]\n",
        "\n",
        "# Sobrescribimos los embeddings correspondientes con TF-IDF reducido\n",
        "for i, internal_id in enumerate(book_internal_ids):\n",
        "    item_init_emb[internal_id] = tfidf_tensor[i]"
      ]
    },
    {
      "cell_type": "code",
      "execution_count": 32,
      "metadata": {
        "colab": {
          "base_uri": "https://localhost:8080/"
        },
        "id": "rJog-nijGfge",
        "outputId": "5c21dd9d-cea4-4d5f-ab11-cd244f27e155"
      },
      "outputs": [
        {
          "name": "stdout",
          "output_type": "stream",
          "text": [
            "initialized_with_tfidf=947 / 947 (100.00% con TF-IDF)\n"
          ]
        }
      ],
      "source": [
        "# Evaluamos cuántos ítems en las interacciones fueron inicializados con TF-IDF\n",
        "book_ids_in_interactions = set(interactions['book_id'].unique())\n",
        "internal_ids_in_interactions = [book_id_to_internal[book_id] for book_id in book_ids_in_interactions if book_id in book_id_to_internal]\n",
        "\n",
        "# Conjunto de ítems inicializados con TF-IDF\n",
        "tfidf_initialized_set = set(book_internal_ids)\n",
        "initialized_with_tfidf = sum(1 for internal_id in internal_ids_in_interactions if internal_id in tfidf_initialized_set)\n",
        "total = len(internal_ids_in_interactions)\n",
        "\n",
        "print(f\"{initialized_with_tfidf=} / {total} ({initialized_with_tfidf/total:.2%} con TF-IDF)\")"
      ]
    },
    {
      "cell_type": "markdown",
      "metadata": {
        "id": "BGHEvHOoGfgf"
      },
      "source": [
        "Dividimos las interacciones del grafo entre usuarios y libros en tres subconjuntos: entrenamiento, validación y prueba, siguiendo una proporción del 80%, 10% y 10% respectivamente."
      ]
    },
    {
      "cell_type": "code",
      "execution_count": 33,
      "metadata": {
        "id": "wIueYZfaT6_H"
      },
      "outputs": [],
      "source": [
        "# Dividir los bordes del grafo en un 80/10/10 para entrenamiento, validación y prueba\n",
        "num_users, num_books = len(user_mapping), len(book_mapping)\n",
        "num_interacciones = edge_index.shape[1]\n",
        "todos_los_indices = [i for i in range(num_interacciones)]\n",
        "\n",
        "# 80% entrenamiento, 10% validación y 10% prueba\n",
        "train_indices, test_indices = train_test_split(todos_los_indices, test_size=0.2, random_state=1)\n",
        "val_indices, test_indices = train_test_split(test_indices, test_size=0.5, random_state=1)\n",
        "\n",
        "train_edge_index = edge_index[:, train_indices]\n",
        "val_edge_index = edge_index[:, val_indices]\n",
        "test_edge_index = edge_index[:, test_indices]"
      ]
    },
    {
      "cell_type": "code",
      "execution_count": 34,
      "metadata": {
        "colab": {
          "base_uri": "https://localhost:8080/"
        },
        "id": "fvtd0QIz7xFI",
        "outputId": "fd117919-6b86-4b2d-e45a-22f258b8e6a0"
      },
      "outputs": [
        {
          "name": "stdout",
          "output_type": "stream",
          "text": [
            "train_edge_index.shape: torch.Size([2, 13442])\n",
            "val_edge_index.shape: torch.Size([2, 1680])\n",
            "test_edge_index.shape: torch.Size([2, 1681])\n"
          ]
        }
      ],
      "source": [
        "print(\"train_edge_index.shape:\", train_edge_index.shape)\n",
        "print(\"val_edge_index.shape:\", val_edge_index.shape)\n",
        "print(\"test_edge_index.shape:\", test_edge_index.shape)"
      ]
    },
    {
      "cell_type": "markdown",
      "metadata": {
        "id": "HVppd02SGfgf"
      },
      "source": [
        "Convertimos los índices de los bordes del grafo en tensores dispersos (SparseTensor) para optimizar el almacenamiento y las operaciones sobre grafos grandes."
      ]
    },
    {
      "cell_type": "code",
      "execution_count": 35,
      "metadata": {
        "id": "U5yKILBJUAN6"
      },
      "outputs": [],
      "source": [
        "train_sparse_edge_index = SparseTensor(\n",
        "    row=train_edge_index[0],\n",
        "    col=train_edge_index[1],\n",
        "    sparse_sizes=(num_users + num_books, num_users + num_books)\n",
        ")\n",
        "\n",
        "val_sparse_edge_index = SparseTensor(\n",
        "    row=val_edge_index[0],\n",
        "    col=val_edge_index[1],\n",
        "    sparse_sizes=(num_users + num_books, num_users + num_books)\n",
        ")\n",
        "\n",
        "test_sparse_edge_index = SparseTensor(\n",
        "    row=test_edge_index[0],\n",
        "    col=test_edge_index[1],\n",
        "    sparse_sizes=(num_users + num_books, num_users + num_books)\n",
        ")"
      ]
    },
    {
      "cell_type": "markdown",
      "metadata": {
        "id": "JOB5kDmtUrUY"
      },
      "source": [
        "## Implementación de LightGCN"
      ]
    },
    {
      "cell_type": "markdown",
      "metadata": {
        "id": "flnJJkwcGfgh"
      },
      "source": [
        "### Definición del modelo"
      ]
    },
    {
      "cell_type": "markdown",
      "metadata": {
        "id": "s374zxXKGfgh"
      },
      "source": [
        "A continuación, definimos el modelo LightGCN (Light Graph Convolutional Network), una arquitectura ligera y eficiente para sistemas de recomendación propuesta en el artículo \"LightGCN: Simplifying and Powering Graph Convolution Network for Recommendation\". Este modelo elimina componentes como funciones de activación o capas de proyección, y se centra exclusivamente en la propagación de embeddings sobre un grafo bipartito usuario-ítem.\n",
        "\n",
        "En esta implementación, hemos adaptado el modelo para inicializar los embeddings de los ítems con representaciones semánticas basadas en TF-IDF, que han sido previamente reducidas con PCA. Esta modificación permite incorporar contenido textual (por ejemplo, descripciones o títulos de libros) en el modelo desde el inicio del entrenamiento, combinando señales colaborativas y de contenido de forma natural."
      ]
    },
    {
      "cell_type": "code",
      "execution_count": 36,
      "metadata": {
        "id": "o9GvYg9ehDOX"
      },
      "outputs": [],
      "source": [
        "class LightGCN(MessagePassing):\n",
        "    \"\"\"\n",
        "    Light Graph Convolutional Network para sistemas de recomendación colaborativos. Permite inicializar los embeddings\n",
        "    de ítems con vectores precalculados.\n",
        "    \"\"\"\n",
        "    def __init__(self, num_users, num_items, embedding_dim=16, K=2, add_self_loops=False, item_init_emb=None):\n",
        "        \"\"\"\n",
        "        Inicializa el modelo LightGCN.\n",
        "\n",
        "        Args:\n",
        "            num_users (int): Número de usuarios\n",
        "            num_items (int): Número de ítems (libros)\n",
        "            embedding_dim (int, opcional): Dimensión de los embeddings. Por defecto 16.\n",
        "            K (int, opcional): Número de capas de propagación de mensajes. Por defecto 2.\n",
        "            add_self_loops (bool, opcional): Si se añaden bucles propios en la propagación. Por defecto False.\n",
        "            item_init_emb (Tensor, optional): Embeddings iniciales para ítems, por ejemplo, TF-IDF reducido.\n",
        "        \"\"\"\n",
        "        super().__init__()\n",
        "        self.num_users = num_users\n",
        "        self.num_items = num_items\n",
        "        self.embedding_dim = embedding_dim\n",
        "        self.K = K\n",
        "        self.add_self_loops = add_self_loops\n",
        "\n",
        "        # Inicialización de embeddings para usuarios\n",
        "        self.users_emb = nn.Embedding(num_embeddings=self.num_users, embedding_dim=self.embedding_dim)\n",
        "        nn.init.normal_(self.users_emb.weight, std=0.1)\n",
        "\n",
        "        # Inicialización de embeddings para ítems con los vectores precalculados si se proporcionan, sino aleatoriamente\n",
        "        if item_init_emb is not None:\n",
        "            assert item_init_emb.shape == (num_items, embedding_dim), \"Shape mismatch in item embeddings\"\n",
        "            self.items_emb = nn.Embedding.from_pretrained(item_init_emb, freeze=False)\n",
        "        else:\n",
        "            self.items_emb = nn.Embedding(num_embeddings=self.num_items, embedding_dim=self.embedding_dim)\n",
        "            nn.init.normal_(self.items_emb.weight, std=0.1)\n",
        "\n",
        "    def forward(self, edge_index: SparseTensor):\n",
        "        \"\"\"\n",
        "        Propagación hacia adelante en el grafo.\n",
        "\n",
        "        Args:\n",
        "            edge_index (SparseTensor): Matriz de adyacencia en formato disperso.\n",
        "\n",
        "        Returns:\n",
        "            Tuple: Embeddings finales y originales de usuarios e ítems.\n",
        "        \"\"\"\n",
        "        # Embeddings iniciales\n",
        "        users_emb_0 = self.users_emb.weight              # [num_users, embedding_dim]\n",
        "        items_emb_0 = self.items_emb.weight              # [num_items, embedding_dim]\n",
        "        all_emb = torch.cat([users_emb_0, items_emb_0])  # [num_users + num_items, embedding_dim]\n",
        "\n",
        "        embs = [all_emb]  # Lista para almacenar embeddings en cada capa\n",
        "\n",
        "        # Normalizar matriz de adyacencia\n",
        "        edge_index_norm = gcn_norm(edge_index, add_self_loops=self.add_self_loops)\n",
        "\n",
        "        # Propagación por K capas\n",
        "        for _ in range(self.K):\n",
        "            all_emb = self.propagate(edge_index_norm, x=all_emb)\n",
        "            embs.append(all_emb)\n",
        "\n",
        "        # Promedio de los embeddings de cada capa\n",
        "        embs = torch.stack(embs, dim=1)      # [N, K+1, embedding_dim]\n",
        "        emb_final = torch.mean(embs, dim=1)  # [N, embedding_dim]\n",
        "\n",
        "        # Separar usuarios e ítems del embedding final\n",
        "        users_emb_final, items_emb_final = torch.split(emb_final, [self.num_users, self.num_items])\n",
        "\n",
        "        return users_emb_final, users_emb_0, items_emb_final, items_emb_0\n",
        "\n",
        "    def message(self, x_j: Tensor) -> Tensor:\n",
        "        \"\"\"Devuelve los mensajes recibidos de los nodos vecinos.\"\"\"\n",
        "        return x_j\n",
        "\n",
        "    def message_and_aggregate(self, adj_t: SparseTensor, x: Tensor) -> Tensor:\n",
        "        \"\"\"Multiplica la matriz de adyacencia normalizada con los embeddings.\"\"\"\n",
        "        return matmul(adj_t, x)"
      ]
    },
    {
      "cell_type": "markdown",
      "metadata": {
        "id": "My8eqloiBccE"
      },
      "source": [
        "### Función de pérdida"
      ]
    },
    {
      "cell_type": "markdown",
      "metadata": {
        "id": "QL4P9FPgGfgk"
      },
      "source": [
        "Utilizamos la pérdida `Bayesian Personalized Ranking (BPR)`, una función de tipo comparativa por pares que favorece que, para cada usuario, las predicciones asociadas a ejemplos positivos sean más altas que las de los ejemplos negativos."
      ]
    },
    {
      "cell_type": "code",
      "execution_count": 37,
      "metadata": {
        "id": "QmPs1xS-BYfe"
      },
      "outputs": [],
      "source": [
        "def bpr_loss(users_emb_final, users_emb_0, pos_items_emb_final, pos_items_emb_0, neg_items_emb_final, neg_items_emb_0, lambda_val):\n",
        "    \"\"\"\n",
        "    Función de pérdida Bayesian Personalized Ranking, descrita en https://arxiv.org/abs/1205.2618\n",
        "\n",
        "    Args:\n",
        "        users_emb_final (torch.Tensor): e_u_k\n",
        "        users_emb_0 (torch.Tensor): e_u_0\n",
        "        pos_items_emb_final (torch.Tensor): e_i_k de los ítems positivos\n",
        "        pos_items_emb_0 (torch.Tensor): e_i_0 de los ítems positivos\n",
        "        neg_items_emb_final (torch.Tensor): e_i_k de los ítems negativos\n",
        "        neg_items_emb_0 (torch.Tensor): e_i_0 de los ítems negativos\n",
        "        lambda_val (float): valor lambda para el término de regularización\n",
        "\n",
        "    Returns:\n",
        "        torch.Tensor: valor escalar de la pérdida BPR\n",
        "    \"\"\"\n",
        "    reg_loss = lambda_val * (users_emb_0.norm(2).pow(2) +\n",
        "                             pos_items_emb_0.norm(2).pow(2) +\n",
        "                             neg_items_emb_0.norm(2).pow(2))  # Pérdida L2\n",
        "\n",
        "    pos_scores = torch.mul(users_emb_final, pos_items_emb_final)\n",
        "    pos_scores = torch.sum(pos_scores, dim=-1)  # Puntuaciones predichas de los ejemplos positivos\n",
        "    neg_scores = torch.mul(users_emb_final, neg_items_emb_final)\n",
        "    neg_scores = torch.sum(neg_scores, dim=-1)  # Puntuaciones predichas de los ejemplos negativos\n",
        "\n",
        "    loss = -torch.mean(torch.nn.functional.softplus(pos_scores - neg_scores)) + reg_loss\n",
        "\n",
        "    return loss"
      ]
    },
    {
      "cell_type": "markdown",
      "metadata": {
        "id": "CS7HVr3qLQGx"
      },
      "source": [
        "### Métricas de evalución"
      ]
    },
    {
      "cell_type": "markdown",
      "metadata": {
        "id": "CJS2avo0Gfgm"
      },
      "source": [
        "Para evaluar la el sistema de recomendación, empleamos métricas estándar centradas en las primeras posiciones del ranking generado para cada usuario. Concretamente, utilizamos `precisión@20`, `recall@20` y `nDCG@20`, que nos permiten medir tanto la relevancia como la ordenación de los ítems recomendados. Estas métricas se enfocan en los 20 primeros elementos recomendados."
      ]
    },
    {
      "cell_type": "code",
      "execution_count": 38,
      "metadata": {
        "id": "nHO2gdhRSwzJ"
      },
      "outputs": [],
      "source": [
        "# Función auxiliar para obtener N_u (ítems positivos por usuario)\n",
        "def get_user_positive_items(edge_index):\n",
        "    \"\"\"\n",
        "    Genera un diccionario con los ítems positivos para cada usuario\n",
        "\n",
        "    Args:\n",
        "        edge_index (torch.Tensor): lista de aristas de tamaño 2 por N\n",
        "\n",
        "    Returns:\n",
        "        dict: diccionario con los ítems positivos de cada usuario\n",
        "    \"\"\"\n",
        "    user_pos_items = {}\n",
        "    for i in range(edge_index.shape[1]):\n",
        "        user = edge_index[0][i].item()\n",
        "        item = edge_index[1][i].item()\n",
        "        if user not in user_pos_items:\n",
        "            user_pos_items[user] = []\n",
        "        user_pos_items[user].append(item)\n",
        "    return user_pos_items"
      ]
    },
    {
      "cell_type": "code",
      "execution_count": 39,
      "metadata": {
        "id": "8We4BTtfS4NV"
      },
      "outputs": [],
      "source": [
        "# Calcula recall@K y precision@K\n",
        "def RecallPrecision_ATk(groundTruth, r, k):\n",
        "    \"\"\"\n",
        "    Calcula recall @ k y precision @ k\n",
        "\n",
        "    Args:\n",
        "        groundTruth (list): lista de listas con los ítems altamente valorados por cada usuario\n",
        "        r (list): lista de listas que indica si cada ítem recomendado en top k para cada usuario\n",
        "            es un ítem relevante en el top k ground truth o no\n",
        "        k (int): determina los primeros k ítems para calcular precision y recall\n",
        "\n",
        "    Returns:\n",
        "        tuple: recall @ k, precision @ k\n",
        "    \"\"\"\n",
        "    num_correct_pred = torch.sum(r, dim=-1)  # Número de ítems correctamente predichos por usuario\n",
        "    # Número de ítems que cada usuario valoró positivamente en el conjunto de prueba\n",
        "    user_num_liked = torch.Tensor([len(groundTruth[i])\n",
        "                                  for i in range(len(groundTruth))])\n",
        "    recall = torch.mean(num_correct_pred / user_num_liked)\n",
        "    precision = torch.mean(num_correct_pred) / k\n",
        "    return recall.item(), precision.item()"
      ]
    },
    {
      "cell_type": "code",
      "execution_count": 40,
      "metadata": {
        "id": "9v4A3Ek4TE02"
      },
      "outputs": [],
      "source": [
        "# Calcula NDCG@K\n",
        "def NDCGatK_r(groundTruth, r, k):\n",
        "    \"\"\"\n",
        "    Calcula Normalized Discounted Cumulative Gain (NDCG) @ k\n",
        "\n",
        "    Args:\n",
        "        groundTruth (list): lista de listas con los ítems altamente valorados por cada usuario\n",
        "        r (list): lista de listas que indica si cada ítem recomendado en top k para cada usuario\n",
        "            es un ítem relevante en el top k ground truth o no\n",
        "        k (int): determina los primeros k ítems para calcular ndcg\n",
        "\n",
        "    Returns:\n",
        "        float: ndcg @ k\n",
        "    \"\"\"\n",
        "    assert len(r) == len(groundTruth)\n",
        "\n",
        "    test_matrix = torch.zeros((len(r), k))\n",
        "\n",
        "    for i, items in enumerate(groundTruth):\n",
        "        length = min(len(items), k)\n",
        "        test_matrix[i, :length] = 1\n",
        "    max_r = test_matrix\n",
        "    idcg = torch.sum(max_r * 1. / torch.log2(torch.arange(2, k + 2)), axis=1)\n",
        "    dcg = r * (1. / torch.log2(torch.arange(2, k + 2)))\n",
        "    dcg = torch.sum(dcg, axis=1)\n",
        "    idcg[idcg == 0.] = 1.\n",
        "    ndcg = dcg / idcg\n",
        "    ndcg[torch.isnan(ndcg)] = 0.\n",
        "    return torch.mean(ndcg).item()"
      ]
    },
    {
      "cell_type": "markdown",
      "metadata": {
        "id": "YD026yCPGfgn"
      },
      "source": [
        "Definimos la función que evalúa en batches las métricas recall, precisión y NDCG para evitar problemas de memoria, procesando recomendaciones para un conjunto de usuarios."
      ]
    },
    {
      "cell_type": "code",
      "execution_count": 41,
      "metadata": {
        "id": "x6_741LlTMwI"
      },
      "outputs": [],
      "source": [
        "def get_metrics(model, edge_index, exclude_edge_indices, k, batch_size=512):\n",
        "    \"\"\"\n",
        "    Calcula las métricas de evaluación en batches para evitar desbordamiento de memoria.\n",
        "\n",
        "    Esta función evalúa el desempeño del modelo LightGCN calculando las métricas\n",
        "    de recall, precisión y NDCG en el top-k ítems recomendados para cada usuario.\n",
        "    Para manejar grandes conjuntos de datos, realiza el cálculo en lotes (batches)\n",
        "    de usuarios, excluyendo ítems ya vistos en entrenamiento para evitar sesgos en la evaluación.\n",
        "\n",
        "    Args:\n",
        "        model (LightGCN): modelo LightGCN entrenado\n",
        "        edge_index (torch.Tensor): lista 2 x N de aristas para el conjunto a evaluar\n",
        "        exclude_edge_indices (list[torch.Tensor]): lista de aristas a excluir del ranking (por ejemplo, entrenamiento)\n",
        "        k (int): número de ítems top-k para evaluar\n",
        "        batch_size (int): número de usuarios por lote\n",
        "\n",
        "    Returns:\n",
        "        tuple: recall @ k, precisión @ k, ndcg @ k\n",
        "    \"\"\"\n",
        "    user_embedding = model.users_emb.weight.detach()\n",
        "    item_embedding = model.items_emb.weight.detach()\n",
        "\n",
        "    num_users = user_embedding.shape[0]\n",
        "    users = edge_index[0].unique()\n",
        "\n",
        "    test_user_pos_items = get_user_positive_items(edge_index)\n",
        "    test_user_pos_items_list = [test_user_pos_items[user.item()] for user in users]\n",
        "\n",
        "    recall_list = []\n",
        "    precision_list = []\n",
        "    ndcg_list = []\n",
        "\n",
        "    for start in range(0, len(users), batch_size):\n",
        "        end = min(start + batch_size, len(users))\n",
        "        batch_users = users[start:end]\n",
        "\n",
        "        batch_user_emb = user_embedding[batch_users]  # (batch, emb_size)\n",
        "        rating = torch.matmul(batch_user_emb, item_embedding.T)  # (batch, num_items)\n",
        "\n",
        "        # Excluir ítems vistos en entrenamiento de la recomendación\n",
        "        for exclude_edge_index in exclude_edge_indices:\n",
        "            user_pos_items = get_user_positive_items(exclude_edge_index)\n",
        "            for i, user in enumerate(batch_users):\n",
        "                uid = user.item()\n",
        "                if uid in user_pos_items:\n",
        "                    rating[i, user_pos_items[uid]] = -(1 << 10)  # Excluir\n",
        "\n",
        "        _, top_K_items = torch.topk(rating, k=k)  # (batch, k)\n",
        "\n",
        "        r = []\n",
        "        for i, user in enumerate(batch_users):\n",
        "            uid = user.item()\n",
        "            ground_truth_items = test_user_pos_items[uid]\n",
        "            label = [item in ground_truth_items for item in top_K_items[i]]\n",
        "            r.append(label)\n",
        "\n",
        "        r = torch.tensor(np.array(r).astype('float'))\n",
        "\n",
        "        # Calcular métricas para el batch\n",
        "        batch_ground_truth = [test_user_pos_items[user.item()] for user in batch_users]\n",
        "        batch_recall, batch_precision = RecallPrecision_ATk(batch_ground_truth, r, k)\n",
        "        batch_ndcg = NDCGatK_r(batch_ground_truth, r, k)\n",
        "\n",
        "        recall_list.append(batch_recall)\n",
        "        precision_list.append(batch_precision)\n",
        "        ndcg_list.append(batch_ndcg)\n",
        "\n",
        "    # Promedio de métricas entre batches\n",
        "    recall = sum(recall_list) / len(recall_list)\n",
        "    precision = sum(precision_list) / len(precision_list)\n",
        "    ndcg = sum(ndcg_list) / len(ndcg_list)\n",
        "\n",
        "    return recall, precision, ndcg"
      ]
    },
    {
      "cell_type": "markdown",
      "metadata": {
        "id": "814t2OArGfgo"
      },
      "source": [
        "Definimos la función que realiza la evaluación completa del modelo, calculando la pérdida BPR y las métricas recall, precisión y NDCG sobre el conjunto de evaluación."
      ]
    },
    {
      "cell_type": "code",
      "execution_count": 42,
      "metadata": {
        "id": "yr_qESXASsVw"
      },
      "outputs": [],
      "source": [
        "def evaluation(model, edge_index, sparse_edge_index, exclude_edge_indices, k, lambda_val):\n",
        "    \"\"\"\n",
        "    Evalúa la pérdida del modelo y las métricas incluyendo recall, precisión y ndcg @ k\n",
        "\n",
        "    Args:\n",
        "        model (LightGCN): modelo LightGCN\n",
        "        edge_index (torch.Tensor): lista 2 x N de aristas para el conjunto a evaluar\n",
        "        sparse_edge_index (sparseTensor): matriz de adyacencia dispersa para el conjunto a evaluar\n",
        "        exclude_edge_indices ([tipo]): lista 2 x N de aristas para excluir de la evaluación\n",
        "        k (int): determina el top k de ítems para calcular las métricas\n",
        "        lambda_val (float): valor lambda para la pérdida BPR\n",
        "\n",
        "    Returns:\n",
        "        tuple: pérdida BPR, recall @ k, precisión @ k, ndcg @ k\n",
        "    \"\"\"\n",
        "    # Obtener embeddings\n",
        "    users_emb_final, users_emb_0, items_emb_final, items_emb_0 = model.forward(sparse_edge_index)\n",
        "\n",
        "    edges = structured_negative_sampling(edge_index, contains_neg_self_loops=False)\n",
        "\n",
        "    user_indices, pos_item_indices, neg_item_indices = edges[0], edges[1], edges[2]\n",
        "    users_emb_final, users_emb_0 = users_emb_final[user_indices], users_emb_0[user_indices]\n",
        "    pos_items_emb_final, pos_items_emb_0 = items_emb_final[pos_item_indices], items_emb_0[pos_item_indices]\n",
        "    neg_items_emb_final, neg_items_emb_0 = items_emb_final[neg_item_indices], items_emb_0[neg_item_indices]\n",
        "\n",
        "    loss = bpr_loss(users_emb_final, users_emb_0, pos_items_emb_final, pos_items_emb_0, neg_items_emb_final, neg_items_emb_0, lambda_val).item()\n",
        "\n",
        "    recall, precision, ndcg = get_metrics(model, edge_index, exclude_edge_indices, k, batch_size = 128)\n",
        "\n",
        "    return loss, recall, precision, ndcg"
      ]
    },
    {
      "cell_type": "markdown",
      "metadata": {
        "id": "NYw1cUgPTjws"
      },
      "source": [
        "## Entrenamiento"
      ]
    },
    {
      "cell_type": "markdown",
      "metadata": {
        "id": "slA6y27yGfgo"
      },
      "source": [
        "Definimos las variables para los parámetros clave para el entrenamiento y evaluación del modelo."
      ]
    },
    {
      "cell_type": "code",
      "execution_count": 43,
      "metadata": {
        "id": "MQL2W-NQTeFd"
      },
      "outputs": [],
      "source": [
        "ITERATIONS = 20000\n",
        "ITERS_PER_EVAL = 200\n",
        "ITERS_PER_LR_DECAY = 200\n",
        "K = 20\n",
        "LAMBDA = 1e-6\n",
        "\n",
        "# Hiperparámetros optimizados de CF\n",
        "BATCH_SIZE = 1024\n",
        "LR = 1e-3\n",
        "LAYERS = 2\n",
        "# EMBEDDING_DIM = 32 ya definido antes"
      ]
    },
    {
      "cell_type": "markdown",
      "metadata": {
        "id": "ZsSAhHG7Gfgq"
      },
      "source": [
        "Realizamos la configuración inicial para el entrenamiento."
      ]
    },
    {
      "cell_type": "code",
      "execution_count": 44,
      "metadata": {
        "colab": {
          "base_uri": "https://localhost:8080/"
        },
        "id": "49JDkBtKTfE-",
        "outputId": "a853e02b-2e08-4cbf-8e89-03ab03aae7bd"
      },
      "outputs": [
        {
          "name": "stdout",
          "output_type": "stream",
          "text": [
            "Using device cuda.\n"
          ]
        }
      ],
      "source": [
        "# Configuramos el dispositivo: usa GPU si está disponible, sino CPU.\n",
        "device = torch.device('cuda' if torch.cuda.is_available() else 'cpu')\n",
        "print(f\"Using device {device}.\")\n",
        "\n",
        "# Instanciamos el modelo\n",
        "model = LightGCN(\n",
        "    num_users=num_users,\n",
        "    num_items=num_books,\n",
        "    embedding_dim=EMBEDDING_DIM,\n",
        "    K=LAYERS,\n",
        "    item_init_emb=item_init_emb\n",
        ")\n",
        "model = model.to(device)\n",
        "model.train()\n",
        "\n",
        "# Configuramos el optimizador Adam con tasa de aprendizaje definida.\n",
        "optimizer = optim.Adam(model.parameters(), lr=LR)\n",
        "\n",
        "# Reducción de la tasa de aprendizaje de forma exponencial durante el entrenamiento.\n",
        "scheduler = optim.lr_scheduler.ExponentialLR(optimizer, gamma=0.95)\n",
        "\n",
        "# Movemos los índices de aristas al dispositivo para entrenamiento y validación.\n",
        "edge_index = edge_index.to(device)\n",
        "train_edge_index = train_edge_index.to(device)\n",
        "train_sparse_edge_index = train_sparse_edge_index.to(device)\n",
        "val_edge_index = val_edge_index.to(device)\n",
        "val_sparse_edge_index = val_sparse_edge_index.to(device)"
      ]
    },
    {
      "cell_type": "markdown",
      "metadata": {
        "id": "dZnvnXovGfgr"
      },
      "source": [
        "Llevamos a cabo el entrenamiento del modelo, donde en cada iteración se calcula la pérdida con mini batches, se actualizan los parámetros, y periódicamente se evalúa el rendimiento en el conjunto de validación."
      ]
    },
    {
      "cell_type": "code",
      "execution_count": 45,
      "metadata": {
        "colab": {
          "base_uri": "https://localhost:8080/"
        },
        "id": "wYjrDp1w-hiP",
        "outputId": "79bc4e4a-8794-4698-88fb-b543430ff260"
      },
      "outputs": [
        {
          "name": "stdout",
          "output_type": "stream",
          "text": [
            "[Iteración 200/20000] train_loss: -0.6979, val_loss: -0.69295, val_recall@20: 0.00368, val_precision@20: 0.00026, val_ndcg@20: 0.00273\n",
            "[Iteración 400/20000] train_loss: -0.72574, val_loss: -0.70802, val_recall@20: 0.26011, val_precision@20: 0.01632, val_ndcg@20: 0.16253\n",
            "[Iteración 600/20000] train_loss: -0.81841, val_loss: -0.77023, val_recall@20: 0.40821, val_precision@20: 0.02548, val_ndcg@20: 0.25199\n",
            "[Iteración 800/20000] train_loss: -1.04313, val_loss: -0.92005, val_recall@20: 0.4473, val_precision@20: 0.02803, val_ndcg@20: 0.27914\n",
            "[Iteración 1000/20000] train_loss: -1.40904, val_loss: -1.18094, val_recall@20: 0.46242, val_precision@20: 0.02914, val_ndcg@20: 0.2917\n",
            "[Iteración 1200/20000] train_loss: -1.91866, val_loss: -1.54651, val_recall@20: 0.48151, val_precision@20: 0.03041, val_ndcg@20: 0.29966\n",
            "[Iteración 1400/20000] train_loss: -2.64455, val_loss: -1.99671, val_recall@20: 0.48276, val_precision@20: 0.03052, val_ndcg@20: 0.30081\n",
            "[Iteración 1600/20000] train_loss: -3.35478, val_loss: -2.51437, val_recall@20: 0.49213, val_precision@20: 0.03103, val_ndcg@20: 0.30431\n",
            "[Iteración 1800/20000] train_loss: -4.0673, val_loss: -3.06384, val_recall@20: 0.49557, val_precision@20: 0.03127, val_ndcg@20: 0.30671\n",
            "[Iteración 2000/20000] train_loss: -4.85718, val_loss: -3.64039, val_recall@20: 0.49776, val_precision@20: 0.03142, val_ndcg@20: 0.30878\n",
            "[Iteración 2200/20000] train_loss: -5.75198, val_loss: -4.21798, val_recall@20: 0.49879, val_precision@20: 0.0315, val_ndcg@20: 0.30989\n",
            "[Iteración 2400/20000] train_loss: -6.49745, val_loss: -4.80356, val_recall@20: 0.50097, val_precision@20: 0.03156, val_ndcg@20: 0.31084\n",
            "[Iteración 2600/20000] train_loss: -7.46871, val_loss: -5.38068, val_recall@20: 0.50419, val_precision@20: 0.03171, val_ndcg@20: 0.31275\n",
            "[Iteración 2800/20000] train_loss: -7.993, val_loss: -5.95403, val_recall@20: 0.5017, val_precision@20: 0.03154, val_ndcg@20: 0.31181\n",
            "[Iteración 3000/20000] train_loss: -8.95233, val_loss: -6.51665, val_recall@20: 0.50206, val_precision@20: 0.03157, val_ndcg@20: 0.31164\n",
            "[Iteración 3200/20000] train_loss: -9.48595, val_loss: -7.05448, val_recall@20: 0.50216, val_precision@20: 0.03156, val_ndcg@20: 0.3118\n",
            "[Iteración 3400/20000] train_loss: -10.00375, val_loss: -7.58332, val_recall@20: 0.50181, val_precision@20: 0.03152, val_ndcg@20: 0.31143\n",
            "[Iteración 3600/20000] train_loss: -10.58697, val_loss: -8.10138, val_recall@20: 0.50074, val_precision@20: 0.03149, val_ndcg@20: 0.31203\n",
            "[Iteración 3800/20000] train_loss: -11.43905, val_loss: -8.59958, val_recall@20: 0.50145, val_precision@20: 0.03152, val_ndcg@20: 0.3122\n",
            "[Iteración 4000/20000] train_loss: -12.21921, val_loss: -9.08631, val_recall@20: 0.50287, val_precision@20: 0.03159, val_ndcg@20: 0.31211\n",
            "[Iteración 4200/20000] train_loss: -12.63063, val_loss: -9.55394, val_recall@20: 0.50311, val_precision@20: 0.03163, val_ndcg@20: 0.31273\n",
            "[Iteración 4400/20000] train_loss: -13.20778, val_loss: -10.00761, val_recall@20: 0.50489, val_precision@20: 0.03174, val_ndcg@20: 0.31311\n",
            "[Iteración 4600/20000] train_loss: -13.88994, val_loss: -10.43985, val_recall@20: 0.50285, val_precision@20: 0.03162, val_ndcg@20: 0.31325\n",
            "[Iteración 4800/20000] train_loss: -14.52033, val_loss: -10.85846, val_recall@20: 0.50356, val_precision@20: 0.03165, val_ndcg@20: 0.31412\n",
            "[Iteración 5000/20000] train_loss: -15.04466, val_loss: -11.25128, val_recall@20: 0.50462, val_precision@20: 0.03172, val_ndcg@20: 0.31441\n",
            "[Iteración 5200/20000] train_loss: -15.89674, val_loss: -11.64464, val_recall@20: 0.50521, val_precision@20: 0.03176, val_ndcg@20: 0.31411\n",
            "[Iteración 5400/20000] train_loss: -15.92668, val_loss: -12.01836, val_recall@20: 0.50474, val_precision@20: 0.03176, val_ndcg@20: 0.31334\n",
            "[Iteración 5600/20000] train_loss: -16.34609, val_loss: -12.37625, val_recall@20: 0.50545, val_precision@20: 0.03179, val_ndcg@20: 0.31326\n",
            "[Iteración 5800/20000] train_loss: -17.02555, val_loss: -12.71716, val_recall@20: 0.50616, val_precision@20: 0.03183, val_ndcg@20: 0.31324\n",
            "[Iteración 6000/20000] train_loss: -17.05503, val_loss: -13.04035, val_recall@20: 0.50593, val_precision@20: 0.03179, val_ndcg@20: 0.31353\n",
            "[Iteración 6200/20000] train_loss: -17.43674, val_loss: -13.35755, val_recall@20: 0.50593, val_precision@20: 0.03179, val_ndcg@20: 0.31328\n",
            "[Iteración 6400/20000] train_loss: -17.70853, val_loss: -13.65026, val_recall@20: 0.50521, val_precision@20: 0.03176, val_ndcg@20: 0.31332\n",
            "[Iteración 6600/20000] train_loss: -18.48581, val_loss: -13.94565, val_recall@20: 0.50521, val_precision@20: 0.03176, val_ndcg@20: 0.31314\n",
            "[Iteración 6800/20000] train_loss: -18.58391, val_loss: -14.21857, val_recall@20: 0.50521, val_precision@20: 0.03176, val_ndcg@20: 0.31334\n",
            "[Iteración 7000/20000] train_loss: -19.16521, val_loss: -14.46646, val_recall@20: 0.50521, val_precision@20: 0.03176, val_ndcg@20: 0.31366\n",
            "[Iteración 7200/20000] train_loss: -19.63775, val_loss: -14.72543, val_recall@20: 0.50628, val_precision@20: 0.03183, val_ndcg@20: 0.3137\n",
            "[Iteración 7400/20000] train_loss: -19.94633, val_loss: -14.97148, val_recall@20: 0.50628, val_precision@20: 0.03183, val_ndcg@20: 0.31354\n",
            "[Iteración 7600/20000] train_loss: -19.87942, val_loss: -15.1934, val_recall@20: 0.50593, val_precision@20: 0.03179, val_ndcg@20: 0.31349\n",
            "[Iteración 7800/20000] train_loss: -20.18912, val_loss: -15.41333, val_recall@20: 0.50628, val_precision@20: 0.03183, val_ndcg@20: 0.31377\n",
            "[Iteración 8000/20000] train_loss: -20.82401, val_loss: -15.62267, val_recall@20: 0.50699, val_precision@20: 0.03187, val_ndcg@20: 0.31403\n",
            "[Iteración 8200/20000] train_loss: -20.80325, val_loss: -15.81347, val_recall@20: 0.50628, val_precision@20: 0.03183, val_ndcg@20: 0.31385\n",
            "[Iteración 8400/20000] train_loss: -20.80539, val_loss: -15.99523, val_recall@20: 0.50841, val_precision@20: 0.03194, val_ndcg@20: 0.31495\n",
            "[Iteración 8600/20000] train_loss: -21.35912, val_loss: -16.18538, val_recall@20: 0.5077, val_precision@20: 0.0319, val_ndcg@20: 0.31461\n",
            "[Iteración 8800/20000] train_loss: -21.59499, val_loss: -16.36137, val_recall@20: 0.5077, val_precision@20: 0.0319, val_ndcg@20: 0.31408\n",
            "[Iteración 9000/20000] train_loss: -21.40594, val_loss: -16.52212, val_recall@20: 0.50806, val_precision@20: 0.03194, val_ndcg@20: 0.31429\n",
            "[Iteración 9200/20000] train_loss: -21.70317, val_loss: -16.66967, val_recall@20: 0.50853, val_precision@20: 0.03194, val_ndcg@20: 0.31426\n",
            "[Iteración 9400/20000] train_loss: -22.40474, val_loss: -16.83052, val_recall@20: 0.50817, val_precision@20: 0.0319, val_ndcg@20: 0.31392\n",
            "[Iteración 9600/20000] train_loss: -22.44255, val_loss: -16.95839, val_recall@20: 0.50817, val_precision@20: 0.0319, val_ndcg@20: 0.31404\n",
            "[Iteración 9800/20000] train_loss: -22.32564, val_loss: -17.10725, val_recall@20: 0.50817, val_precision@20: 0.0319, val_ndcg@20: 0.31429\n",
            "[Iteración 10000/20000] train_loss: -22.70926, val_loss: -17.23189, val_recall@20: 0.50817, val_precision@20: 0.0319, val_ndcg@20: 0.31455\n",
            "[Iteración 10200/20000] train_loss: -22.62515, val_loss: -17.35345, val_recall@20: 0.50817, val_precision@20: 0.0319, val_ndcg@20: 0.31403\n",
            "[Iteración 10400/20000] train_loss: -22.70782, val_loss: -17.47208, val_recall@20: 0.50853, val_precision@20: 0.03194, val_ndcg@20: 0.31412\n",
            "[Iteración 10600/20000] train_loss: -23.26895, val_loss: -17.57825, val_recall@20: 0.50853, val_precision@20: 0.03194, val_ndcg@20: 0.31438\n",
            "[Iteración 10800/20000] train_loss: -23.63234, val_loss: -17.68981, val_recall@20: 0.50817, val_precision@20: 0.0319, val_ndcg@20: 0.31428\n",
            "[Iteración 11000/20000] train_loss: -23.14726, val_loss: -17.79082, val_recall@20: 0.50888, val_precision@20: 0.03197, val_ndcg@20: 0.31425\n",
            "[Iteración 11200/20000] train_loss: -23.15672, val_loss: -17.88362, val_recall@20: 0.50782, val_precision@20: 0.0319, val_ndcg@20: 0.31373\n",
            "[Iteración 11400/20000] train_loss: -24.16966, val_loss: -17.97002, val_recall@20: 0.50782, val_precision@20: 0.0319, val_ndcg@20: 0.31398\n",
            "[Iteración 11600/20000] train_loss: -23.64134, val_loss: -18.06059, val_recall@20: 0.50782, val_precision@20: 0.0319, val_ndcg@20: 0.31397\n",
            "[Iteración 11800/20000] train_loss: -23.64506, val_loss: -18.14968, val_recall@20: 0.50746, val_precision@20: 0.03187, val_ndcg@20: 0.31386\n",
            "[Iteración 12000/20000] train_loss: -23.853, val_loss: -18.22363, val_recall@20: 0.50746, val_precision@20: 0.03187, val_ndcg@20: 0.31383\n",
            "[Iteración 12200/20000] train_loss: -23.96903, val_loss: -18.30836, val_recall@20: 0.50746, val_precision@20: 0.03187, val_ndcg@20: 0.31404\n",
            "[Iteración 12400/20000] train_loss: -24.25337, val_loss: -18.36104, val_recall@20: 0.50746, val_precision@20: 0.03187, val_ndcg@20: 0.31365\n",
            "[Iteración 12600/20000] train_loss: -24.15652, val_loss: -18.43907, val_recall@20: 0.50746, val_precision@20: 0.03187, val_ndcg@20: 0.31392\n",
            "[Iteración 12800/20000] train_loss: -24.36788, val_loss: -18.50323, val_recall@20: 0.50746, val_precision@20: 0.03187, val_ndcg@20: 0.31392\n",
            "[Iteración 13000/20000] train_loss: -24.24443, val_loss: -18.56697, val_recall@20: 0.50746, val_precision@20: 0.03187, val_ndcg@20: 0.31417\n",
            "[Iteración 13200/20000] train_loss: -24.19936, val_loss: -18.62958, val_recall@20: 0.50746, val_precision@20: 0.03187, val_ndcg@20: 0.3139\n",
            "[Iteración 13400/20000] train_loss: -24.25596, val_loss: -18.68139, val_recall@20: 0.50746, val_precision@20: 0.03187, val_ndcg@20: 0.31369\n",
            "[Iteración 13600/20000] train_loss: -25.19191, val_loss: -18.73432, val_recall@20: 0.50746, val_precision@20: 0.03187, val_ndcg@20: 0.31396\n",
            "[Iteración 13800/20000] train_loss: -24.99464, val_loss: -18.78589, val_recall@20: 0.50746, val_precision@20: 0.03187, val_ndcg@20: 0.31423\n",
            "[Iteración 14000/20000] train_loss: -25.07244, val_loss: -18.83326, val_recall@20: 0.50746, val_precision@20: 0.03187, val_ndcg@20: 0.31439\n",
            "[Iteración 14200/20000] train_loss: -24.76716, val_loss: -18.87446, val_recall@20: 0.50746, val_precision@20: 0.03187, val_ndcg@20: 0.3143\n",
            "[Iteración 14400/20000] train_loss: -24.9364, val_loss: -18.92132, val_recall@20: 0.50746, val_precision@20: 0.03187, val_ndcg@20: 0.31429\n",
            "[Iteración 14600/20000] train_loss: -24.80127, val_loss: -18.95375, val_recall@20: 0.50746, val_precision@20: 0.03187, val_ndcg@20: 0.31429\n",
            "[Iteración 14800/20000] train_loss: -24.7806, val_loss: -19.0037, val_recall@20: 0.50746, val_precision@20: 0.03187, val_ndcg@20: 0.31429\n",
            "[Iteración 15000/20000] train_loss: -24.9217, val_loss: -19.03275, val_recall@20: 0.50817, val_precision@20: 0.0319, val_ndcg@20: 0.3147\n",
            "[Iteración 15200/20000] train_loss: -25.14176, val_loss: -19.06979, val_recall@20: 0.50853, val_precision@20: 0.03194, val_ndcg@20: 0.3148\n",
            "[Iteración 15400/20000] train_loss: -24.75476, val_loss: -19.10983, val_recall@20: 0.50853, val_precision@20: 0.03194, val_ndcg@20: 0.31482\n",
            "[Iteración 15600/20000] train_loss: -25.37237, val_loss: -19.13371, val_recall@20: 0.50853, val_precision@20: 0.03194, val_ndcg@20: 0.31465\n",
            "[Iteración 15800/20000] train_loss: -24.92648, val_loss: -19.17007, val_recall@20: 0.50853, val_precision@20: 0.03194, val_ndcg@20: 0.31482\n",
            "[Iteración 16000/20000] train_loss: -25.43336, val_loss: -19.18599, val_recall@20: 0.50853, val_precision@20: 0.03194, val_ndcg@20: 0.31476\n",
            "[Iteración 16200/20000] train_loss: -25.35609, val_loss: -19.21145, val_recall@20: 0.50853, val_precision@20: 0.03194, val_ndcg@20: 0.31483\n",
            "[Iteración 16400/20000] train_loss: -25.87371, val_loss: -19.24545, val_recall@20: 0.50853, val_precision@20: 0.03194, val_ndcg@20: 0.31473\n",
            "[Iteración 16600/20000] train_loss: -24.76378, val_loss: -19.26704, val_recall@20: 0.50853, val_precision@20: 0.03194, val_ndcg@20: 0.31466\n",
            "[Iteración 16800/20000] train_loss: -25.17636, val_loss: -19.30142, val_recall@20: 0.50853, val_precision@20: 0.03194, val_ndcg@20: 0.31467\n",
            "[Iteración 17000/20000] train_loss: -25.28745, val_loss: -19.32135, val_recall@20: 0.50853, val_precision@20: 0.03194, val_ndcg@20: 0.31466\n",
            "[Iteración 17200/20000] train_loss: -25.60463, val_loss: -19.32496, val_recall@20: 0.50853, val_precision@20: 0.03194, val_ndcg@20: 0.31466\n",
            "[Iteración 17400/20000] train_loss: -25.62176, val_loss: -19.34883, val_recall@20: 0.50853, val_precision@20: 0.03194, val_ndcg@20: 0.31466\n",
            "[Iteración 17600/20000] train_loss: -25.70482, val_loss: -19.36357, val_recall@20: 0.50853, val_precision@20: 0.03194, val_ndcg@20: 0.31465\n",
            "[Iteración 17800/20000] train_loss: -25.37791, val_loss: -19.39189, val_recall@20: 0.50853, val_precision@20: 0.03194, val_ndcg@20: 0.31465\n",
            "[Iteración 18000/20000] train_loss: -25.91755, val_loss: -19.41301, val_recall@20: 0.50853, val_precision@20: 0.03194, val_ndcg@20: 0.31465\n",
            "[Iteración 18200/20000] train_loss: -25.73382, val_loss: -19.43489, val_recall@20: 0.50853, val_precision@20: 0.03194, val_ndcg@20: 0.31465\n",
            "[Iteración 18400/20000] train_loss: -25.7068, val_loss: -19.44172, val_recall@20: 0.50853, val_precision@20: 0.03194, val_ndcg@20: 0.31465\n",
            "[Iteración 18600/20000] train_loss: -26.30804, val_loss: -19.45965, val_recall@20: 0.50853, val_precision@20: 0.03194, val_ndcg@20: 0.31465\n",
            "[Iteración 18800/20000] train_loss: -25.58195, val_loss: -19.46857, val_recall@20: 0.50853, val_precision@20: 0.03194, val_ndcg@20: 0.31465\n",
            "[Iteración 19000/20000] train_loss: -25.58852, val_loss: -19.4878, val_recall@20: 0.50853, val_precision@20: 0.03194, val_ndcg@20: 0.31465\n",
            "[Iteración 19200/20000] train_loss: -25.40962, val_loss: -19.50089, val_recall@20: 0.50853, val_precision@20: 0.03194, val_ndcg@20: 0.31465\n",
            "[Iteración 19400/20000] train_loss: -25.67129, val_loss: -19.511, val_recall@20: 0.50853, val_precision@20: 0.03194, val_ndcg@20: 0.31465\n",
            "[Iteración 19600/20000] train_loss: -25.88986, val_loss: -19.51183, val_recall@20: 0.50853, val_precision@20: 0.03194, val_ndcg@20: 0.31465\n",
            "[Iteración 19800/20000] train_loss: -25.40242, val_loss: -19.54186, val_recall@20: 0.50853, val_precision@20: 0.03194, val_ndcg@20: 0.31465\n",
            "[Iteración 20000/20000] train_loss: -25.41722, val_loss: -19.52529, val_recall@20: 0.50853, val_precision@20: 0.03194, val_ndcg@20: 0.31465\n"
          ]
        }
      ],
      "source": [
        "train_losses = []\n",
        "val_losses = []\n",
        "\n",
        "for iter in range(ITERATIONS):\n",
        "    # Propagación\n",
        "    users_emb_final, users_emb_0, items_emb_final, items_emb_0 = model.forward(train_sparse_edge_index)\n",
        "\n",
        "    # Mini batches\n",
        "    user_indices, pos_item_indices, neg_item_indices = sample_mini_batch(BATCH_SIZE, train_edge_index)\n",
        "    user_indices, pos_item_indices, neg_item_indices = user_indices.to(device), pos_item_indices.to(device), neg_item_indices.to(device)\n",
        "\n",
        "    users_emb_final, users_emb_0 = users_emb_final[user_indices], users_emb_0[user_indices]\n",
        "    pos_items_emb_final, pos_items_emb_0 = items_emb_final[pos_item_indices], items_emb_0[pos_item_indices]\n",
        "    neg_items_emb_final, neg_items_emb_0 = items_emb_final[neg_item_indices], items_emb_0[neg_item_indices]\n",
        "\n",
        "    # Cálculo de la pérdida\n",
        "    train_loss = bpr_loss(users_emb_final, users_emb_0, pos_items_emb_final, pos_items_emb_0, neg_items_emb_final, neg_items_emb_0, LAMBDA)\n",
        "\n",
        "    optimizer.zero_grad()\n",
        "    train_loss.backward()\n",
        "    optimizer.step()\n",
        "\n",
        "    if (iter+1) % ITERS_PER_EVAL == 0:\n",
        "        model.eval()\n",
        "        val_loss, recall, precision, ndcg = evaluation(\n",
        "            model, val_edge_index, val_sparse_edge_index, [train_edge_index], K, LAMBDA)\n",
        "        print(f\"[Iteración {iter+1}/{ITERATIONS}] train_loss: {round(train_loss.item(), 5)}, val_loss: {round(val_loss, 5)}, val_recall@{K}: {round(recall, 5)}, val_precision@{K}: {round(precision, 5)}, val_ndcg@{K}: {round(ndcg, 5)}\")\n",
        "        train_losses.append(train_loss.item())\n",
        "        val_losses.append(val_loss)\n",
        "        model.train()\n",
        "\n",
        "    if (iter+1) % ITERS_PER_LR_DECAY == 0 and iter != 0:\n",
        "        scheduler.step()"
      ]
    },
    {
      "cell_type": "markdown",
      "metadata": {
        "id": "H5J2gL-qGfgs"
      },
      "source": [
        "Generamos una gráfica que muestra la evolución de la pérdida durante el entrenamiento y la validación a lo largo de las iteraciones."
      ]
    },
    {
      "cell_type": "code",
      "execution_count": 46,
      "metadata": {
        "colab": {
          "base_uri": "https://localhost:8080/",
          "height": 471
        },
        "id": "nLcdvV5iXBSv",
        "outputId": "86e1f333-1866-44be-c5f9-837abd10d004"
      },
      "outputs": [
        {
          "data": {
            "image/png": "[encoded data removed]",
            "text/plain": [
              "<Figure size 640x480 with 1 Axes>"
            ]
          },
          "metadata": {},
          "output_type": "display_data"
        }
      ],
      "source": [
        "iters = [iter * ITERS_PER_EVAL for iter in range(len(train_losses))]\n",
        "plt.plot(iters, train_losses, label='Entrenamiento')\n",
        "plt.plot(iters, val_losses, label='Validación')\n",
        "plt.xlabel('Iteración')\n",
        "plt.ylabel('Pérdida')\n",
        "plt.title('Curvas de pérdida de entrenamiento y validación')\n",
        "plt.legend()\n",
        "plt.show()"
      ]
    },
    {
      "cell_type": "markdown",
      "metadata": {
        "id": "IMfGBhbVGfgs"
      },
      "source": [
        "Evaluamos el modelo final en el conjunto de prueba y mostramos las métricas obtenidas."
      ]
    },
    {
      "cell_type": "code",
      "execution_count": null,
      "metadata": {
        "colab": {
          "base_uri": "https://localhost:8080/"
        },
        "id": "G6UjCTMQ_N5e",
        "outputId": "2da0cc16-f269-415a-9e7c-768ca3e8254a"
      },
      "outputs": [
        {
          "name": "stdout",
          "output_type": "stream",
          "text": [
            "[test_loss: -20.01131, test_recall@20: 0.52959, test_precision@20: 0.03255, test_ndcg@20: 0.32939]\n"
          ]
        }
      ],
      "source": [
        "# evaluate on test set\n",
        "model.eval()\n",
        "\n",
        "with torch.no_grad():\n",
        "    users_emb_final, _, items_emb_final, _ = model(train_sparse_edge_index)\n",
        "\n",
        "# Guardar los embeddings finales de usuarios e ítems\n",
        "torch.save({\n",
        "    'users_emb_final_HS_CBF_emb': users_emb_final.cpu(),\n",
        "    'items_emb_final_HS_CBF_emb': items_emb_final.cpu()\n",
        "}, 'HA_embeddings.pt')\n",
        "\n",
        "\n",
        "test_edge_index = test_edge_index.to(device)\n",
        "test_sparse_edge_index = test_sparse_edge_index.to(device)\n",
        "\n",
        "test_loss, test_recall, test_precision, test_ndcg = evaluation(model, test_edge_index, test_sparse_edge_index, [train_edge_index, val_edge_index], K, LAMBDA)\n",
        "\n",
        "print(f\"[test_loss: {round(test_loss, 5)}, test_recall@{K}: {round(test_recall, 5)}, test_precision@{K}: {round(test_precision, 5)}, test_ndcg@{K}: {round(test_ndcg, 5)}]\")"
      ]
    },
    {
      "cell_type": "code",
      "execution_count": null,
      "metadata": {
        "id": "Al-Bk4T2mruy"
      },
      "outputs": [],
      "source": [
        "# Guardar el modelo entrenado\n",
        "\n",
        "torch.save(model.state_dict(), 'HA_model.pth')"
      ]
    },
    {
      "cell_type": "markdown",
      "metadata": {
        "id": "oxQSAxUCvWZH"
      },
      "source": [
        "## Ejemplo de recomendaciones para usuarios"
      ]
    },
    {
      "cell_type": "code",
      "execution_count": 49,
      "metadata": {
        "id": "sfTVTiYLuLza"
      },
      "outputs": [],
      "source": [
        "# Modo evaluación (desactiva dropout, etc.)\n",
        "model.eval()\n",
        "\n",
        "# Cargamos el dataset de libros y creamos diccionarios para los títulos y géneros\n",
        "df = pd.read_csv(books_path)\n",
        "bookid_title = pd.Series(df.title.values, index=df.book_id).to_dict()\n",
        "bookid_genres = pd.Series(df.genres.values, index=df.book_id).to_dict()\n",
        "\n",
        "# Obtenemos los ítems con los que cada usuario ha interactuado positivamente\n",
        "user_pos_items = get_user_positive_items(edge_index)"
      ]
    },
    {
      "cell_type": "markdown",
      "metadata": {
        "id": "feS2yUcjGfgu"
      },
      "source": [
        "Definimos una función que genera y muestra recomendaciones personalizadas para un usuario. Incluye libros que ya le gustaron, según sus interacciones pasadas, y sugerencias nuevas que aún no ha visto."
      ]
    },
    {
      "cell_type": "code",
      "execution_count": 50,
      "metadata": {
        "id": "YWdhA-TtuLzc"
      },
      "outputs": [],
      "source": [
        "def make_predictions(user_id, num_recs):\n",
        "    # Obtenemos el índice interno y el embedding del usuario\n",
        "    user_idx = user_mapping[user_id]\n",
        "    e_u = model.users_emb.weight[user_idx]\n",
        "\n",
        "    # Similitud entre el usuario y todos los ítems (productos/libros)\n",
        "    scores = model.items_emb.weight @ e_u\n",
        "\n",
        "    # Scores ordenados de mayor a menor\n",
        "    values, indices = torch.topk(scores, k=scores.size(0))\n",
        "\n",
        "    # IDs de libros ordenados según la predicción\n",
        "    index_to_book_id = {v: k for k, v in book_mapping.items()}\n",
        "    ranked_book_ids = [index_to_book_id[i.item()] for i in indices if i.item() in index_to_book_id]\n",
        "\n",
        "    # Libros que le gustan al usuario\n",
        "    seen_books = [book for book in ranked_book_ids if book in user_pos_items[user_id]][:num_recs]\n",
        "    print(f\"Libros que el usuario {user_id} ha valorado positivamente:\")\n",
        "    for book_id in seen_books:\n",
        "        title = bookid_title.get(book_id, \"Título desconocido\")\n",
        "        genre = bookid_genres.get(book_id, \"Género desconocido\")\n",
        "        print(f\"Título: {title}, Géneros: {genre}\")\n",
        "\n",
        "    # Libros recomendados para el usuario\n",
        "    unseen_books = [book for book in ranked_book_ids if book not in user_pos_items[user_id]][:num_recs]\n",
        "    print(f\"\\nRecomendaciones de libros para el usuario {user_id}:\")\n",
        "    for book_id in unseen_books:\n",
        "        title = bookid_title.get(book_id, \"Título desconocido\")\n",
        "        genre = bookid_genres.get(book_id, \"Género desconocido\")\n",
        "        print(f\"Título: {title}, Géneros: {genre}\")"
      ]
    },
    {
      "cell_type": "markdown",
      "metadata": {
        "id": "wJ6-x6gZGfgv"
      },
      "source": [
        "Probamos nuestra función en un usuario aleatorio."
      ]
    },
    {
      "cell_type": "code",
      "execution_count": 51,
      "metadata": {
        "colab": {
          "base_uri": "https://localhost:8080/"
        },
        "id": "MpvwsdqfuLzd",
        "outputId": "2fc95bfd-8a62-45e1-f483-ddce1f77fe36"
      },
      "outputs": [
        {
          "name": "stdout",
          "output_type": "stream",
          "text": [
            "Usuario aleatorio: 279685\n",
            "Libros que el usuario 279685 ha valorado positivamente:\n",
            "Título: Be More Chill, Géneros: ['young-adult', 'fiction', 'romance', 'fantasy, paranormal']\n",
            "Título: City of the Beasts (Eagle and Jaguar, #1), Géneros: ['fantasy, paranormal', 'young-adult', 'fiction', 'children', 'mystery, thriller, crime', 'romance']\n",
            "Título: The Second Summer of the Sisterhood (Sisterhood, #2), Géneros: ['young-adult', 'fiction', 'romance', 'children']\n",
            "Título: Girls in Pants: The Third Summer of the Sisterhood (Sisterhood, #3), Géneros: ['young-adult', 'fiction', 'romance', 'children']\n",
            "\n",
            "Recomendaciones de libros para el usuario 279685:\n",
            "Título: Hidden Talents (Talents, #1), Géneros: ['young-adult', 'fantasy, paranormal', 'fiction', 'children']\n",
            "Título: How Angel Peterson Got His Name, Géneros: ['young-adult', 'non-fiction', 'history, historical fiction, biography', 'fiction', 'children', 'comics, graphic']\n",
            "Título: A House Like a Lotus (O'Keefe Family, #3), Géneros: ['young-adult', 'fiction', 'fantasy, paranormal', 'children', 'romance']\n",
            "Título: Teen Angst? Naaah..., Géneros: ['young-adult', 'non-fiction', 'history, historical fiction, biography', 'fiction']\n",
            "Título: Fighting Ruben Wolfe (Wolfe Brothers, #2), Géneros: ['young-adult', 'fiction', 'children']\n",
            "Título: The Speed of the Dark, Géneros: ['young-adult', 'fantasy, paranormal', 'mystery, thriller, crime', 'children', 'fiction']\n",
            "Título: Homecoming (Tillerman Cycle, #1), Géneros: ['young-adult', 'fiction', 'children']\n",
            "Título: Sexy, Géneros: ['young-adult', 'fiction']\n",
            "Título: Smart Boys & Fast Girls (The Girlfriend's Guide to Boys, #4), Géneros: ['young-adult', 'romance', 'fiction']\n",
            "Título: Echo, Géneros: ['young-adult', 'fantasy, paranormal', 'fiction', 'romance', 'children', 'poetry']\n"
          ]
        }
      ],
      "source": [
        "random_user_id = random.choice(list(interactions.user_id))\n",
        "print(f\"Usuario aleatorio: {random_user_id}\")\n",
        "\n",
        "make_predictions(random_user_id, num_recs=10)"
      ]
    },
    {
      "cell_type": "markdown",
      "metadata": {
        "id": "F9UPPHjHGfgw"
      },
      "source": [
        "Probamos con otro usuario."
      ]
    },
    {
      "cell_type": "code",
      "execution_count": 52,
      "metadata": {
        "colab": {
          "base_uri": "https://localhost:8080/"
        },
        "id": "8vS24rnIuLze",
        "outputId": "27570ec5-84e8-44e6-9c20-86e98b20d9d8"
      },
      "outputs": [
        {
          "name": "stdout",
          "output_type": "stream",
          "text": [
            "Libros que el usuario 14 ha valorado positivamente:\n",
            "Título: King Dork (King Dork, #1), Géneros: ['young-adult', 'fiction', 'mystery, thriller, crime', 'romance', 'children']\n",
            "Título: Trials of Death (Cirque Du Freak, #5), Géneros: ['fantasy, paranormal', 'young-adult', 'fiction', 'mystery, thriller, crime', 'children']\n",
            "Título: Vampire Mountain (Cirque Du Freak, #4), Géneros: ['fantasy, paranormal', 'young-adult', 'fiction', 'children', 'mystery, thriller, crime']\n",
            "Título: Absolutely Mahvelous, Géneros: ['history, historical fiction, biography', 'young-adult']\n",
            "Título: Dicey's Song (Tillerman Cycle, #2), Géneros: ['young-adult', 'fiction', 'children', 'history, historical fiction, biography']\n",
            "\n",
            "Recomendaciones de libros para el usuario 14:\n",
            "Título: The Lake of Souls, Géneros: ['fantasy, paranormal', 'young-adult', 'fiction', 'children', 'mystery, thriller, crime']\n",
            "Título: Cuba 15, Géneros: ['young-adult', 'fiction', 'romance']\n",
            "Título: Creepy Condors of California (American Chillers, #14), Géneros: ['children', 'fiction', 'young-adult', 'fantasy, paranormal']\n",
            "Título: Then He Ate My Boy Entrancers (Confessions of Georgia Nicolson, #6), Géneros: ['young-adult', 'romance', 'fiction', 'children']\n",
            "Título: The Red Dice (The Last Vampire #3), Géneros: ['young-adult', 'fantasy, paranormal', 'fiction', 'romance', 'mystery, thriller, crime']\n",
            "Título: Rebel Angels (Gemma Doyle, #2), Géneros: ['fantasy, paranormal', 'young-adult', 'fiction', 'history, historical fiction, biography', 'romance', 'mystery, thriller, crime']\n",
            "Título: On Fortune's Wheel (Tales of the Kingdom, #2), Géneros: ['fantasy, paranormal', 'young-adult', 'fiction', 'history, historical fiction, biography', 'romance', 'children']\n",
            "Título: What My Mother Doesn't Know (What My Mother Doesn't Know #1), Géneros: ['young-adult', 'poetry', 'romance', 'fiction']\n",
            "Título: The Speed of the Dark, Géneros: ['young-adult', 'fantasy, paranormal', 'mystery, thriller, crime', 'children', 'fiction']\n",
            "Título: Sexy, Géneros: ['young-adult', 'fiction']\n"
          ]
        }
      ],
      "source": [
        "USER_ID = 14\n",
        "NUM_RECS = 10\n",
        "\n",
        "make_predictions(USER_ID, NUM_RECS)"
      ]
    }
  ],
  "metadata": {
    "accelerator": "GPU",
    "colab": {
      "collapsed_sections": [
        "JOB5kDmtUrUY",
        "My8eqloiBccE",
        "CS7HVr3qLQGx"
      ],
      "gpuType": "T4",
      "provenance": []
    },
    "kernelspec": {
      "display_name": "Python 3",
      "name": "python3"
    },
    "language_info": {
      "name": "python",
      "version": "3.12.2"
    }
  },
  "nbformat": 4,
  "nbformat_minor": 0
}
